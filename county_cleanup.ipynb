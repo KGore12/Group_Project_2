{
 "metadata": {
  "language_info": {
   "codemirror_mode": {
    "name": "ipython",
    "version": 3
   },
   "file_extension": ".py",
   "mimetype": "text/x-python",
   "name": "python",
   "nbconvert_exporter": "python",
   "pygments_lexer": "ipython3",
   "version": "3.8.3-final"
  },
  "orig_nbformat": 2,
  "kernelspec": {
   "name": "python3",
   "display_name": "Python 3"
  }
 },
 "nbformat": 4,
 "nbformat_minor": 2,
 "cells": [
  {
   "cell_type": "code",
   "execution_count": 15,
   "metadata": {},
   "outputs": [],
   "source": [
    "import pandas as pd\n",
    "import csv\n"
   ]
  },
  {
   "cell_type": "code",
   "execution_count": 16,
   "metadata": {},
   "outputs": [
    {
     "output_type": "execute_result",
     "data": {
      "text/plain": [
       "   Unnamed: 0     county state  percentage16_Donald_Trump  \\\n",
       "0           0  Abbeville    SC                      0.629   \n",
       "1           1     Acadia    LA                      0.773   \n",
       "2           2   Accomack    VA                      0.545   \n",
       "3           3        Ada    ID                      0.479   \n",
       "4           4      Adair    IA                      0.653   \n",
       "\n",
       "   percentage16_Hillary_Clinton  total_votes16  votes16_Donald_Trump  \\\n",
       "0                         0.346        10724.0                6742.0   \n",
       "1                         0.206        27386.0               21159.0   \n",
       "2                         0.428        15755.0                8582.0   \n",
       "3                         0.387       195587.0               93748.0   \n",
       "4                         0.300         3759.0                2456.0   \n",
       "\n",
       "   votes16_Hillary_Clinton  percentage20_Donald_Trump  percentage20_Joe_Biden  \\\n",
       "0                   3712.0                      0.661                   0.330   \n",
       "1                   5638.0                      0.795                   0.191   \n",
       "2                   6737.0                      0.542                   0.447   \n",
       "3                  75676.0                      0.504                   0.465   \n",
       "4                   1127.0                      0.697                   0.286   \n",
       "\n",
       "   ...  Walk  OtherTransp  WorkAtHome  MeanCommute  Employed  PrivateWork  \\\n",
       "0  ...   1.8          1.8         6.5         25.8    9505.0         78.8   \n",
       "1  ...   1.6          2.2         2.5         27.6   24982.0         80.0   \n",
       "2  ...   2.6          1.8         4.5         22.0   13837.0         74.6   \n",
       "3  ...   1.5          2.8         6.9         20.4  214984.0         78.3   \n",
       "4  ...   2.8          0.4         6.2         22.3    3680.0         73.8   \n",
       "\n",
       "   PublicWork  SelfEmployed  FamilyWork  Unemployment  \n",
       "0        13.3           7.8         0.1           9.4  \n",
       "1        12.1           7.6         0.3           8.9  \n",
       "2        18.1           7.1         0.2           5.4  \n",
       "3        15.0           6.6         0.1           4.3  \n",
       "4        15.3          10.4         0.5           3.0  \n",
       "\n",
       "[5 rows x 51 columns]"
      ],
      "text/html": "<div>\n<style scoped>\n    .dataframe tbody tr th:only-of-type {\n        vertical-align: middle;\n    }\n\n    .dataframe tbody tr th {\n        vertical-align: top;\n    }\n\n    .dataframe thead th {\n        text-align: right;\n    }\n</style>\n<table border=\"1\" class=\"dataframe\">\n  <thead>\n    <tr style=\"text-align: right;\">\n      <th></th>\n      <th>Unnamed: 0</th>\n      <th>county</th>\n      <th>state</th>\n      <th>percentage16_Donald_Trump</th>\n      <th>percentage16_Hillary_Clinton</th>\n      <th>total_votes16</th>\n      <th>votes16_Donald_Trump</th>\n      <th>votes16_Hillary_Clinton</th>\n      <th>percentage20_Donald_Trump</th>\n      <th>percentage20_Joe_Biden</th>\n      <th>...</th>\n      <th>Walk</th>\n      <th>OtherTransp</th>\n      <th>WorkAtHome</th>\n      <th>MeanCommute</th>\n      <th>Employed</th>\n      <th>PrivateWork</th>\n      <th>PublicWork</th>\n      <th>SelfEmployed</th>\n      <th>FamilyWork</th>\n      <th>Unemployment</th>\n    </tr>\n  </thead>\n  <tbody>\n    <tr>\n      <th>0</th>\n      <td>0</td>\n      <td>Abbeville</td>\n      <td>SC</td>\n      <td>0.629</td>\n      <td>0.346</td>\n      <td>10724.0</td>\n      <td>6742.0</td>\n      <td>3712.0</td>\n      <td>0.661</td>\n      <td>0.330</td>\n      <td>...</td>\n      <td>1.8</td>\n      <td>1.8</td>\n      <td>6.5</td>\n      <td>25.8</td>\n      <td>9505.0</td>\n      <td>78.8</td>\n      <td>13.3</td>\n      <td>7.8</td>\n      <td>0.1</td>\n      <td>9.4</td>\n    </tr>\n    <tr>\n      <th>1</th>\n      <td>1</td>\n      <td>Acadia</td>\n      <td>LA</td>\n      <td>0.773</td>\n      <td>0.206</td>\n      <td>27386.0</td>\n      <td>21159.0</td>\n      <td>5638.0</td>\n      <td>0.795</td>\n      <td>0.191</td>\n      <td>...</td>\n      <td>1.6</td>\n      <td>2.2</td>\n      <td>2.5</td>\n      <td>27.6</td>\n      <td>24982.0</td>\n      <td>80.0</td>\n      <td>12.1</td>\n      <td>7.6</td>\n      <td>0.3</td>\n      <td>8.9</td>\n    </tr>\n    <tr>\n      <th>2</th>\n      <td>2</td>\n      <td>Accomack</td>\n      <td>VA</td>\n      <td>0.545</td>\n      <td>0.428</td>\n      <td>15755.0</td>\n      <td>8582.0</td>\n      <td>6737.0</td>\n      <td>0.542</td>\n      <td>0.447</td>\n      <td>...</td>\n      <td>2.6</td>\n      <td>1.8</td>\n      <td>4.5</td>\n      <td>22.0</td>\n      <td>13837.0</td>\n      <td>74.6</td>\n      <td>18.1</td>\n      <td>7.1</td>\n      <td>0.2</td>\n      <td>5.4</td>\n    </tr>\n    <tr>\n      <th>3</th>\n      <td>3</td>\n      <td>Ada</td>\n      <td>ID</td>\n      <td>0.479</td>\n      <td>0.387</td>\n      <td>195587.0</td>\n      <td>93748.0</td>\n      <td>75676.0</td>\n      <td>0.504</td>\n      <td>0.465</td>\n      <td>...</td>\n      <td>1.5</td>\n      <td>2.8</td>\n      <td>6.9</td>\n      <td>20.4</td>\n      <td>214984.0</td>\n      <td>78.3</td>\n      <td>15.0</td>\n      <td>6.6</td>\n      <td>0.1</td>\n      <td>4.3</td>\n    </tr>\n    <tr>\n      <th>4</th>\n      <td>4</td>\n      <td>Adair</td>\n      <td>IA</td>\n      <td>0.653</td>\n      <td>0.300</td>\n      <td>3759.0</td>\n      <td>2456.0</td>\n      <td>1127.0</td>\n      <td>0.697</td>\n      <td>0.286</td>\n      <td>...</td>\n      <td>2.8</td>\n      <td>0.4</td>\n      <td>6.2</td>\n      <td>22.3</td>\n      <td>3680.0</td>\n      <td>73.8</td>\n      <td>15.3</td>\n      <td>10.4</td>\n      <td>0.5</td>\n      <td>3.0</td>\n    </tr>\n  </tbody>\n</table>\n<p>5 rows × 51 columns</p>\n</div>"
     },
     "metadata": {},
     "execution_count": 16
    }
   ],
   "source": [
    "county_df = pd.read_csv(\"Raw Data/county_statistics.csv\", encoding=\"utf-8\")\n",
    "county_df.head()"
   ]
  },
  {
   "cell_type": "code",
   "execution_count": 17,
   "metadata": {},
   "outputs": [
    {
     "output_type": "execute_result",
     "data": {
      "text/plain": [
       "      county state  total_votes20  votes20_Donald_Trump  votes20_Joe_Biden  \\\n",
       "0  Abbeville    SC        12433.0                8215.0             4101.0   \n",
       "1     Acadia    LA        28425.0               22596.0             5443.0   \n",
       "2   Accomack    VA        16938.0                9172.0             7578.0   \n",
       "3        Ada    ID       259389.0              130699.0           120539.0   \n",
       "4      Adair    IA         4183.0                2917.0             1197.0   \n",
       "\n",
       "     cases  deaths  TotalPop       Men     Women  Hispanic  White  Black  \\\n",
       "0    805.0    17.0   24788.0   12044.0   12744.0       1.3   68.9   27.6   \n",
       "1   3182.0   102.0   62607.0   30433.0   32174.0       2.4   77.5   17.6   \n",
       "2   1227.0    19.0   32840.0   16079.0   16761.0       8.8   60.3   28.3   \n",
       "3  17451.0   181.0  435117.0  217999.0  217118.0       7.9   85.2    1.2   \n",
       "4    222.0     1.0    7192.0    3552.0    3640.0       1.7   96.6    0.3   \n",
       "\n",
       "   Native  Asian  Pacific  VotingAgeCitizen  \n",
       "0     0.1    0.3      0.0           19452.0  \n",
       "1     0.1    0.1      0.0           45197.0  \n",
       "2     0.3    0.7      0.0           24408.0  \n",
       "3     0.4    2.6      0.1          316189.0  \n",
       "4     0.0    0.4      0.0            5572.0  "
      ],
      "text/html": "<div>\n<style scoped>\n    .dataframe tbody tr th:only-of-type {\n        vertical-align: middle;\n    }\n\n    .dataframe tbody tr th {\n        vertical-align: top;\n    }\n\n    .dataframe thead th {\n        text-align: right;\n    }\n</style>\n<table border=\"1\" class=\"dataframe\">\n  <thead>\n    <tr style=\"text-align: right;\">\n      <th></th>\n      <th>county</th>\n      <th>state</th>\n      <th>total_votes20</th>\n      <th>votes20_Donald_Trump</th>\n      <th>votes20_Joe_Biden</th>\n      <th>cases</th>\n      <th>deaths</th>\n      <th>TotalPop</th>\n      <th>Men</th>\n      <th>Women</th>\n      <th>Hispanic</th>\n      <th>White</th>\n      <th>Black</th>\n      <th>Native</th>\n      <th>Asian</th>\n      <th>Pacific</th>\n      <th>VotingAgeCitizen</th>\n    </tr>\n  </thead>\n  <tbody>\n    <tr>\n      <th>0</th>\n      <td>Abbeville</td>\n      <td>SC</td>\n      <td>12433.0</td>\n      <td>8215.0</td>\n      <td>4101.0</td>\n      <td>805.0</td>\n      <td>17.0</td>\n      <td>24788.0</td>\n      <td>12044.0</td>\n      <td>12744.0</td>\n      <td>1.3</td>\n      <td>68.9</td>\n      <td>27.6</td>\n      <td>0.1</td>\n      <td>0.3</td>\n      <td>0.0</td>\n      <td>19452.0</td>\n    </tr>\n    <tr>\n      <th>1</th>\n      <td>Acadia</td>\n      <td>LA</td>\n      <td>28425.0</td>\n      <td>22596.0</td>\n      <td>5443.0</td>\n      <td>3182.0</td>\n      <td>102.0</td>\n      <td>62607.0</td>\n      <td>30433.0</td>\n      <td>32174.0</td>\n      <td>2.4</td>\n      <td>77.5</td>\n      <td>17.6</td>\n      <td>0.1</td>\n      <td>0.1</td>\n      <td>0.0</td>\n      <td>45197.0</td>\n    </tr>\n    <tr>\n      <th>2</th>\n      <td>Accomack</td>\n      <td>VA</td>\n      <td>16938.0</td>\n      <td>9172.0</td>\n      <td>7578.0</td>\n      <td>1227.0</td>\n      <td>19.0</td>\n      <td>32840.0</td>\n      <td>16079.0</td>\n      <td>16761.0</td>\n      <td>8.8</td>\n      <td>60.3</td>\n      <td>28.3</td>\n      <td>0.3</td>\n      <td>0.7</td>\n      <td>0.0</td>\n      <td>24408.0</td>\n    </tr>\n    <tr>\n      <th>3</th>\n      <td>Ada</td>\n      <td>ID</td>\n      <td>259389.0</td>\n      <td>130699.0</td>\n      <td>120539.0</td>\n      <td>17451.0</td>\n      <td>181.0</td>\n      <td>435117.0</td>\n      <td>217999.0</td>\n      <td>217118.0</td>\n      <td>7.9</td>\n      <td>85.2</td>\n      <td>1.2</td>\n      <td>0.4</td>\n      <td>2.6</td>\n      <td>0.1</td>\n      <td>316189.0</td>\n    </tr>\n    <tr>\n      <th>4</th>\n      <td>Adair</td>\n      <td>IA</td>\n      <td>4183.0</td>\n      <td>2917.0</td>\n      <td>1197.0</td>\n      <td>222.0</td>\n      <td>1.0</td>\n      <td>7192.0</td>\n      <td>3552.0</td>\n      <td>3640.0</td>\n      <td>1.7</td>\n      <td>96.6</td>\n      <td>0.3</td>\n      <td>0.0</td>\n      <td>0.4</td>\n      <td>0.0</td>\n      <td>5572.0</td>\n    </tr>\n  </tbody>\n</table>\n</div>"
     },
     "metadata": {},
     "execution_count": 17
    }
   ],
   "source": [
    "cleaner_df = county_df.drop(['percentage16_Donald_Trump', 'percentage16_Hillary_Clinton', 'total_votes16', 'votes16_Donald_Trump', 'votes16_Hillary_Clinton', 'percentage20_Donald_Trump', 'percentage20_Joe_Biden', 'Unemployment', 'FamilyWork', 'SelfEmployed', 'PublicWork', 'PrivateWork', 'Employed', 'MeanCommute', 'WorkAtHome', 'OtherTransp', 'Walk', 'Poverty', 'ChildPoverty', 'Professional', 'Service', 'Office', 'Construction', 'Production', 'Drive', 'Carpool', 'Transit', 'lat', 'long', 'IncomePerCapErr', 'IncomePerCap', 'Income', 'IncomeErr', 'Unnamed: 0'], axis=1)\n",
    "cleaner_df.head()\n"
   ]
  },
  {
   "cell_type": "code",
   "execution_count": 18,
   "metadata": {},
   "outputs": [
    {
     "output_type": "execute_result",
     "data": {
      "text/plain": [
       "      county state  total_votes20  votes20_Donald_Trump  votes20_Joe_Biden  \\\n",
       "0  Abbeville    SC        12433.0                8215.0             4101.0   \n",
       "1     Acadia    LA        28425.0               22596.0             5443.0   \n",
       "2   Accomack    VA        16938.0                9172.0             7578.0   \n",
       "3        Ada    ID       259389.0              130699.0           120539.0   \n",
       "4      Adair    IA         4183.0                2917.0             1197.0   \n",
       "\n",
       "     cases  deaths  TotalPop       Men     Women  Hispanic  White  Black  \\\n",
       "0    805.0    17.0   24788.0   12044.0   12744.0       1.3   68.9   27.6   \n",
       "1   3182.0   102.0   62607.0   30433.0   32174.0       2.4   77.5   17.6   \n",
       "2   1227.0    19.0   32840.0   16079.0   16761.0       8.8   60.3   28.3   \n",
       "3  17451.0   181.0  435117.0  217999.0  217118.0       7.9   85.2    1.2   \n",
       "4    222.0     1.0    7192.0    3552.0    3640.0       1.7   96.6    0.3   \n",
       "\n",
       "   Native  Asian  Pacific  VotingAgeCitizen     county_st  \n",
       "0     0.1    0.3      0.0           19452.0  Abbeville,SC  \n",
       "1     0.1    0.1      0.0           45197.0     Acadia,LA  \n",
       "2     0.3    0.7      0.0           24408.0   Accomack,VA  \n",
       "3     0.4    2.6      0.1          316189.0        Ada,ID  \n",
       "4     0.0    0.4      0.0            5572.0      Adair,IA  "
      ],
      "text/html": "<div>\n<style scoped>\n    .dataframe tbody tr th:only-of-type {\n        vertical-align: middle;\n    }\n\n    .dataframe tbody tr th {\n        vertical-align: top;\n    }\n\n    .dataframe thead th {\n        text-align: right;\n    }\n</style>\n<table border=\"1\" class=\"dataframe\">\n  <thead>\n    <tr style=\"text-align: right;\">\n      <th></th>\n      <th>county</th>\n      <th>state</th>\n      <th>total_votes20</th>\n      <th>votes20_Donald_Trump</th>\n      <th>votes20_Joe_Biden</th>\n      <th>cases</th>\n      <th>deaths</th>\n      <th>TotalPop</th>\n      <th>Men</th>\n      <th>Women</th>\n      <th>Hispanic</th>\n      <th>White</th>\n      <th>Black</th>\n      <th>Native</th>\n      <th>Asian</th>\n      <th>Pacific</th>\n      <th>VotingAgeCitizen</th>\n      <th>county_st</th>\n    </tr>\n  </thead>\n  <tbody>\n    <tr>\n      <th>0</th>\n      <td>Abbeville</td>\n      <td>SC</td>\n      <td>12433.0</td>\n      <td>8215.0</td>\n      <td>4101.0</td>\n      <td>805.0</td>\n      <td>17.0</td>\n      <td>24788.0</td>\n      <td>12044.0</td>\n      <td>12744.0</td>\n      <td>1.3</td>\n      <td>68.9</td>\n      <td>27.6</td>\n      <td>0.1</td>\n      <td>0.3</td>\n      <td>0.0</td>\n      <td>19452.0</td>\n      <td>Abbeville,SC</td>\n    </tr>\n    <tr>\n      <th>1</th>\n      <td>Acadia</td>\n      <td>LA</td>\n      <td>28425.0</td>\n      <td>22596.0</td>\n      <td>5443.0</td>\n      <td>3182.0</td>\n      <td>102.0</td>\n      <td>62607.0</td>\n      <td>30433.0</td>\n      <td>32174.0</td>\n      <td>2.4</td>\n      <td>77.5</td>\n      <td>17.6</td>\n      <td>0.1</td>\n      <td>0.1</td>\n      <td>0.0</td>\n      <td>45197.0</td>\n      <td>Acadia,LA</td>\n    </tr>\n    <tr>\n      <th>2</th>\n      <td>Accomack</td>\n      <td>VA</td>\n      <td>16938.0</td>\n      <td>9172.0</td>\n      <td>7578.0</td>\n      <td>1227.0</td>\n      <td>19.0</td>\n      <td>32840.0</td>\n      <td>16079.0</td>\n      <td>16761.0</td>\n      <td>8.8</td>\n      <td>60.3</td>\n      <td>28.3</td>\n      <td>0.3</td>\n      <td>0.7</td>\n      <td>0.0</td>\n      <td>24408.0</td>\n      <td>Accomack,VA</td>\n    </tr>\n    <tr>\n      <th>3</th>\n      <td>Ada</td>\n      <td>ID</td>\n      <td>259389.0</td>\n      <td>130699.0</td>\n      <td>120539.0</td>\n      <td>17451.0</td>\n      <td>181.0</td>\n      <td>435117.0</td>\n      <td>217999.0</td>\n      <td>217118.0</td>\n      <td>7.9</td>\n      <td>85.2</td>\n      <td>1.2</td>\n      <td>0.4</td>\n      <td>2.6</td>\n      <td>0.1</td>\n      <td>316189.0</td>\n      <td>Ada,ID</td>\n    </tr>\n    <tr>\n      <th>4</th>\n      <td>Adair</td>\n      <td>IA</td>\n      <td>4183.0</td>\n      <td>2917.0</td>\n      <td>1197.0</td>\n      <td>222.0</td>\n      <td>1.0</td>\n      <td>7192.0</td>\n      <td>3552.0</td>\n      <td>3640.0</td>\n      <td>1.7</td>\n      <td>96.6</td>\n      <td>0.3</td>\n      <td>0.0</td>\n      <td>0.4</td>\n      <td>0.0</td>\n      <td>5572.0</td>\n      <td>Adair,IA</td>\n    </tr>\n  </tbody>\n</table>\n</div>"
     },
     "metadata": {},
     "execution_count": 18
    }
   ],
   "source": [
    "cleaner_df[\"county_st\"]= cleaner_df[\"county\"]+ \",\"+ cleaner_df[\"state\"]\n",
    "cleaner_df.head()"
   ]
  },
  {
   "cell_type": "code",
   "execution_count": 19,
   "metadata": {},
   "outputs": [
    {
     "output_type": "execute_result",
     "data": {
      "text/plain": [
       "      county state  total_votes20  votes20_Donald_Trump  votes20_Joe_Biden  \\\n",
       "0  Abbeville    SC        12433.0                8215.0             4101.0   \n",
       "1     Acadia    LA        28425.0               22596.0             5443.0   \n",
       "2   Accomack    VA        16938.0                9172.0             7578.0   \n",
       "3        Ada    ID       259389.0              130699.0           120539.0   \n",
       "4      Adair    IA         4183.0                2917.0             1197.0   \n",
       "\n",
       "     cases  deaths  TotalPop       Men     Women  Hispanic  White  Black  \\\n",
       "0    805.0    17.0   24788.0   12044.0   12744.0       1.3   68.9   27.6   \n",
       "1   3182.0   102.0   62607.0   30433.0   32174.0       2.4   77.5   17.6   \n",
       "2   1227.0    19.0   32840.0   16079.0   16761.0       8.8   60.3   28.3   \n",
       "3  17451.0   181.0  435117.0  217999.0  217118.0       7.9   85.2    1.2   \n",
       "4    222.0     1.0    7192.0    3552.0    3640.0       1.7   96.6    0.3   \n",
       "\n",
       "   Native  Asian  Pacific  VotingAgeCitizen     county_st  CasesPer100K  \\\n",
       "0     0.1    0.3      0.0           19452.0  Abbeville,SC    324.753913   \n",
       "1     0.1    0.1      0.0           45197.0     Acadia,LA    508.249876   \n",
       "2     0.3    0.7      0.0           24408.0   Accomack,VA    373.629720   \n",
       "3     0.4    2.6      0.1          316189.0        Ada,ID    401.064541   \n",
       "4     0.0    0.4      0.0            5572.0      Adair,IA    308.676307   \n",
       "\n",
       "   DeathsPer100K  \n",
       "0       6.858157  \n",
       "1      16.292108  \n",
       "2       5.785627  \n",
       "3       4.159801  \n",
       "4       1.390434  "
      ],
      "text/html": "<div>\n<style scoped>\n    .dataframe tbody tr th:only-of-type {\n        vertical-align: middle;\n    }\n\n    .dataframe tbody tr th {\n        vertical-align: top;\n    }\n\n    .dataframe thead th {\n        text-align: right;\n    }\n</style>\n<table border=\"1\" class=\"dataframe\">\n  <thead>\n    <tr style=\"text-align: right;\">\n      <th></th>\n      <th>county</th>\n      <th>state</th>\n      <th>total_votes20</th>\n      <th>votes20_Donald_Trump</th>\n      <th>votes20_Joe_Biden</th>\n      <th>cases</th>\n      <th>deaths</th>\n      <th>TotalPop</th>\n      <th>Men</th>\n      <th>Women</th>\n      <th>Hispanic</th>\n      <th>White</th>\n      <th>Black</th>\n      <th>Native</th>\n      <th>Asian</th>\n      <th>Pacific</th>\n      <th>VotingAgeCitizen</th>\n      <th>county_st</th>\n      <th>CasesPer100K</th>\n      <th>DeathsPer100K</th>\n    </tr>\n  </thead>\n  <tbody>\n    <tr>\n      <th>0</th>\n      <td>Abbeville</td>\n      <td>SC</td>\n      <td>12433.0</td>\n      <td>8215.0</td>\n      <td>4101.0</td>\n      <td>805.0</td>\n      <td>17.0</td>\n      <td>24788.0</td>\n      <td>12044.0</td>\n      <td>12744.0</td>\n      <td>1.3</td>\n      <td>68.9</td>\n      <td>27.6</td>\n      <td>0.1</td>\n      <td>0.3</td>\n      <td>0.0</td>\n      <td>19452.0</td>\n      <td>Abbeville,SC</td>\n      <td>324.753913</td>\n      <td>6.858157</td>\n    </tr>\n    <tr>\n      <th>1</th>\n      <td>Acadia</td>\n      <td>LA</td>\n      <td>28425.0</td>\n      <td>22596.0</td>\n      <td>5443.0</td>\n      <td>3182.0</td>\n      <td>102.0</td>\n      <td>62607.0</td>\n      <td>30433.0</td>\n      <td>32174.0</td>\n      <td>2.4</td>\n      <td>77.5</td>\n      <td>17.6</td>\n      <td>0.1</td>\n      <td>0.1</td>\n      <td>0.0</td>\n      <td>45197.0</td>\n      <td>Acadia,LA</td>\n      <td>508.249876</td>\n      <td>16.292108</td>\n    </tr>\n    <tr>\n      <th>2</th>\n      <td>Accomack</td>\n      <td>VA</td>\n      <td>16938.0</td>\n      <td>9172.0</td>\n      <td>7578.0</td>\n      <td>1227.0</td>\n      <td>19.0</td>\n      <td>32840.0</td>\n      <td>16079.0</td>\n      <td>16761.0</td>\n      <td>8.8</td>\n      <td>60.3</td>\n      <td>28.3</td>\n      <td>0.3</td>\n      <td>0.7</td>\n      <td>0.0</td>\n      <td>24408.0</td>\n      <td>Accomack,VA</td>\n      <td>373.629720</td>\n      <td>5.785627</td>\n    </tr>\n    <tr>\n      <th>3</th>\n      <td>Ada</td>\n      <td>ID</td>\n      <td>259389.0</td>\n      <td>130699.0</td>\n      <td>120539.0</td>\n      <td>17451.0</td>\n      <td>181.0</td>\n      <td>435117.0</td>\n      <td>217999.0</td>\n      <td>217118.0</td>\n      <td>7.9</td>\n      <td>85.2</td>\n      <td>1.2</td>\n      <td>0.4</td>\n      <td>2.6</td>\n      <td>0.1</td>\n      <td>316189.0</td>\n      <td>Ada,ID</td>\n      <td>401.064541</td>\n      <td>4.159801</td>\n    </tr>\n    <tr>\n      <th>4</th>\n      <td>Adair</td>\n      <td>IA</td>\n      <td>4183.0</td>\n      <td>2917.0</td>\n      <td>1197.0</td>\n      <td>222.0</td>\n      <td>1.0</td>\n      <td>7192.0</td>\n      <td>3552.0</td>\n      <td>3640.0</td>\n      <td>1.7</td>\n      <td>96.6</td>\n      <td>0.3</td>\n      <td>0.0</td>\n      <td>0.4</td>\n      <td>0.0</td>\n      <td>5572.0</td>\n      <td>Adair,IA</td>\n      <td>308.676307</td>\n      <td>1.390434</td>\n    </tr>\n  </tbody>\n</table>\n</div>"
     },
     "metadata": {},
     "execution_count": 19
    }
   ],
   "source": [
    "#add columns to calculate cases and deaths per 100K\n",
    "cleaner_df[\"CasesPer100K\"]= (cleaner_df[\"cases\"]/cleaner_df[\"TotalPop\"])*10000\n",
    "cleaner_df[\"DeathsPer100K\"]= (cleaner_df[\"deaths\"]/cleaner_df[\"TotalPop\"])*10000\n",
    "cleaner_df.head()"
   ]
  },
  {
   "cell_type": "code",
   "execution_count": null,
   "metadata": {},
   "outputs": [],
   "source": []
  }
 ]
}
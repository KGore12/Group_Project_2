{
 "metadata": {
  "language_info": {
   "codemirror_mode": {
    "name": "ipython",
    "version": 3
   },
   "file_extension": ".py",
   "mimetype": "text/x-python",
   "name": "python",
   "nbconvert_exporter": "python",
   "pygments_lexer": "ipython3",
   "version": "3.6.10-final"
  },
  "orig_nbformat": 2,
  "kernelspec": {
   "name": "python3",
   "display_name": "Python 3"
  }
 },
 "nbformat": 4,
 "nbformat_minor": 2,
 "cells": [
  {
   "cell_type": "code",
   "execution_count": 56,
   "metadata": {},
   "outputs": [],
   "source": [
    "import pandas as pd\n",
    "import csv"
   ]
  },
  {
   "cell_type": "code",
   "execution_count": 57,
   "metadata": {},
   "outputs": [
    {
     "output_type": "execute_result",
     "data": {
      "text/plain": [
       "    Unnamed: 0     county state  percentage16_Donald_Trump  \\\n",
       "0            0  Abbeville    SC                      0.629   \n",
       "1            1     Acadia    LA                      0.773   \n",
       "2            2   Accomack    VA                      0.545   \n",
       "3            3        Ada    ID                      0.479   \n",
       "4            4      Adair    IA                      0.653   \n",
       "..         ...        ...   ...                        ...   \n",
       "95          95   Atchison    MO                      0.756   \n",
       "96          96     Athens    OH                      0.387   \n",
       "97          97   Atkinson    GA                      0.719   \n",
       "98          98   Atlantic    NJ                      0.453   \n",
       "99          99      Atoka    OK                      0.813   \n",
       "\n",
       "    percentage16_Hillary_Clinton  total_votes16  votes16_Donald_Trump  \\\n",
       "0                          0.346        10724.0                6742.0   \n",
       "1                          0.206        27386.0               21159.0   \n",
       "2                          0.428        15755.0                8582.0   \n",
       "3                          0.387       195587.0               93748.0   \n",
       "4                          0.300         3759.0                2456.0   \n",
       "..                           ...            ...                   ...   \n",
       "95                         0.199         2723.0                2059.0   \n",
       "96                         0.557        27941.0               10816.0   \n",
       "97                         0.267         2604.0                1873.0   \n",
       "98                         0.515       105738.0               47882.0   \n",
       "99                         0.159         5002.0                4068.0   \n",
       "\n",
       "    votes16_Hillary_Clinton  percentage20_Donald_Trump  \\\n",
       "0                    3712.0                      0.661   \n",
       "1                    5638.0                      0.795   \n",
       "2                    6737.0                      0.542   \n",
       "3                   75676.0                      0.504   \n",
       "4                    1127.0                      0.697   \n",
       "..                      ...                        ...   \n",
       "95                    541.0                      0.781   \n",
       "96                  15552.0                      0.418   \n",
       "97                    696.0                      0.729   \n",
       "98                  54472.0                      0.462   \n",
       "99                    795.0                      0.846   \n",
       "\n",
       "    percentage20_Joe_Biden  ...  Walk  OtherTransp  WorkAtHome  MeanCommute  \\\n",
       "0                    0.330  ...   1.8          1.8         6.5         25.8   \n",
       "1                    0.191  ...   1.6          2.2         2.5         27.6   \n",
       "2                    0.447  ...   2.6          1.8         4.5         22.0   \n",
       "3                    0.465  ...   1.5          2.8         6.9         20.4   \n",
       "4                    0.286  ...   2.8          0.4         6.2         22.3   \n",
       "..                     ...  ...   ...          ...         ...          ...   \n",
       "95                   0.200  ...   3.7          0.5         3.5         17.9   \n",
       "96                   0.565  ...  13.7          1.9         4.5         20.2   \n",
       "97                   0.261  ...   2.2          2.2         1.2         22.9   \n",
       "98                   0.523  ...   3.5          2.9         2.5         24.2   \n",
       "99                   0.142  ...   3.1          0.9         5.4         25.3   \n",
       "\n",
       "    Employed  PrivateWork  PublicWork  SelfEmployed  FamilyWork  Unemployment  \n",
       "0     9505.0         78.8        13.3           7.8         0.1           9.4  \n",
       "1    24982.0         80.0        12.1           7.6         0.3           8.9  \n",
       "2    13837.0         74.6        18.1           7.1         0.2           5.4  \n",
       "3   214984.0         78.3        15.0           6.6         0.1           4.3  \n",
       "4     3680.0         73.8        15.3          10.4         0.5           3.0  \n",
       "..       ...          ...         ...           ...         ...           ...  \n",
       "95    2666.0         75.1        17.0           7.7         0.2           4.1  \n",
       "96   27434.0         65.9        29.2           4.7         0.2           8.7  \n",
       "97    3289.0         82.8        11.6           5.6         0.0           8.4  \n",
       "98  127737.0         79.6        15.7           4.7         0.1          10.9  \n",
       "99    4664.0         68.3        22.2           9.2         0.4           6.6  \n",
       "\n",
       "[100 rows x 51 columns]"
      ],
      "text/html": "<div>\n<style scoped>\n    .dataframe tbody tr th:only-of-type {\n        vertical-align: middle;\n    }\n\n    .dataframe tbody tr th {\n        vertical-align: top;\n    }\n\n    .dataframe thead th {\n        text-align: right;\n    }\n</style>\n<table border=\"1\" class=\"dataframe\">\n  <thead>\n    <tr style=\"text-align: right;\">\n      <th></th>\n      <th>Unnamed: 0</th>\n      <th>county</th>\n      <th>state</th>\n      <th>percentage16_Donald_Trump</th>\n      <th>percentage16_Hillary_Clinton</th>\n      <th>total_votes16</th>\n      <th>votes16_Donald_Trump</th>\n      <th>votes16_Hillary_Clinton</th>\n      <th>percentage20_Donald_Trump</th>\n      <th>percentage20_Joe_Biden</th>\n      <th>...</th>\n      <th>Walk</th>\n      <th>OtherTransp</th>\n      <th>WorkAtHome</th>\n      <th>MeanCommute</th>\n      <th>Employed</th>\n      <th>PrivateWork</th>\n      <th>PublicWork</th>\n      <th>SelfEmployed</th>\n      <th>FamilyWork</th>\n      <th>Unemployment</th>\n    </tr>\n  </thead>\n  <tbody>\n    <tr>\n      <th>0</th>\n      <td>0</td>\n      <td>Abbeville</td>\n      <td>SC</td>\n      <td>0.629</td>\n      <td>0.346</td>\n      <td>10724.0</td>\n      <td>6742.0</td>\n      <td>3712.0</td>\n      <td>0.661</td>\n      <td>0.330</td>\n      <td>...</td>\n      <td>1.8</td>\n      <td>1.8</td>\n      <td>6.5</td>\n      <td>25.8</td>\n      <td>9505.0</td>\n      <td>78.8</td>\n      <td>13.3</td>\n      <td>7.8</td>\n      <td>0.1</td>\n      <td>9.4</td>\n    </tr>\n    <tr>\n      <th>1</th>\n      <td>1</td>\n      <td>Acadia</td>\n      <td>LA</td>\n      <td>0.773</td>\n      <td>0.206</td>\n      <td>27386.0</td>\n      <td>21159.0</td>\n      <td>5638.0</td>\n      <td>0.795</td>\n      <td>0.191</td>\n      <td>...</td>\n      <td>1.6</td>\n      <td>2.2</td>\n      <td>2.5</td>\n      <td>27.6</td>\n      <td>24982.0</td>\n      <td>80.0</td>\n      <td>12.1</td>\n      <td>7.6</td>\n      <td>0.3</td>\n      <td>8.9</td>\n    </tr>\n    <tr>\n      <th>2</th>\n      <td>2</td>\n      <td>Accomack</td>\n      <td>VA</td>\n      <td>0.545</td>\n      <td>0.428</td>\n      <td>15755.0</td>\n      <td>8582.0</td>\n      <td>6737.0</td>\n      <td>0.542</td>\n      <td>0.447</td>\n      <td>...</td>\n      <td>2.6</td>\n      <td>1.8</td>\n      <td>4.5</td>\n      <td>22.0</td>\n      <td>13837.0</td>\n      <td>74.6</td>\n      <td>18.1</td>\n      <td>7.1</td>\n      <td>0.2</td>\n      <td>5.4</td>\n    </tr>\n    <tr>\n      <th>3</th>\n      <td>3</td>\n      <td>Ada</td>\n      <td>ID</td>\n      <td>0.479</td>\n      <td>0.387</td>\n      <td>195587.0</td>\n      <td>93748.0</td>\n      <td>75676.0</td>\n      <td>0.504</td>\n      <td>0.465</td>\n      <td>...</td>\n      <td>1.5</td>\n      <td>2.8</td>\n      <td>6.9</td>\n      <td>20.4</td>\n      <td>214984.0</td>\n      <td>78.3</td>\n      <td>15.0</td>\n      <td>6.6</td>\n      <td>0.1</td>\n      <td>4.3</td>\n    </tr>\n    <tr>\n      <th>4</th>\n      <td>4</td>\n      <td>Adair</td>\n      <td>IA</td>\n      <td>0.653</td>\n      <td>0.300</td>\n      <td>3759.0</td>\n      <td>2456.0</td>\n      <td>1127.0</td>\n      <td>0.697</td>\n      <td>0.286</td>\n      <td>...</td>\n      <td>2.8</td>\n      <td>0.4</td>\n      <td>6.2</td>\n      <td>22.3</td>\n      <td>3680.0</td>\n      <td>73.8</td>\n      <td>15.3</td>\n      <td>10.4</td>\n      <td>0.5</td>\n      <td>3.0</td>\n    </tr>\n    <tr>\n      <th>...</th>\n      <td>...</td>\n      <td>...</td>\n      <td>...</td>\n      <td>...</td>\n      <td>...</td>\n      <td>...</td>\n      <td>...</td>\n      <td>...</td>\n      <td>...</td>\n      <td>...</td>\n      <td>...</td>\n      <td>...</td>\n      <td>...</td>\n      <td>...</td>\n      <td>...</td>\n      <td>...</td>\n      <td>...</td>\n      <td>...</td>\n      <td>...</td>\n      <td>...</td>\n      <td>...</td>\n    </tr>\n    <tr>\n      <th>95</th>\n      <td>95</td>\n      <td>Atchison</td>\n      <td>MO</td>\n      <td>0.756</td>\n      <td>0.199</td>\n      <td>2723.0</td>\n      <td>2059.0</td>\n      <td>541.0</td>\n      <td>0.781</td>\n      <td>0.200</td>\n      <td>...</td>\n      <td>3.7</td>\n      <td>0.5</td>\n      <td>3.5</td>\n      <td>17.9</td>\n      <td>2666.0</td>\n      <td>75.1</td>\n      <td>17.0</td>\n      <td>7.7</td>\n      <td>0.2</td>\n      <td>4.1</td>\n    </tr>\n    <tr>\n      <th>96</th>\n      <td>96</td>\n      <td>Athens</td>\n      <td>OH</td>\n      <td>0.387</td>\n      <td>0.557</td>\n      <td>27941.0</td>\n      <td>10816.0</td>\n      <td>15552.0</td>\n      <td>0.418</td>\n      <td>0.565</td>\n      <td>...</td>\n      <td>13.7</td>\n      <td>1.9</td>\n      <td>4.5</td>\n      <td>20.2</td>\n      <td>27434.0</td>\n      <td>65.9</td>\n      <td>29.2</td>\n      <td>4.7</td>\n      <td>0.2</td>\n      <td>8.7</td>\n    </tr>\n    <tr>\n      <th>97</th>\n      <td>97</td>\n      <td>Atkinson</td>\n      <td>GA</td>\n      <td>0.719</td>\n      <td>0.267</td>\n      <td>2604.0</td>\n      <td>1873.0</td>\n      <td>696.0</td>\n      <td>0.729</td>\n      <td>0.261</td>\n      <td>...</td>\n      <td>2.2</td>\n      <td>2.2</td>\n      <td>1.2</td>\n      <td>22.9</td>\n      <td>3289.0</td>\n      <td>82.8</td>\n      <td>11.6</td>\n      <td>5.6</td>\n      <td>0.0</td>\n      <td>8.4</td>\n    </tr>\n    <tr>\n      <th>98</th>\n      <td>98</td>\n      <td>Atlantic</td>\n      <td>NJ</td>\n      <td>0.453</td>\n      <td>0.515</td>\n      <td>105738.0</td>\n      <td>47882.0</td>\n      <td>54472.0</td>\n      <td>0.462</td>\n      <td>0.523</td>\n      <td>...</td>\n      <td>3.5</td>\n      <td>2.9</td>\n      <td>2.5</td>\n      <td>24.2</td>\n      <td>127737.0</td>\n      <td>79.6</td>\n      <td>15.7</td>\n      <td>4.7</td>\n      <td>0.1</td>\n      <td>10.9</td>\n    </tr>\n    <tr>\n      <th>99</th>\n      <td>99</td>\n      <td>Atoka</td>\n      <td>OK</td>\n      <td>0.813</td>\n      <td>0.159</td>\n      <td>5002.0</td>\n      <td>4068.0</td>\n      <td>795.0</td>\n      <td>0.846</td>\n      <td>0.142</td>\n      <td>...</td>\n      <td>3.1</td>\n      <td>0.9</td>\n      <td>5.4</td>\n      <td>25.3</td>\n      <td>4664.0</td>\n      <td>68.3</td>\n      <td>22.2</td>\n      <td>9.2</td>\n      <td>0.4</td>\n      <td>6.6</td>\n    </tr>\n  </tbody>\n</table>\n<p>100 rows × 51 columns</p>\n</div>"
     },
     "metadata": {},
     "execution_count": 57
    }
   ],
   "source": [
    "county_df = pd.read_csv(\"Raw Data/county_statistics.csv\", encoding=\"utf-8\")\n",
    "county_df.head(100)"
   ]
  },
  {
   "cell_type": "code",
   "execution_count": 58,
   "metadata": {},
   "outputs": [
    {
     "output_type": "execute_result",
     "data": {
      "text/plain": [
       "      county state  total_votes16  total_votes20  votes20_Donald_Trump  \\\n",
       "0  Abbeville    SC        10724.0        12433.0                8215.0   \n",
       "1     Acadia    LA        27386.0        28425.0               22596.0   \n",
       "2   Accomack    VA        15755.0        16938.0                9172.0   \n",
       "3        Ada    ID       195587.0       259389.0              130699.0   \n",
       "4      Adair    IA         3759.0         4183.0                2917.0   \n",
       "\n",
       "   votes20_Joe_Biden    cases  deaths  TotalPop       Men     Women  Hispanic  \\\n",
       "0             4101.0    805.0    17.0   24788.0   12044.0   12744.0       1.3   \n",
       "1             5443.0   3182.0   102.0   62607.0   30433.0   32174.0       2.4   \n",
       "2             7578.0   1227.0    19.0   32840.0   16079.0   16761.0       8.8   \n",
       "3           120539.0  17451.0   181.0  435117.0  217999.0  217118.0       7.9   \n",
       "4             1197.0    222.0     1.0    7192.0    3552.0    3640.0       1.7   \n",
       "\n",
       "   White  Black  Native  Asian  Pacific  VotingAgeCitizen  \n",
       "0   68.9   27.6     0.1    0.3      0.0           19452.0  \n",
       "1   77.5   17.6     0.1    0.1      0.0           45197.0  \n",
       "2   60.3   28.3     0.3    0.7      0.0           24408.0  \n",
       "3   85.2    1.2     0.4    2.6      0.1          316189.0  \n",
       "4   96.6    0.3     0.0    0.4      0.0            5572.0  "
      ],
      "text/html": "<div>\n<style scoped>\n    .dataframe tbody tr th:only-of-type {\n        vertical-align: middle;\n    }\n\n    .dataframe tbody tr th {\n        vertical-align: top;\n    }\n\n    .dataframe thead th {\n        text-align: right;\n    }\n</style>\n<table border=\"1\" class=\"dataframe\">\n  <thead>\n    <tr style=\"text-align: right;\">\n      <th></th>\n      <th>county</th>\n      <th>state</th>\n      <th>total_votes16</th>\n      <th>total_votes20</th>\n      <th>votes20_Donald_Trump</th>\n      <th>votes20_Joe_Biden</th>\n      <th>cases</th>\n      <th>deaths</th>\n      <th>TotalPop</th>\n      <th>Men</th>\n      <th>Women</th>\n      <th>Hispanic</th>\n      <th>White</th>\n      <th>Black</th>\n      <th>Native</th>\n      <th>Asian</th>\n      <th>Pacific</th>\n      <th>VotingAgeCitizen</th>\n    </tr>\n  </thead>\n  <tbody>\n    <tr>\n      <th>0</th>\n      <td>Abbeville</td>\n      <td>SC</td>\n      <td>10724.0</td>\n      <td>12433.0</td>\n      <td>8215.0</td>\n      <td>4101.0</td>\n      <td>805.0</td>\n      <td>17.0</td>\n      <td>24788.0</td>\n      <td>12044.0</td>\n      <td>12744.0</td>\n      <td>1.3</td>\n      <td>68.9</td>\n      <td>27.6</td>\n      <td>0.1</td>\n      <td>0.3</td>\n      <td>0.0</td>\n      <td>19452.0</td>\n    </tr>\n    <tr>\n      <th>1</th>\n      <td>Acadia</td>\n      <td>LA</td>\n      <td>27386.0</td>\n      <td>28425.0</td>\n      <td>22596.0</td>\n      <td>5443.0</td>\n      <td>3182.0</td>\n      <td>102.0</td>\n      <td>62607.0</td>\n      <td>30433.0</td>\n      <td>32174.0</td>\n      <td>2.4</td>\n      <td>77.5</td>\n      <td>17.6</td>\n      <td>0.1</td>\n      <td>0.1</td>\n      <td>0.0</td>\n      <td>45197.0</td>\n    </tr>\n    <tr>\n      <th>2</th>\n      <td>Accomack</td>\n      <td>VA</td>\n      <td>15755.0</td>\n      <td>16938.0</td>\n      <td>9172.0</td>\n      <td>7578.0</td>\n      <td>1227.0</td>\n      <td>19.0</td>\n      <td>32840.0</td>\n      <td>16079.0</td>\n      <td>16761.0</td>\n      <td>8.8</td>\n      <td>60.3</td>\n      <td>28.3</td>\n      <td>0.3</td>\n      <td>0.7</td>\n      <td>0.0</td>\n      <td>24408.0</td>\n    </tr>\n    <tr>\n      <th>3</th>\n      <td>Ada</td>\n      <td>ID</td>\n      <td>195587.0</td>\n      <td>259389.0</td>\n      <td>130699.0</td>\n      <td>120539.0</td>\n      <td>17451.0</td>\n      <td>181.0</td>\n      <td>435117.0</td>\n      <td>217999.0</td>\n      <td>217118.0</td>\n      <td>7.9</td>\n      <td>85.2</td>\n      <td>1.2</td>\n      <td>0.4</td>\n      <td>2.6</td>\n      <td>0.1</td>\n      <td>316189.0</td>\n    </tr>\n    <tr>\n      <th>4</th>\n      <td>Adair</td>\n      <td>IA</td>\n      <td>3759.0</td>\n      <td>4183.0</td>\n      <td>2917.0</td>\n      <td>1197.0</td>\n      <td>222.0</td>\n      <td>1.0</td>\n      <td>7192.0</td>\n      <td>3552.0</td>\n      <td>3640.0</td>\n      <td>1.7</td>\n      <td>96.6</td>\n      <td>0.3</td>\n      <td>0.0</td>\n      <td>0.4</td>\n      <td>0.0</td>\n      <td>5572.0</td>\n    </tr>\n  </tbody>\n</table>\n</div>"
     },
     "metadata": {},
     "execution_count": 58
    }
   ],
   "source": [
    "cleaner_df = county_df.drop(['percentage16_Donald_Trump', 'percentage16_Hillary_Clinton', 'votes16_Donald_Trump', 'votes16_Hillary_Clinton', 'percentage20_Donald_Trump', 'percentage20_Joe_Biden', 'Unemployment', 'FamilyWork', 'SelfEmployed', 'PublicWork', 'PrivateWork', 'Employed', 'MeanCommute', 'WorkAtHome', 'OtherTransp', 'Walk', 'Poverty', 'ChildPoverty', 'Professional', 'Service', 'Office', 'Construction', 'Production', 'Drive', 'Carpool', 'Transit', 'lat', 'long', 'IncomePerCapErr', 'IncomePerCap', 'Income', 'IncomeErr', 'Unnamed: 0'], axis=1)\n",
    "cleaner_df.head()\n"
   ]
  },
  {
   "cell_type": "code",
   "execution_count": 59,
   "metadata": {},
   "outputs": [
    {
     "output_type": "execute_result",
     "data": {
      "text/plain": [
       "      county state  total_votes16  total_votes20  votes20_Donald_Trump  \\\n",
       "0  Abbeville    SC        10724.0        12433.0                8215.0   \n",
       "1     Acadia    LA        27386.0        28425.0               22596.0   \n",
       "2   Accomack    VA        15755.0        16938.0                9172.0   \n",
       "3        Ada    ID       195587.0       259389.0              130699.0   \n",
       "4      Adair    IA         3759.0         4183.0                2917.0   \n",
       "\n",
       "   votes20_Joe_Biden    cases  deaths  TotalPop       Men     Women  Hispanic  \\\n",
       "0             4101.0    805.0    17.0   24788.0   12044.0   12744.0       1.3   \n",
       "1             5443.0   3182.0   102.0   62607.0   30433.0   32174.0       2.4   \n",
       "2             7578.0   1227.0    19.0   32840.0   16079.0   16761.0       8.8   \n",
       "3           120539.0  17451.0   181.0  435117.0  217999.0  217118.0       7.9   \n",
       "4             1197.0    222.0     1.0    7192.0    3552.0    3640.0       1.7   \n",
       "\n",
       "   White  Black  Native  Asian  Pacific  VotingAgeCitizen     county_st  \n",
       "0   68.9   27.6     0.1    0.3      0.0           19452.0  Abbeville,SC  \n",
       "1   77.5   17.6     0.1    0.1      0.0           45197.0     Acadia,LA  \n",
       "2   60.3   28.3     0.3    0.7      0.0           24408.0   Accomack,VA  \n",
       "3   85.2    1.2     0.4    2.6      0.1          316189.0        Ada,ID  \n",
       "4   96.6    0.3     0.0    0.4      0.0            5572.0      Adair,IA  "
      ],
      "text/html": "<div>\n<style scoped>\n    .dataframe tbody tr th:only-of-type {\n        vertical-align: middle;\n    }\n\n    .dataframe tbody tr th {\n        vertical-align: top;\n    }\n\n    .dataframe thead th {\n        text-align: right;\n    }\n</style>\n<table border=\"1\" class=\"dataframe\">\n  <thead>\n    <tr style=\"text-align: right;\">\n      <th></th>\n      <th>county</th>\n      <th>state</th>\n      <th>total_votes16</th>\n      <th>total_votes20</th>\n      <th>votes20_Donald_Trump</th>\n      <th>votes20_Joe_Biden</th>\n      <th>cases</th>\n      <th>deaths</th>\n      <th>TotalPop</th>\n      <th>Men</th>\n      <th>Women</th>\n      <th>Hispanic</th>\n      <th>White</th>\n      <th>Black</th>\n      <th>Native</th>\n      <th>Asian</th>\n      <th>Pacific</th>\n      <th>VotingAgeCitizen</th>\n      <th>county_st</th>\n    </tr>\n  </thead>\n  <tbody>\n    <tr>\n      <th>0</th>\n      <td>Abbeville</td>\n      <td>SC</td>\n      <td>10724.0</td>\n      <td>12433.0</td>\n      <td>8215.0</td>\n      <td>4101.0</td>\n      <td>805.0</td>\n      <td>17.0</td>\n      <td>24788.0</td>\n      <td>12044.0</td>\n      <td>12744.0</td>\n      <td>1.3</td>\n      <td>68.9</td>\n      <td>27.6</td>\n      <td>0.1</td>\n      <td>0.3</td>\n      <td>0.0</td>\n      <td>19452.0</td>\n      <td>Abbeville,SC</td>\n    </tr>\n    <tr>\n      <th>1</th>\n      <td>Acadia</td>\n      <td>LA</td>\n      <td>27386.0</td>\n      <td>28425.0</td>\n      <td>22596.0</td>\n      <td>5443.0</td>\n      <td>3182.0</td>\n      <td>102.0</td>\n      <td>62607.0</td>\n      <td>30433.0</td>\n      <td>32174.0</td>\n      <td>2.4</td>\n      <td>77.5</td>\n      <td>17.6</td>\n      <td>0.1</td>\n      <td>0.1</td>\n      <td>0.0</td>\n      <td>45197.0</td>\n      <td>Acadia,LA</td>\n    </tr>\n    <tr>\n      <th>2</th>\n      <td>Accomack</td>\n      <td>VA</td>\n      <td>15755.0</td>\n      <td>16938.0</td>\n      <td>9172.0</td>\n      <td>7578.0</td>\n      <td>1227.0</td>\n      <td>19.0</td>\n      <td>32840.0</td>\n      <td>16079.0</td>\n      <td>16761.0</td>\n      <td>8.8</td>\n      <td>60.3</td>\n      <td>28.3</td>\n      <td>0.3</td>\n      <td>0.7</td>\n      <td>0.0</td>\n      <td>24408.0</td>\n      <td>Accomack,VA</td>\n    </tr>\n    <tr>\n      <th>3</th>\n      <td>Ada</td>\n      <td>ID</td>\n      <td>195587.0</td>\n      <td>259389.0</td>\n      <td>130699.0</td>\n      <td>120539.0</td>\n      <td>17451.0</td>\n      <td>181.0</td>\n      <td>435117.0</td>\n      <td>217999.0</td>\n      <td>217118.0</td>\n      <td>7.9</td>\n      <td>85.2</td>\n      <td>1.2</td>\n      <td>0.4</td>\n      <td>2.6</td>\n      <td>0.1</td>\n      <td>316189.0</td>\n      <td>Ada,ID</td>\n    </tr>\n    <tr>\n      <th>4</th>\n      <td>Adair</td>\n      <td>IA</td>\n      <td>3759.0</td>\n      <td>4183.0</td>\n      <td>2917.0</td>\n      <td>1197.0</td>\n      <td>222.0</td>\n      <td>1.0</td>\n      <td>7192.0</td>\n      <td>3552.0</td>\n      <td>3640.0</td>\n      <td>1.7</td>\n      <td>96.6</td>\n      <td>0.3</td>\n      <td>0.0</td>\n      <td>0.4</td>\n      <td>0.0</td>\n      <td>5572.0</td>\n      <td>Adair,IA</td>\n    </tr>\n  </tbody>\n</table>\n</div>"
     },
     "metadata": {},
     "execution_count": 59
    }
   ],
   "source": [
    "cleaner_df[\"county_st\"]= cleaner_df[\"county\"]+ \",\"+ cleaner_df[\"state\"]\n",
    "cleaner_df.head()"
   ]
  },
  {
   "cell_type": "code",
   "execution_count": 60,
   "metadata": {},
   "outputs": [],
   "source": [
    "cleaner_df['hispanic %'] = cleaner_df['Hispanic']/100\n",
    "\n",
    "cleaner_df['white %'] = cleaner_df['White']/100\n",
    "\n",
    "cleaner_df['black %'] = cleaner_df['Black']/100\n",
    "\n",
    "cleaner_df['native %'] = cleaner_df['Native']/100\n",
    "\n",
    "cleaner_df['asian %'] = cleaner_df['Asian']/100\n",
    "\n",
    "cleaner_df['pacific %'] = cleaner_df['Pacific']/100"
   ]
  },
  {
   "cell_type": "code",
   "execution_count": 61,
   "metadata": {},
   "outputs": [],
   "source": [
    "cleaner_df['hispanic_pop'] = round(cleaner_df['TotalPop'] * cleaner_df['hispanic %'])\n",
    "\n",
    "cleaner_df['white_pop'] = round(cleaner_df['TotalPop'] * cleaner_df['white %'])\n",
    "\n",
    "cleaner_df['black_pop'] = round(cleaner_df['TotalPop'] * cleaner_df['black %'])\n",
    "\n",
    "cleaner_df['native_pop'] = round(cleaner_df['TotalPop'] * cleaner_df['native %'])\n",
    "\n",
    "cleaner_df['asian_pop'] = round(cleaner_df['TotalPop'] * cleaner_df['asian %'])\n",
    "\n",
    "cleaner_df['pacific_pop'] = round(cleaner_df['TotalPop'] * cleaner_df['pacific %'])"
   ]
  },
  {
   "cell_type": "code",
   "execution_count": 62,
   "metadata": {},
   "outputs": [
    {
     "output_type": "execute_result",
     "data": {
      "text/plain": [
       "                          county state  total_votes16  total_votes20  \\\n",
       "0                      Abbeville    SC        10724.0        12433.0   \n",
       "1                         Acadia    LA        27386.0        28425.0   \n",
       "2                       Accomack    VA        15755.0        16938.0   \n",
       "3                            Ada    ID       195587.0       259389.0   \n",
       "4                          Adair    IA         3759.0         4183.0   \n",
       "...                          ...   ...            ...            ...   \n",
       "4862  Valdez-Cordova Census Area    AK            NaN            NaN   \n",
       "4863   Wrangell City and Borough    AK            NaN            NaN   \n",
       "4864    Yakutat City and Borough    AK            NaN            NaN   \n",
       "4865   Yukon-Koyukuk Census Area    AK            NaN            NaN   \n",
       "4866                    Doña Ana    NM            NaN            NaN   \n",
       "\n",
       "      votes20_Donald_Trump  votes20_Joe_Biden    cases  deaths  TotalPop  \\\n",
       "0                   8215.0             4101.0    805.0    17.0   24788.0   \n",
       "1                  22596.0             5443.0   3182.0   102.0   62607.0   \n",
       "2                   9172.0             7578.0   1227.0    19.0   32840.0   \n",
       "3                 130699.0           120539.0  17451.0   181.0  435117.0   \n",
       "4                   2917.0             1197.0    222.0     1.0    7192.0   \n",
       "...                    ...                ...      ...     ...       ...   \n",
       "4862                   NaN                NaN      NaN     NaN    9439.0   \n",
       "4863                   NaN                NaN      NaN     NaN    2475.0   \n",
       "4864                   NaN                NaN      NaN     NaN     682.0   \n",
       "4865                   NaN                NaN      NaN     NaN    5453.0   \n",
       "4866                   NaN                NaN      NaN     NaN  213849.0   \n",
       "\n",
       "           Men  ...  asian %  pacific %  hispanic_pop  white_pop  black_pop  \\\n",
       "0      12044.0  ...    0.003      0.000         322.0    17079.0     6841.0   \n",
       "1      30433.0  ...    0.001      0.000        1503.0    48520.0    11019.0   \n",
       "2      16079.0  ...    0.007      0.000        2890.0    19803.0     9294.0   \n",
       "3     217999.0  ...    0.026      0.001       34374.0   370720.0     5221.0   \n",
       "4       3552.0  ...    0.004      0.000         122.0     6947.0       22.0   \n",
       "...        ...  ...      ...        ...           ...        ...        ...   \n",
       "4862    4901.0  ...    0.028      0.006         453.0     6626.0        9.0   \n",
       "4863    1280.0  ...    0.031      0.000          79.0     1594.0        5.0   \n",
       "4864     366.0  ...    0.054      0.013          38.0      298.0        6.0   \n",
       "4865    2936.0  ...    0.007      0.000         115.0     1161.0        5.0   \n",
       "4866  105094.0  ...    0.010      0.000      144776.0    59878.0     3422.0   \n",
       "\n",
       "      native_pop  asian_pop  pacific_pop cases_per_100k  deaths_per_100k  \n",
       "0           25.0       74.0          0.0    3247.539132        68.581572  \n",
       "1           63.0       63.0          0.0    5082.498762       162.921079  \n",
       "2           99.0      230.0          0.0    3736.297199        57.856273  \n",
       "3         1740.0    11313.0        435.0    4010.645413        41.598007  \n",
       "4            0.0       29.0          0.0    3086.763070        13.904338  \n",
       "...          ...        ...          ...            ...              ...  \n",
       "4862      1255.0      264.0         57.0            NaN              NaN  \n",
       "4863       510.0       77.0          0.0            NaN              NaN  \n",
       "4864       193.0       37.0          9.0            NaN              NaN  \n",
       "4865      3839.0       38.0          0.0            NaN              NaN  \n",
       "4866      1497.0     2138.0          0.0            NaN              NaN  \n",
       "\n",
       "[4867 rows x 33 columns]"
      ],
      "text/html": "<div>\n<style scoped>\n    .dataframe tbody tr th:only-of-type {\n        vertical-align: middle;\n    }\n\n    .dataframe tbody tr th {\n        vertical-align: top;\n    }\n\n    .dataframe thead th {\n        text-align: right;\n    }\n</style>\n<table border=\"1\" class=\"dataframe\">\n  <thead>\n    <tr style=\"text-align: right;\">\n      <th></th>\n      <th>county</th>\n      <th>state</th>\n      <th>total_votes16</th>\n      <th>total_votes20</th>\n      <th>votes20_Donald_Trump</th>\n      <th>votes20_Joe_Biden</th>\n      <th>cases</th>\n      <th>deaths</th>\n      <th>TotalPop</th>\n      <th>Men</th>\n      <th>...</th>\n      <th>asian %</th>\n      <th>pacific %</th>\n      <th>hispanic_pop</th>\n      <th>white_pop</th>\n      <th>black_pop</th>\n      <th>native_pop</th>\n      <th>asian_pop</th>\n      <th>pacific_pop</th>\n      <th>cases_per_100k</th>\n      <th>deaths_per_100k</th>\n    </tr>\n  </thead>\n  <tbody>\n    <tr>\n      <th>0</th>\n      <td>Abbeville</td>\n      <td>SC</td>\n      <td>10724.0</td>\n      <td>12433.0</td>\n      <td>8215.0</td>\n      <td>4101.0</td>\n      <td>805.0</td>\n      <td>17.0</td>\n      <td>24788.0</td>\n      <td>12044.0</td>\n      <td>...</td>\n      <td>0.003</td>\n      <td>0.000</td>\n      <td>322.0</td>\n      <td>17079.0</td>\n      <td>6841.0</td>\n      <td>25.0</td>\n      <td>74.0</td>\n      <td>0.0</td>\n      <td>3247.539132</td>\n      <td>68.581572</td>\n    </tr>\n    <tr>\n      <th>1</th>\n      <td>Acadia</td>\n      <td>LA</td>\n      <td>27386.0</td>\n      <td>28425.0</td>\n      <td>22596.0</td>\n      <td>5443.0</td>\n      <td>3182.0</td>\n      <td>102.0</td>\n      <td>62607.0</td>\n      <td>30433.0</td>\n      <td>...</td>\n      <td>0.001</td>\n      <td>0.000</td>\n      <td>1503.0</td>\n      <td>48520.0</td>\n      <td>11019.0</td>\n      <td>63.0</td>\n      <td>63.0</td>\n      <td>0.0</td>\n      <td>5082.498762</td>\n      <td>162.921079</td>\n    </tr>\n    <tr>\n      <th>2</th>\n      <td>Accomack</td>\n      <td>VA</td>\n      <td>15755.0</td>\n      <td>16938.0</td>\n      <td>9172.0</td>\n      <td>7578.0</td>\n      <td>1227.0</td>\n      <td>19.0</td>\n      <td>32840.0</td>\n      <td>16079.0</td>\n      <td>...</td>\n      <td>0.007</td>\n      <td>0.000</td>\n      <td>2890.0</td>\n      <td>19803.0</td>\n      <td>9294.0</td>\n      <td>99.0</td>\n      <td>230.0</td>\n      <td>0.0</td>\n      <td>3736.297199</td>\n      <td>57.856273</td>\n    </tr>\n    <tr>\n      <th>3</th>\n      <td>Ada</td>\n      <td>ID</td>\n      <td>195587.0</td>\n      <td>259389.0</td>\n      <td>130699.0</td>\n      <td>120539.0</td>\n      <td>17451.0</td>\n      <td>181.0</td>\n      <td>435117.0</td>\n      <td>217999.0</td>\n      <td>...</td>\n      <td>0.026</td>\n      <td>0.001</td>\n      <td>34374.0</td>\n      <td>370720.0</td>\n      <td>5221.0</td>\n      <td>1740.0</td>\n      <td>11313.0</td>\n      <td>435.0</td>\n      <td>4010.645413</td>\n      <td>41.598007</td>\n    </tr>\n    <tr>\n      <th>4</th>\n      <td>Adair</td>\n      <td>IA</td>\n      <td>3759.0</td>\n      <td>4183.0</td>\n      <td>2917.0</td>\n      <td>1197.0</td>\n      <td>222.0</td>\n      <td>1.0</td>\n      <td>7192.0</td>\n      <td>3552.0</td>\n      <td>...</td>\n      <td>0.004</td>\n      <td>0.000</td>\n      <td>122.0</td>\n      <td>6947.0</td>\n      <td>22.0</td>\n      <td>0.0</td>\n      <td>29.0</td>\n      <td>0.0</td>\n      <td>3086.763070</td>\n      <td>13.904338</td>\n    </tr>\n    <tr>\n      <th>...</th>\n      <td>...</td>\n      <td>...</td>\n      <td>...</td>\n      <td>...</td>\n      <td>...</td>\n      <td>...</td>\n      <td>...</td>\n      <td>...</td>\n      <td>...</td>\n      <td>...</td>\n      <td>...</td>\n      <td>...</td>\n      <td>...</td>\n      <td>...</td>\n      <td>...</td>\n      <td>...</td>\n      <td>...</td>\n      <td>...</td>\n      <td>...</td>\n      <td>...</td>\n      <td>...</td>\n    </tr>\n    <tr>\n      <th>4862</th>\n      <td>Valdez-Cordova Census Area</td>\n      <td>AK</td>\n      <td>NaN</td>\n      <td>NaN</td>\n      <td>NaN</td>\n      <td>NaN</td>\n      <td>NaN</td>\n      <td>NaN</td>\n      <td>9439.0</td>\n      <td>4901.0</td>\n      <td>...</td>\n      <td>0.028</td>\n      <td>0.006</td>\n      <td>453.0</td>\n      <td>6626.0</td>\n      <td>9.0</td>\n      <td>1255.0</td>\n      <td>264.0</td>\n      <td>57.0</td>\n      <td>NaN</td>\n      <td>NaN</td>\n    </tr>\n    <tr>\n      <th>4863</th>\n      <td>Wrangell City and Borough</td>\n      <td>AK</td>\n      <td>NaN</td>\n      <td>NaN</td>\n      <td>NaN</td>\n      <td>NaN</td>\n      <td>NaN</td>\n      <td>NaN</td>\n      <td>2475.0</td>\n      <td>1280.0</td>\n      <td>...</td>\n      <td>0.031</td>\n      <td>0.000</td>\n      <td>79.0</td>\n      <td>1594.0</td>\n      <td>5.0</td>\n      <td>510.0</td>\n      <td>77.0</td>\n      <td>0.0</td>\n      <td>NaN</td>\n      <td>NaN</td>\n    </tr>\n    <tr>\n      <th>4864</th>\n      <td>Yakutat City and Borough</td>\n      <td>AK</td>\n      <td>NaN</td>\n      <td>NaN</td>\n      <td>NaN</td>\n      <td>NaN</td>\n      <td>NaN</td>\n      <td>NaN</td>\n      <td>682.0</td>\n      <td>366.0</td>\n      <td>...</td>\n      <td>0.054</td>\n      <td>0.013</td>\n      <td>38.0</td>\n      <td>298.0</td>\n      <td>6.0</td>\n      <td>193.0</td>\n      <td>37.0</td>\n      <td>9.0</td>\n      <td>NaN</td>\n      <td>NaN</td>\n    </tr>\n    <tr>\n      <th>4865</th>\n      <td>Yukon-Koyukuk Census Area</td>\n      <td>AK</td>\n      <td>NaN</td>\n      <td>NaN</td>\n      <td>NaN</td>\n      <td>NaN</td>\n      <td>NaN</td>\n      <td>NaN</td>\n      <td>5453.0</td>\n      <td>2936.0</td>\n      <td>...</td>\n      <td>0.007</td>\n      <td>0.000</td>\n      <td>115.0</td>\n      <td>1161.0</td>\n      <td>5.0</td>\n      <td>3839.0</td>\n      <td>38.0</td>\n      <td>0.0</td>\n      <td>NaN</td>\n      <td>NaN</td>\n    </tr>\n    <tr>\n      <th>4866</th>\n      <td>Doña Ana</td>\n      <td>NM</td>\n      <td>NaN</td>\n      <td>NaN</td>\n      <td>NaN</td>\n      <td>NaN</td>\n      <td>NaN</td>\n      <td>NaN</td>\n      <td>213849.0</td>\n      <td>105094.0</td>\n      <td>...</td>\n      <td>0.010</td>\n      <td>0.000</td>\n      <td>144776.0</td>\n      <td>59878.0</td>\n      <td>3422.0</td>\n      <td>1497.0</td>\n      <td>2138.0</td>\n      <td>0.0</td>\n      <td>NaN</td>\n      <td>NaN</td>\n    </tr>\n  </tbody>\n</table>\n<p>4867 rows × 33 columns</p>\n</div>"
     },
     "metadata": {},
     "execution_count": 62
    }
   ],
   "source": [
    "#add columns to calculate cases and deaths per 100K\n",
    "cleaner_df[\"cases_per_100k\"]= (cleaner_df[\"cases\"]/cleaner_df[\"TotalPop\"])*100000\n",
    "cleaner_df[\"deaths_per_100k\"]= (cleaner_df[\"deaths\"]/cleaner_df[\"TotalPop\"])*100000\n",
    "cleaner_df"
   ]
  },
  {
   "cell_type": "code",
   "execution_count": 63,
   "metadata": {},
   "outputs": [
    {
     "output_type": "execute_result",
     "data": {
      "text/plain": [
       "         county state  total_votes16  total_votes20  votes20_donald_trump  \\\n",
       "0     Abbeville    SC        10724.0        12433.0                8215.0   \n",
       "1        Acadia    LA        27386.0        28425.0               22596.0   \n",
       "2      Accomack    VA        15755.0        16938.0                9172.0   \n",
       "3           Ada    ID       195587.0       259389.0              130699.0   \n",
       "4         Adair    IA         3759.0         4183.0                2917.0   \n",
       "...         ...   ...            ...            ...                   ...   \n",
       "3106       Yuma    AZ        40759.0        68427.0               35766.0   \n",
       "3107       Yuma    CO         4664.0         4885.0                4037.0   \n",
       "3108     Zapata    TX         3134.0         3867.0                2032.0   \n",
       "3109     Zavala    TX         3390.0         4379.0                1490.0   \n",
       "3110    Ziebach    SD          766.0          906.0                 404.0   \n",
       "\n",
       "      votes20_joe_biden    cases  deaths  totalpop       men  ...  asian %  \\\n",
       "0                4101.0    805.0    17.0   24788.0   12044.0  ...    0.003   \n",
       "1                5443.0   3182.0   102.0   62607.0   30433.0  ...    0.001   \n",
       "2                7578.0   1227.0    19.0   32840.0   16079.0  ...    0.007   \n",
       "3              120539.0  17451.0   181.0  435117.0  217999.0  ...    0.026   \n",
       "4                1197.0    222.0     1.0    7192.0    3552.0  ...    0.004   \n",
       "...                 ...      ...     ...       ...       ...  ...      ...   \n",
       "3106            31562.0  13994.0   358.0  204281.0  104914.0  ...    0.011   \n",
       "3107              763.0    227.0     1.0   10109.0    5010.0  ...    0.000   \n",
       "3108             1820.0    358.0     9.0   14415.0    7190.0  ...    0.007   \n",
       "3109             2864.0    470.0    19.0   12152.0    6163.0  ...    0.000   \n",
       "3110              481.0    108.0     2.0    2837.0    1421.0  ...    0.010   \n",
       "\n",
       "      pacific %  hispanic_pop  white_pop  black_pop  native_pop  asian_pop  \\\n",
       "0         0.000         322.0    17079.0     6841.0        25.0       74.0   \n",
       "1         0.000        1503.0    48520.0    11019.0        63.0       63.0   \n",
       "2         0.000        2890.0    19803.0     9294.0        99.0      230.0   \n",
       "3         0.001       34374.0   370720.0     5221.0      1740.0    11313.0   \n",
       "4         0.000         122.0     6947.0       22.0         0.0       29.0   \n",
       "...         ...           ...        ...        ...         ...        ...   \n",
       "3106      0.001      128493.0    64961.0     3677.0      1839.0     2247.0   \n",
       "3107      0.000        2285.0     7653.0       51.0        30.0        0.0   \n",
       "3108      0.000       13565.0      750.0        0.0         0.0      101.0   \n",
       "3109      0.000       11374.0      656.0       61.0        12.0        0.0   \n",
       "3110      0.000          11.0      664.0        0.0      2114.0       28.0   \n",
       "\n",
       "      pacific_pop cases_per_100k  deaths_per_100k  \n",
       "0             0.0    3247.539132        68.581572  \n",
       "1             0.0    5082.498762       162.921079  \n",
       "2             0.0    3736.297199        57.856273  \n",
       "3           435.0    4010.645413        41.598007  \n",
       "4             0.0    3086.763070        13.904338  \n",
       "...           ...            ...              ...  \n",
       "3106        204.0    6850.367876       175.248799  \n",
       "3107          0.0    2245.523791         9.892175  \n",
       "3108          0.0    2483.524107        62.434964  \n",
       "3109          0.0    3867.676103       156.352864  \n",
       "3110          0.0    3806.838209        70.497004  \n",
       "\n",
       "[3111 rows x 33 columns]"
      ],
      "text/html": "<div>\n<style scoped>\n    .dataframe tbody tr th:only-of-type {\n        vertical-align: middle;\n    }\n\n    .dataframe tbody tr th {\n        vertical-align: top;\n    }\n\n    .dataframe thead th {\n        text-align: right;\n    }\n</style>\n<table border=\"1\" class=\"dataframe\">\n  <thead>\n    <tr style=\"text-align: right;\">\n      <th></th>\n      <th>county</th>\n      <th>state</th>\n      <th>total_votes16</th>\n      <th>total_votes20</th>\n      <th>votes20_donald_trump</th>\n      <th>votes20_joe_biden</th>\n      <th>cases</th>\n      <th>deaths</th>\n      <th>totalpop</th>\n      <th>men</th>\n      <th>...</th>\n      <th>asian %</th>\n      <th>pacific %</th>\n      <th>hispanic_pop</th>\n      <th>white_pop</th>\n      <th>black_pop</th>\n      <th>native_pop</th>\n      <th>asian_pop</th>\n      <th>pacific_pop</th>\n      <th>cases_per_100k</th>\n      <th>deaths_per_100k</th>\n    </tr>\n  </thead>\n  <tbody>\n    <tr>\n      <th>0</th>\n      <td>Abbeville</td>\n      <td>SC</td>\n      <td>10724.0</td>\n      <td>12433.0</td>\n      <td>8215.0</td>\n      <td>4101.0</td>\n      <td>805.0</td>\n      <td>17.0</td>\n      <td>24788.0</td>\n      <td>12044.0</td>\n      <td>...</td>\n      <td>0.003</td>\n      <td>0.000</td>\n      <td>322.0</td>\n      <td>17079.0</td>\n      <td>6841.0</td>\n      <td>25.0</td>\n      <td>74.0</td>\n      <td>0.0</td>\n      <td>3247.539132</td>\n      <td>68.581572</td>\n    </tr>\n    <tr>\n      <th>1</th>\n      <td>Acadia</td>\n      <td>LA</td>\n      <td>27386.0</td>\n      <td>28425.0</td>\n      <td>22596.0</td>\n      <td>5443.0</td>\n      <td>3182.0</td>\n      <td>102.0</td>\n      <td>62607.0</td>\n      <td>30433.0</td>\n      <td>...</td>\n      <td>0.001</td>\n      <td>0.000</td>\n      <td>1503.0</td>\n      <td>48520.0</td>\n      <td>11019.0</td>\n      <td>63.0</td>\n      <td>63.0</td>\n      <td>0.0</td>\n      <td>5082.498762</td>\n      <td>162.921079</td>\n    </tr>\n    <tr>\n      <th>2</th>\n      <td>Accomack</td>\n      <td>VA</td>\n      <td>15755.0</td>\n      <td>16938.0</td>\n      <td>9172.0</td>\n      <td>7578.0</td>\n      <td>1227.0</td>\n      <td>19.0</td>\n      <td>32840.0</td>\n      <td>16079.0</td>\n      <td>...</td>\n      <td>0.007</td>\n      <td>0.000</td>\n      <td>2890.0</td>\n      <td>19803.0</td>\n      <td>9294.0</td>\n      <td>99.0</td>\n      <td>230.0</td>\n      <td>0.0</td>\n      <td>3736.297199</td>\n      <td>57.856273</td>\n    </tr>\n    <tr>\n      <th>3</th>\n      <td>Ada</td>\n      <td>ID</td>\n      <td>195587.0</td>\n      <td>259389.0</td>\n      <td>130699.0</td>\n      <td>120539.0</td>\n      <td>17451.0</td>\n      <td>181.0</td>\n      <td>435117.0</td>\n      <td>217999.0</td>\n      <td>...</td>\n      <td>0.026</td>\n      <td>0.001</td>\n      <td>34374.0</td>\n      <td>370720.0</td>\n      <td>5221.0</td>\n      <td>1740.0</td>\n      <td>11313.0</td>\n      <td>435.0</td>\n      <td>4010.645413</td>\n      <td>41.598007</td>\n    </tr>\n    <tr>\n      <th>4</th>\n      <td>Adair</td>\n      <td>IA</td>\n      <td>3759.0</td>\n      <td>4183.0</td>\n      <td>2917.0</td>\n      <td>1197.0</td>\n      <td>222.0</td>\n      <td>1.0</td>\n      <td>7192.0</td>\n      <td>3552.0</td>\n      <td>...</td>\n      <td>0.004</td>\n      <td>0.000</td>\n      <td>122.0</td>\n      <td>6947.0</td>\n      <td>22.0</td>\n      <td>0.0</td>\n      <td>29.0</td>\n      <td>0.0</td>\n      <td>3086.763070</td>\n      <td>13.904338</td>\n    </tr>\n    <tr>\n      <th>...</th>\n      <td>...</td>\n      <td>...</td>\n      <td>...</td>\n      <td>...</td>\n      <td>...</td>\n      <td>...</td>\n      <td>...</td>\n      <td>...</td>\n      <td>...</td>\n      <td>...</td>\n      <td>...</td>\n      <td>...</td>\n      <td>...</td>\n      <td>...</td>\n      <td>...</td>\n      <td>...</td>\n      <td>...</td>\n      <td>...</td>\n      <td>...</td>\n      <td>...</td>\n      <td>...</td>\n    </tr>\n    <tr>\n      <th>3106</th>\n      <td>Yuma</td>\n      <td>AZ</td>\n      <td>40759.0</td>\n      <td>68427.0</td>\n      <td>35766.0</td>\n      <td>31562.0</td>\n      <td>13994.0</td>\n      <td>358.0</td>\n      <td>204281.0</td>\n      <td>104914.0</td>\n      <td>...</td>\n      <td>0.011</td>\n      <td>0.001</td>\n      <td>128493.0</td>\n      <td>64961.0</td>\n      <td>3677.0</td>\n      <td>1839.0</td>\n      <td>2247.0</td>\n      <td>204.0</td>\n      <td>6850.367876</td>\n      <td>175.248799</td>\n    </tr>\n    <tr>\n      <th>3107</th>\n      <td>Yuma</td>\n      <td>CO</td>\n      <td>4664.0</td>\n      <td>4885.0</td>\n      <td>4037.0</td>\n      <td>763.0</td>\n      <td>227.0</td>\n      <td>1.0</td>\n      <td>10109.0</td>\n      <td>5010.0</td>\n      <td>...</td>\n      <td>0.000</td>\n      <td>0.000</td>\n      <td>2285.0</td>\n      <td>7653.0</td>\n      <td>51.0</td>\n      <td>30.0</td>\n      <td>0.0</td>\n      <td>0.0</td>\n      <td>2245.523791</td>\n      <td>9.892175</td>\n    </tr>\n    <tr>\n      <th>3108</th>\n      <td>Zapata</td>\n      <td>TX</td>\n      <td>3134.0</td>\n      <td>3867.0</td>\n      <td>2032.0</td>\n      <td>1820.0</td>\n      <td>358.0</td>\n      <td>9.0</td>\n      <td>14415.0</td>\n      <td>7190.0</td>\n      <td>...</td>\n      <td>0.007</td>\n      <td>0.000</td>\n      <td>13565.0</td>\n      <td>750.0</td>\n      <td>0.0</td>\n      <td>0.0</td>\n      <td>101.0</td>\n      <td>0.0</td>\n      <td>2483.524107</td>\n      <td>62.434964</td>\n    </tr>\n    <tr>\n      <th>3109</th>\n      <td>Zavala</td>\n      <td>TX</td>\n      <td>3390.0</td>\n      <td>4379.0</td>\n      <td>1490.0</td>\n      <td>2864.0</td>\n      <td>470.0</td>\n      <td>19.0</td>\n      <td>12152.0</td>\n      <td>6163.0</td>\n      <td>...</td>\n      <td>0.000</td>\n      <td>0.000</td>\n      <td>11374.0</td>\n      <td>656.0</td>\n      <td>61.0</td>\n      <td>12.0</td>\n      <td>0.0</td>\n      <td>0.0</td>\n      <td>3867.676103</td>\n      <td>156.352864</td>\n    </tr>\n    <tr>\n      <th>3110</th>\n      <td>Ziebach</td>\n      <td>SD</td>\n      <td>766.0</td>\n      <td>906.0</td>\n      <td>404.0</td>\n      <td>481.0</td>\n      <td>108.0</td>\n      <td>2.0</td>\n      <td>2837.0</td>\n      <td>1421.0</td>\n      <td>...</td>\n      <td>0.010</td>\n      <td>0.000</td>\n      <td>11.0</td>\n      <td>664.0</td>\n      <td>0.0</td>\n      <td>2114.0</td>\n      <td>28.0</td>\n      <td>0.0</td>\n      <td>3806.838209</td>\n      <td>70.497004</td>\n    </tr>\n  </tbody>\n</table>\n<p>3111 rows × 33 columns</p>\n</div>"
     },
     "metadata": {},
     "execution_count": 63
    }
   ],
   "source": [
    "cleaner_df.columns = map(str.lower, cleaner_df.columns)\n",
    "dropped_df = cleaner_df.dropna(axis=0, subset=['total_votes16'])\n",
    "dropped_df"
   ]
  },
  {
   "cell_type": "code",
   "execution_count": 64,
   "metadata": {},
   "outputs": [
    {
     "output_type": "execute_result",
     "data": {
      "text/plain": [
       "         county state  total_votes20  votes20_donald_trump  votes20_joe_biden  \\\n",
       "0     Abbeville    SC        12433.0                8215.0             4101.0   \n",
       "1        Acadia    LA        28425.0               22596.0             5443.0   \n",
       "2      Accomack    VA        16938.0                9172.0             7578.0   \n",
       "3           Ada    ID       259389.0              130699.0           120539.0   \n",
       "4         Adair    IA         4183.0                2917.0             1197.0   \n",
       "...         ...   ...            ...                   ...                ...   \n",
       "3106       Yuma    AZ        68427.0               35766.0            31562.0   \n",
       "3107       Yuma    CO         4885.0                4037.0              763.0   \n",
       "3108     Zapata    TX         3867.0                2032.0             1820.0   \n",
       "3109     Zavala    TX         4379.0                1490.0             2864.0   \n",
       "3110    Ziebach    SD          906.0                 404.0              481.0   \n",
       "\n",
       "        cases  deaths  totalpop       men     women  ...  asian % pacific %  \\\n",
       "0       805.0    17.0   24788.0   12044.0   12744.0  ...    0.003     0.000   \n",
       "1      3182.0   102.0   62607.0   30433.0   32174.0  ...    0.001     0.000   \n",
       "2      1227.0    19.0   32840.0   16079.0   16761.0  ...    0.007     0.000   \n",
       "3     17451.0   181.0  435117.0  217999.0  217118.0  ...    0.026     0.001   \n",
       "4       222.0     1.0    7192.0    3552.0    3640.0  ...    0.004     0.000   \n",
       "...       ...     ...       ...       ...       ...  ...      ...       ...   \n",
       "3106  13994.0   358.0  204281.0  104914.0   99367.0  ...    0.011     0.001   \n",
       "3107    227.0     1.0   10109.0    5010.0    5099.0  ...    0.000     0.000   \n",
       "3108    358.0     9.0   14415.0    7190.0    7225.0  ...    0.007     0.000   \n",
       "3109    470.0    19.0   12152.0    6163.0    5989.0  ...    0.000     0.000   \n",
       "3110    108.0     2.0    2837.0    1421.0    1416.0  ...    0.010     0.000   \n",
       "\n",
       "      hispanic_pop  white_pop  black_pop  native_pop  asian_pop  pacific_pop  \\\n",
       "0            322.0    17079.0     6841.0        25.0       74.0          0.0   \n",
       "1           1503.0    48520.0    11019.0        63.0       63.0          0.0   \n",
       "2           2890.0    19803.0     9294.0        99.0      230.0          0.0   \n",
       "3          34374.0   370720.0     5221.0      1740.0    11313.0        435.0   \n",
       "4            122.0     6947.0       22.0         0.0       29.0          0.0   \n",
       "...            ...        ...        ...         ...        ...          ...   \n",
       "3106      128493.0    64961.0     3677.0      1839.0     2247.0        204.0   \n",
       "3107        2285.0     7653.0       51.0        30.0        0.0          0.0   \n",
       "3108       13565.0      750.0        0.0         0.0      101.0          0.0   \n",
       "3109       11374.0      656.0       61.0        12.0        0.0          0.0   \n",
       "3110          11.0      664.0        0.0      2114.0       28.0          0.0   \n",
       "\n",
       "      cases_per_100k  deaths_per_100k  \n",
       "0        3247.539132        68.581572  \n",
       "1        5082.498762       162.921079  \n",
       "2        3736.297199        57.856273  \n",
       "3        4010.645413        41.598007  \n",
       "4        3086.763070        13.904338  \n",
       "...              ...              ...  \n",
       "3106     6850.367876       175.248799  \n",
       "3107     2245.523791         9.892175  \n",
       "3108     2483.524107        62.434964  \n",
       "3109     3867.676103       156.352864  \n",
       "3110     3806.838209        70.497004  \n",
       "\n",
       "[3111 rows x 26 columns]"
      ],
      "text/html": "<div>\n<style scoped>\n    .dataframe tbody tr th:only-of-type {\n        vertical-align: middle;\n    }\n\n    .dataframe tbody tr th {\n        vertical-align: top;\n    }\n\n    .dataframe thead th {\n        text-align: right;\n    }\n</style>\n<table border=\"1\" class=\"dataframe\">\n  <thead>\n    <tr style=\"text-align: right;\">\n      <th></th>\n      <th>county</th>\n      <th>state</th>\n      <th>total_votes20</th>\n      <th>votes20_donald_trump</th>\n      <th>votes20_joe_biden</th>\n      <th>cases</th>\n      <th>deaths</th>\n      <th>totalpop</th>\n      <th>men</th>\n      <th>women</th>\n      <th>...</th>\n      <th>asian %</th>\n      <th>pacific %</th>\n      <th>hispanic_pop</th>\n      <th>white_pop</th>\n      <th>black_pop</th>\n      <th>native_pop</th>\n      <th>asian_pop</th>\n      <th>pacific_pop</th>\n      <th>cases_per_100k</th>\n      <th>deaths_per_100k</th>\n    </tr>\n  </thead>\n  <tbody>\n    <tr>\n      <th>0</th>\n      <td>Abbeville</td>\n      <td>SC</td>\n      <td>12433.0</td>\n      <td>8215.0</td>\n      <td>4101.0</td>\n      <td>805.0</td>\n      <td>17.0</td>\n      <td>24788.0</td>\n      <td>12044.0</td>\n      <td>12744.0</td>\n      <td>...</td>\n      <td>0.003</td>\n      <td>0.000</td>\n      <td>322.0</td>\n      <td>17079.0</td>\n      <td>6841.0</td>\n      <td>25.0</td>\n      <td>74.0</td>\n      <td>0.0</td>\n      <td>3247.539132</td>\n      <td>68.581572</td>\n    </tr>\n    <tr>\n      <th>1</th>\n      <td>Acadia</td>\n      <td>LA</td>\n      <td>28425.0</td>\n      <td>22596.0</td>\n      <td>5443.0</td>\n      <td>3182.0</td>\n      <td>102.0</td>\n      <td>62607.0</td>\n      <td>30433.0</td>\n      <td>32174.0</td>\n      <td>...</td>\n      <td>0.001</td>\n      <td>0.000</td>\n      <td>1503.0</td>\n      <td>48520.0</td>\n      <td>11019.0</td>\n      <td>63.0</td>\n      <td>63.0</td>\n      <td>0.0</td>\n      <td>5082.498762</td>\n      <td>162.921079</td>\n    </tr>\n    <tr>\n      <th>2</th>\n      <td>Accomack</td>\n      <td>VA</td>\n      <td>16938.0</td>\n      <td>9172.0</td>\n      <td>7578.0</td>\n      <td>1227.0</td>\n      <td>19.0</td>\n      <td>32840.0</td>\n      <td>16079.0</td>\n      <td>16761.0</td>\n      <td>...</td>\n      <td>0.007</td>\n      <td>0.000</td>\n      <td>2890.0</td>\n      <td>19803.0</td>\n      <td>9294.0</td>\n      <td>99.0</td>\n      <td>230.0</td>\n      <td>0.0</td>\n      <td>3736.297199</td>\n      <td>57.856273</td>\n    </tr>\n    <tr>\n      <th>3</th>\n      <td>Ada</td>\n      <td>ID</td>\n      <td>259389.0</td>\n      <td>130699.0</td>\n      <td>120539.0</td>\n      <td>17451.0</td>\n      <td>181.0</td>\n      <td>435117.0</td>\n      <td>217999.0</td>\n      <td>217118.0</td>\n      <td>...</td>\n      <td>0.026</td>\n      <td>0.001</td>\n      <td>34374.0</td>\n      <td>370720.0</td>\n      <td>5221.0</td>\n      <td>1740.0</td>\n      <td>11313.0</td>\n      <td>435.0</td>\n      <td>4010.645413</td>\n      <td>41.598007</td>\n    </tr>\n    <tr>\n      <th>4</th>\n      <td>Adair</td>\n      <td>IA</td>\n      <td>4183.0</td>\n      <td>2917.0</td>\n      <td>1197.0</td>\n      <td>222.0</td>\n      <td>1.0</td>\n      <td>7192.0</td>\n      <td>3552.0</td>\n      <td>3640.0</td>\n      <td>...</td>\n      <td>0.004</td>\n      <td>0.000</td>\n      <td>122.0</td>\n      <td>6947.0</td>\n      <td>22.0</td>\n      <td>0.0</td>\n      <td>29.0</td>\n      <td>0.0</td>\n      <td>3086.763070</td>\n      <td>13.904338</td>\n    </tr>\n    <tr>\n      <th>...</th>\n      <td>...</td>\n      <td>...</td>\n      <td>...</td>\n      <td>...</td>\n      <td>...</td>\n      <td>...</td>\n      <td>...</td>\n      <td>...</td>\n      <td>...</td>\n      <td>...</td>\n      <td>...</td>\n      <td>...</td>\n      <td>...</td>\n      <td>...</td>\n      <td>...</td>\n      <td>...</td>\n      <td>...</td>\n      <td>...</td>\n      <td>...</td>\n      <td>...</td>\n      <td>...</td>\n    </tr>\n    <tr>\n      <th>3106</th>\n      <td>Yuma</td>\n      <td>AZ</td>\n      <td>68427.0</td>\n      <td>35766.0</td>\n      <td>31562.0</td>\n      <td>13994.0</td>\n      <td>358.0</td>\n      <td>204281.0</td>\n      <td>104914.0</td>\n      <td>99367.0</td>\n      <td>...</td>\n      <td>0.011</td>\n      <td>0.001</td>\n      <td>128493.0</td>\n      <td>64961.0</td>\n      <td>3677.0</td>\n      <td>1839.0</td>\n      <td>2247.0</td>\n      <td>204.0</td>\n      <td>6850.367876</td>\n      <td>175.248799</td>\n    </tr>\n    <tr>\n      <th>3107</th>\n      <td>Yuma</td>\n      <td>CO</td>\n      <td>4885.0</td>\n      <td>4037.0</td>\n      <td>763.0</td>\n      <td>227.0</td>\n      <td>1.0</td>\n      <td>10109.0</td>\n      <td>5010.0</td>\n      <td>5099.0</td>\n      <td>...</td>\n      <td>0.000</td>\n      <td>0.000</td>\n      <td>2285.0</td>\n      <td>7653.0</td>\n      <td>51.0</td>\n      <td>30.0</td>\n      <td>0.0</td>\n      <td>0.0</td>\n      <td>2245.523791</td>\n      <td>9.892175</td>\n    </tr>\n    <tr>\n      <th>3108</th>\n      <td>Zapata</td>\n      <td>TX</td>\n      <td>3867.0</td>\n      <td>2032.0</td>\n      <td>1820.0</td>\n      <td>358.0</td>\n      <td>9.0</td>\n      <td>14415.0</td>\n      <td>7190.0</td>\n      <td>7225.0</td>\n      <td>...</td>\n      <td>0.007</td>\n      <td>0.000</td>\n      <td>13565.0</td>\n      <td>750.0</td>\n      <td>0.0</td>\n      <td>0.0</td>\n      <td>101.0</td>\n      <td>0.0</td>\n      <td>2483.524107</td>\n      <td>62.434964</td>\n    </tr>\n    <tr>\n      <th>3109</th>\n      <td>Zavala</td>\n      <td>TX</td>\n      <td>4379.0</td>\n      <td>1490.0</td>\n      <td>2864.0</td>\n      <td>470.0</td>\n      <td>19.0</td>\n      <td>12152.0</td>\n      <td>6163.0</td>\n      <td>5989.0</td>\n      <td>...</td>\n      <td>0.000</td>\n      <td>0.000</td>\n      <td>11374.0</td>\n      <td>656.0</td>\n      <td>61.0</td>\n      <td>12.0</td>\n      <td>0.0</td>\n      <td>0.0</td>\n      <td>3867.676103</td>\n      <td>156.352864</td>\n    </tr>\n    <tr>\n      <th>3110</th>\n      <td>Ziebach</td>\n      <td>SD</td>\n      <td>906.0</td>\n      <td>404.0</td>\n      <td>481.0</td>\n      <td>108.0</td>\n      <td>2.0</td>\n      <td>2837.0</td>\n      <td>1421.0</td>\n      <td>1416.0</td>\n      <td>...</td>\n      <td>0.010</td>\n      <td>0.000</td>\n      <td>11.0</td>\n      <td>664.0</td>\n      <td>0.0</td>\n      <td>2114.0</td>\n      <td>28.0</td>\n      <td>0.0</td>\n      <td>3806.838209</td>\n      <td>70.497004</td>\n    </tr>\n  </tbody>\n</table>\n<p>3111 rows × 26 columns</p>\n</div>"
     },
     "metadata": {},
     "execution_count": 64
    }
   ],
   "source": [
    "final_df = dropped_df.drop(['total_votes16', 'hispanic', 'white', 'black', 'native', 'asian', 'pacific'], axis=1)\n",
    "final_df"
   ]
  },
  {
   "cell_type": "code",
   "execution_count": 65,
   "metadata": {},
   "outputs": [
    {
     "output_type": "execute_result",
     "data": {
      "text/plain": [
       "       county state_code                                        json_object\n",
       "0  Lauderdale         AL  {\"type\": \"Polygon\", \"coordinates\": [[[-87.2541...\n",
       "1   Limestone         AL  {\"type\": \"Polygon\", \"coordinates\": [[[-87.2541...\n",
       "2     Madison         AL  {\"type\": \"Polygon\", \"coordinates\": [[[-86.7882...\n",
       "3     Jackson         AL  {\"type\": \"Polygon\", \"coordinates\": [[[-86.3035...\n",
       "4     Colbert         AL  {\"type\": \"Polygon\", \"coordinates\": [[[-87.4250..."
      ],
      "text/html": "<div>\n<style scoped>\n    .dataframe tbody tr th:only-of-type {\n        vertical-align: middle;\n    }\n\n    .dataframe tbody tr th {\n        vertical-align: top;\n    }\n\n    .dataframe thead th {\n        text-align: right;\n    }\n</style>\n<table border=\"1\" class=\"dataframe\">\n  <thead>\n    <tr style=\"text-align: right;\">\n      <th></th>\n      <th>county</th>\n      <th>state_code</th>\n      <th>json_object</th>\n    </tr>\n  </thead>\n  <tbody>\n    <tr>\n      <th>0</th>\n      <td>Lauderdale</td>\n      <td>AL</td>\n      <td>{\"type\": \"Polygon\", \"coordinates\": [[[-87.2541...</td>\n    </tr>\n    <tr>\n      <th>1</th>\n      <td>Limestone</td>\n      <td>AL</td>\n      <td>{\"type\": \"Polygon\", \"coordinates\": [[[-87.2541...</td>\n    </tr>\n    <tr>\n      <th>2</th>\n      <td>Madison</td>\n      <td>AL</td>\n      <td>{\"type\": \"Polygon\", \"coordinates\": [[[-86.7882...</td>\n    </tr>\n    <tr>\n      <th>3</th>\n      <td>Jackson</td>\n      <td>AL</td>\n      <td>{\"type\": \"Polygon\", \"coordinates\": [[[-86.3035...</td>\n    </tr>\n    <tr>\n      <th>4</th>\n      <td>Colbert</td>\n      <td>AL</td>\n      <td>{\"type\": \"Polygon\", \"coordinates\": [[[-87.4250...</td>\n    </tr>\n  </tbody>\n</table>\n</div>"
     },
     "metadata": {},
     "execution_count": 65
    }
   ],
   "source": [
    "countygeo_df = pd.read_csv(\"Raw Data/us_county_geojson.csv\")\n",
    "countygeo_df.head()"
   ]
  },
  {
   "cell_type": "code",
   "execution_count": 66,
   "metadata": {},
   "outputs": [],
   "source": [
    "merged_final_df = pd.merge(final_df, countygeo_df, how='left', left_on=['county', 'state'], right_on= ['county', 'state_code'])\n",
    "final_county_df = merged_final_df.drop(['state_code'], axis=1)\n",
    "final_county_df.to_csv('CleanData/county_data.csv')"
   ]
  },
  {
   "cell_type": "code",
   "execution_count": null,
   "metadata": {},
   "outputs": [],
   "source": []
  }
 ]
}
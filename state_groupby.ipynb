{
 "metadata": {
  "language_info": {
   "codemirror_mode": {
    "name": "ipython",
    "version": 3
   },
   "file_extension": ".py",
   "mimetype": "text/x-python",
   "name": "python",
   "nbconvert_exporter": "python",
   "pygments_lexer": "ipython3",
   "version": "3.6.10-final"
  },
  "orig_nbformat": 2,
  "kernelspec": {
   "name": "python3",
   "display_name": "Python 3.6.10 64-bit ('PythonData': conda)",
   "metadata": {
    "interpreter": {
     "hash": "618fe78b8d561c647932c992064697570060e2cddac3d1a3a68750b5e23d474c"
    }
   }
  }
 },
 "nbformat": 4,
 "nbformat_minor": 2,
 "cells": [
  {
   "cell_type": "code",
   "execution_count": 21,
   "metadata": {},
   "outputs": [],
   "source": [
    "import pandas as pd\n",
    "import csv"
   ]
  },
  {
   "cell_type": "code",
   "execution_count": 22,
   "metadata": {},
   "outputs": [
    {
     "output_type": "execute_result",
     "data": {
      "text/plain": [
       "   Unnamed: 0     county state  percentage16_Donald_Trump  \\\n",
       "0           0  Abbeville    SC                      0.629   \n",
       "1           1     Acadia    LA                      0.773   \n",
       "2           2   Accomack    VA                      0.545   \n",
       "3           3        Ada    ID                      0.479   \n",
       "4           4      Adair    IA                      0.653   \n",
       "\n",
       "   percentage16_Hillary_Clinton  total_votes16  votes16_Donald_Trump  \\\n",
       "0                         0.346        10724.0                6742.0   \n",
       "1                         0.206        27386.0               21159.0   \n",
       "2                         0.428        15755.0                8582.0   \n",
       "3                         0.387       195587.0               93748.0   \n",
       "4                         0.300         3759.0                2456.0   \n",
       "\n",
       "   votes16_Hillary_Clinton  percentage20_Donald_Trump  percentage20_Joe_Biden  \\\n",
       "0                   3712.0                      0.661                   0.330   \n",
       "1                   5638.0                      0.795                   0.191   \n",
       "2                   6737.0                      0.542                   0.447   \n",
       "3                  75676.0                      0.504                   0.465   \n",
       "4                   1127.0                      0.697                   0.286   \n",
       "\n",
       "   ...  Walk  OtherTransp  WorkAtHome  MeanCommute  Employed  PrivateWork  \\\n",
       "0  ...   1.8          1.8         6.5         25.8    9505.0         78.8   \n",
       "1  ...   1.6          2.2         2.5         27.6   24982.0         80.0   \n",
       "2  ...   2.6          1.8         4.5         22.0   13837.0         74.6   \n",
       "3  ...   1.5          2.8         6.9         20.4  214984.0         78.3   \n",
       "4  ...   2.8          0.4         6.2         22.3    3680.0         73.8   \n",
       "\n",
       "   PublicWork  SelfEmployed  FamilyWork  Unemployment  \n",
       "0        13.3           7.8         0.1           9.4  \n",
       "1        12.1           7.6         0.3           8.9  \n",
       "2        18.1           7.1         0.2           5.4  \n",
       "3        15.0           6.6         0.1           4.3  \n",
       "4        15.3          10.4         0.5           3.0  \n",
       "\n",
       "[5 rows x 51 columns]"
      ],
      "text/html": "<div>\n<style scoped>\n    .dataframe tbody tr th:only-of-type {\n        vertical-align: middle;\n    }\n\n    .dataframe tbody tr th {\n        vertical-align: top;\n    }\n\n    .dataframe thead th {\n        text-align: right;\n    }\n</style>\n<table border=\"1\" class=\"dataframe\">\n  <thead>\n    <tr style=\"text-align: right;\">\n      <th></th>\n      <th>Unnamed: 0</th>\n      <th>county</th>\n      <th>state</th>\n      <th>percentage16_Donald_Trump</th>\n      <th>percentage16_Hillary_Clinton</th>\n      <th>total_votes16</th>\n      <th>votes16_Donald_Trump</th>\n      <th>votes16_Hillary_Clinton</th>\n      <th>percentage20_Donald_Trump</th>\n      <th>percentage20_Joe_Biden</th>\n      <th>...</th>\n      <th>Walk</th>\n      <th>OtherTransp</th>\n      <th>WorkAtHome</th>\n      <th>MeanCommute</th>\n      <th>Employed</th>\n      <th>PrivateWork</th>\n      <th>PublicWork</th>\n      <th>SelfEmployed</th>\n      <th>FamilyWork</th>\n      <th>Unemployment</th>\n    </tr>\n  </thead>\n  <tbody>\n    <tr>\n      <th>0</th>\n      <td>0</td>\n      <td>Abbeville</td>\n      <td>SC</td>\n      <td>0.629</td>\n      <td>0.346</td>\n      <td>10724.0</td>\n      <td>6742.0</td>\n      <td>3712.0</td>\n      <td>0.661</td>\n      <td>0.330</td>\n      <td>...</td>\n      <td>1.8</td>\n      <td>1.8</td>\n      <td>6.5</td>\n      <td>25.8</td>\n      <td>9505.0</td>\n      <td>78.8</td>\n      <td>13.3</td>\n      <td>7.8</td>\n      <td>0.1</td>\n      <td>9.4</td>\n    </tr>\n    <tr>\n      <th>1</th>\n      <td>1</td>\n      <td>Acadia</td>\n      <td>LA</td>\n      <td>0.773</td>\n      <td>0.206</td>\n      <td>27386.0</td>\n      <td>21159.0</td>\n      <td>5638.0</td>\n      <td>0.795</td>\n      <td>0.191</td>\n      <td>...</td>\n      <td>1.6</td>\n      <td>2.2</td>\n      <td>2.5</td>\n      <td>27.6</td>\n      <td>24982.0</td>\n      <td>80.0</td>\n      <td>12.1</td>\n      <td>7.6</td>\n      <td>0.3</td>\n      <td>8.9</td>\n    </tr>\n    <tr>\n      <th>2</th>\n      <td>2</td>\n      <td>Accomack</td>\n      <td>VA</td>\n      <td>0.545</td>\n      <td>0.428</td>\n      <td>15755.0</td>\n      <td>8582.0</td>\n      <td>6737.0</td>\n      <td>0.542</td>\n      <td>0.447</td>\n      <td>...</td>\n      <td>2.6</td>\n      <td>1.8</td>\n      <td>4.5</td>\n      <td>22.0</td>\n      <td>13837.0</td>\n      <td>74.6</td>\n      <td>18.1</td>\n      <td>7.1</td>\n      <td>0.2</td>\n      <td>5.4</td>\n    </tr>\n    <tr>\n      <th>3</th>\n      <td>3</td>\n      <td>Ada</td>\n      <td>ID</td>\n      <td>0.479</td>\n      <td>0.387</td>\n      <td>195587.0</td>\n      <td>93748.0</td>\n      <td>75676.0</td>\n      <td>0.504</td>\n      <td>0.465</td>\n      <td>...</td>\n      <td>1.5</td>\n      <td>2.8</td>\n      <td>6.9</td>\n      <td>20.4</td>\n      <td>214984.0</td>\n      <td>78.3</td>\n      <td>15.0</td>\n      <td>6.6</td>\n      <td>0.1</td>\n      <td>4.3</td>\n    </tr>\n    <tr>\n      <th>4</th>\n      <td>4</td>\n      <td>Adair</td>\n      <td>IA</td>\n      <td>0.653</td>\n      <td>0.300</td>\n      <td>3759.0</td>\n      <td>2456.0</td>\n      <td>1127.0</td>\n      <td>0.697</td>\n      <td>0.286</td>\n      <td>...</td>\n      <td>2.8</td>\n      <td>0.4</td>\n      <td>6.2</td>\n      <td>22.3</td>\n      <td>3680.0</td>\n      <td>73.8</td>\n      <td>15.3</td>\n      <td>10.4</td>\n      <td>0.5</td>\n      <td>3.0</td>\n    </tr>\n  </tbody>\n</table>\n<p>5 rows × 51 columns</p>\n</div>"
     },
     "metadata": {},
     "execution_count": 22
    }
   ],
   "source": [
    "county_df = pd.read_csv(\"Raw Data/county_statistics.csv\", encoding=\"utf-8\")\n",
    "county_df.head()"
   ]
  },
  {
   "cell_type": "code",
   "execution_count": 23,
   "metadata": {},
   "outputs": [
    {
     "output_type": "execute_result",
     "data": {
      "text/plain": [
       "       Unnamed: 0  percentage16_Donald_Trump  percentage16_Hillary_Clinton  \\\n",
       "state                                                                        \n",
       "AK         428385                      0.000                         0.000   \n",
       "AL          99827                     43.155                        22.639   \n",
       "AR         124123                     48.618                        22.801   \n",
       "AZ          34260                      7.921                         6.288   \n",
       "CA         120576                     25.359                        29.167   \n",
       "\n",
       "       total_votes16  votes16_Donald_Trump  votes16_Hillary_Clinton  \\\n",
       "state                                                                 \n",
       "AK               0.0                   0.0                      0.0   \n",
       "AL         2078165.0             1306925.0                 718084.0   \n",
       "AR         1121684.0              677904.0                 378729.0   \n",
       "AZ         2062810.0             1021154.0                 936250.0   \n",
       "CA         9631972.0             3184721.0                5931283.0   \n",
       "\n",
       "       percentage20_Donald_Trump  percentage20_Joe_Biden  total_votes20  \\\n",
       "state                                                                     \n",
       "AK                        22.411                  15.939       260983.0   \n",
       "AL                        43.410                  22.924      2309900.0   \n",
       "AR                        51.710                  21.084      1209372.0   \n",
       "AZ                         8.227                   6.547      3366867.0   \n",
       "CA                        25.089                  31.595     16092730.0   \n",
       "\n",
       "       votes20_Donald_Trump  ...   Walk  OtherTransp  WorkAtHome  MeanCommute  \\\n",
       "state                        ...                                                \n",
       "AK                 148624.0  ...  716.2        282.5       158.2        324.8   \n",
       "AL                1434159.0  ...   80.7         76.4       169.4       1754.7   \n",
       "AR                 757052.0  ...  147.8        102.1       243.8       1726.0   \n",
       "AZ                1651812.0  ...   49.8         32.8        75.5        325.5   \n",
       "CA                5416035.0  ...  193.5        151.0       386.8       1480.6   \n",
       "\n",
       "         Employed  PrivateWork  PublicWork  SelfEmployed  FamilyWork  \\\n",
       "state                                                                  \n",
       "AK       354045.0       1729.3       952.2         209.4         8.6   \n",
       "AL      2055509.0       5237.5      1075.3         373.4        14.1   \n",
       "AR      1276536.0       5642.5      1288.9         553.2        15.2   \n",
       "AZ      2953891.0       1080.0       327.7          89.3         2.7   \n",
       "CA     17993915.0       4126.6      1095.1         554.9        23.5   \n",
       "\n",
       "       Unemployment  \n",
       "state                \n",
       "AK            280.0  \n",
       "AL            604.6  \n",
       "AR            546.9  \n",
       "AZ            146.5  \n",
       "CA            479.4  \n",
       "\n",
       "[5 rows x 49 columns]"
      ],
      "text/html": "<div>\n<style scoped>\n    .dataframe tbody tr th:only-of-type {\n        vertical-align: middle;\n    }\n\n    .dataframe tbody tr th {\n        vertical-align: top;\n    }\n\n    .dataframe thead th {\n        text-align: right;\n    }\n</style>\n<table border=\"1\" class=\"dataframe\">\n  <thead>\n    <tr style=\"text-align: right;\">\n      <th></th>\n      <th>Unnamed: 0</th>\n      <th>percentage16_Donald_Trump</th>\n      <th>percentage16_Hillary_Clinton</th>\n      <th>total_votes16</th>\n      <th>votes16_Donald_Trump</th>\n      <th>votes16_Hillary_Clinton</th>\n      <th>percentage20_Donald_Trump</th>\n      <th>percentage20_Joe_Biden</th>\n      <th>total_votes20</th>\n      <th>votes20_Donald_Trump</th>\n      <th>...</th>\n      <th>Walk</th>\n      <th>OtherTransp</th>\n      <th>WorkAtHome</th>\n      <th>MeanCommute</th>\n      <th>Employed</th>\n      <th>PrivateWork</th>\n      <th>PublicWork</th>\n      <th>SelfEmployed</th>\n      <th>FamilyWork</th>\n      <th>Unemployment</th>\n    </tr>\n    <tr>\n      <th>state</th>\n      <th></th>\n      <th></th>\n      <th></th>\n      <th></th>\n      <th></th>\n      <th></th>\n      <th></th>\n      <th></th>\n      <th></th>\n      <th></th>\n      <th></th>\n      <th></th>\n      <th></th>\n      <th></th>\n      <th></th>\n      <th></th>\n      <th></th>\n      <th></th>\n      <th></th>\n      <th></th>\n      <th></th>\n    </tr>\n  </thead>\n  <tbody>\n    <tr>\n      <th>AK</th>\n      <td>428385</td>\n      <td>0.000</td>\n      <td>0.000</td>\n      <td>0.0</td>\n      <td>0.0</td>\n      <td>0.0</td>\n      <td>22.411</td>\n      <td>15.939</td>\n      <td>260983.0</td>\n      <td>148624.0</td>\n      <td>...</td>\n      <td>716.2</td>\n      <td>282.5</td>\n      <td>158.2</td>\n      <td>324.8</td>\n      <td>354045.0</td>\n      <td>1729.3</td>\n      <td>952.2</td>\n      <td>209.4</td>\n      <td>8.6</td>\n      <td>280.0</td>\n    </tr>\n    <tr>\n      <th>AL</th>\n      <td>99827</td>\n      <td>43.155</td>\n      <td>22.639</td>\n      <td>2078165.0</td>\n      <td>1306925.0</td>\n      <td>718084.0</td>\n      <td>43.410</td>\n      <td>22.924</td>\n      <td>2309900.0</td>\n      <td>1434159.0</td>\n      <td>...</td>\n      <td>80.7</td>\n      <td>76.4</td>\n      <td>169.4</td>\n      <td>1754.7</td>\n      <td>2055509.0</td>\n      <td>5237.5</td>\n      <td>1075.3</td>\n      <td>373.4</td>\n      <td>14.1</td>\n      <td>604.6</td>\n    </tr>\n    <tr>\n      <th>AR</th>\n      <td>124123</td>\n      <td>48.618</td>\n      <td>22.801</td>\n      <td>1121684.0</td>\n      <td>677904.0</td>\n      <td>378729.0</td>\n      <td>51.710</td>\n      <td>21.084</td>\n      <td>1209372.0</td>\n      <td>757052.0</td>\n      <td>...</td>\n      <td>147.8</td>\n      <td>102.1</td>\n      <td>243.8</td>\n      <td>1726.0</td>\n      <td>1276536.0</td>\n      <td>5642.5</td>\n      <td>1288.9</td>\n      <td>553.2</td>\n      <td>15.2</td>\n      <td>546.9</td>\n    </tr>\n    <tr>\n      <th>AZ</th>\n      <td>34260</td>\n      <td>7.921</td>\n      <td>6.288</td>\n      <td>2062810.0</td>\n      <td>1021154.0</td>\n      <td>936250.0</td>\n      <td>8.227</td>\n      <td>6.547</td>\n      <td>3366867.0</td>\n      <td>1651812.0</td>\n      <td>...</td>\n      <td>49.8</td>\n      <td>32.8</td>\n      <td>75.5</td>\n      <td>325.5</td>\n      <td>2953891.0</td>\n      <td>1080.0</td>\n      <td>327.7</td>\n      <td>89.3</td>\n      <td>2.7</td>\n      <td>146.5</td>\n    </tr>\n    <tr>\n      <th>CA</th>\n      <td>120576</td>\n      <td>25.359</td>\n      <td>29.167</td>\n      <td>9631972.0</td>\n      <td>3184721.0</td>\n      <td>5931283.0</td>\n      <td>25.089</td>\n      <td>31.595</td>\n      <td>16092730.0</td>\n      <td>5416035.0</td>\n      <td>...</td>\n      <td>193.5</td>\n      <td>151.0</td>\n      <td>386.8</td>\n      <td>1480.6</td>\n      <td>17993915.0</td>\n      <td>4126.6</td>\n      <td>1095.1</td>\n      <td>554.9</td>\n      <td>23.5</td>\n      <td>479.4</td>\n    </tr>\n  </tbody>\n</table>\n<p>5 rows × 49 columns</p>\n</div>"
     },
     "metadata": {},
     "execution_count": 23
    }
   ],
   "source": [
    "state_df = county_df.groupby(['state']).sum()\n",
    "state_df.head()"
   ]
  },
  {
   "cell_type": "code",
   "execution_count": 24,
   "metadata": {},
   "outputs": [
    {
     "output_type": "execute_result",
     "data": {
      "text/plain": [
       "       total_votes20  votes20_Donald_Trump  votes20_Joe_Biden     cases  \\\n",
       "state                                                                     \n",
       "AK          260983.0              148624.0           102080.0   16705.0   \n",
       "AL         2309900.0             1434159.0           843473.0  193985.0   \n",
       "AR         1209372.0              757052.0           418051.0  113057.0   \n",
       "AZ         3366867.0             1651812.0          1663447.0  247473.0   \n",
       "CA        16092730.0             5416035.0         10339137.0  935878.0   \n",
       "\n",
       "        deaths    TotalPop         Men       Women  Hispanic   White   Black  \\\n",
       "state                                                                          \n",
       "AK        83.0    738565.0    386319.0    352246.0     147.7  1404.2    34.2   \n",
       "AL      2973.0   4850771.0   2350806.0   2499965.0     221.0  4366.3  1921.1   \n",
       "AR      1958.0   2977944.0   1461651.0   1516293.0     381.8  5672.6  1209.9   \n",
       "AZ      5979.0   6809946.0   3385055.0   3424891.0     463.3   762.4    27.2   \n",
       "CA     17671.0  38982847.0  19366579.0  19616268.0    1744.1  3176.2   170.8   \n",
       "\n",
       "       Native  Asian  Pacific  VotingAgeCitizen  \n",
       "state                                            \n",
       "AK      917.2  173.5     15.8          530553.0  \n",
       "AL       40.7   47.7      1.2         3651914.0  \n",
       "AR       40.5   51.9      5.8         2183895.0  \n",
       "AZ      198.5   19.4      1.9         4690177.0  \n",
       "CA       95.7  410.1     16.9        24970109.0  "
      ],
      "text/html": "<div>\n<style scoped>\n    .dataframe tbody tr th:only-of-type {\n        vertical-align: middle;\n    }\n\n    .dataframe tbody tr th {\n        vertical-align: top;\n    }\n\n    .dataframe thead th {\n        text-align: right;\n    }\n</style>\n<table border=\"1\" class=\"dataframe\">\n  <thead>\n    <tr style=\"text-align: right;\">\n      <th></th>\n      <th>total_votes20</th>\n      <th>votes20_Donald_Trump</th>\n      <th>votes20_Joe_Biden</th>\n      <th>cases</th>\n      <th>deaths</th>\n      <th>TotalPop</th>\n      <th>Men</th>\n      <th>Women</th>\n      <th>Hispanic</th>\n      <th>White</th>\n      <th>Black</th>\n      <th>Native</th>\n      <th>Asian</th>\n      <th>Pacific</th>\n      <th>VotingAgeCitizen</th>\n    </tr>\n    <tr>\n      <th>state</th>\n      <th></th>\n      <th></th>\n      <th></th>\n      <th></th>\n      <th></th>\n      <th></th>\n      <th></th>\n      <th></th>\n      <th></th>\n      <th></th>\n      <th></th>\n      <th></th>\n      <th></th>\n      <th></th>\n      <th></th>\n    </tr>\n  </thead>\n  <tbody>\n    <tr>\n      <th>AK</th>\n      <td>260983.0</td>\n      <td>148624.0</td>\n      <td>102080.0</td>\n      <td>16705.0</td>\n      <td>83.0</td>\n      <td>738565.0</td>\n      <td>386319.0</td>\n      <td>352246.0</td>\n      <td>147.7</td>\n      <td>1404.2</td>\n      <td>34.2</td>\n      <td>917.2</td>\n      <td>173.5</td>\n      <td>15.8</td>\n      <td>530553.0</td>\n    </tr>\n    <tr>\n      <th>AL</th>\n      <td>2309900.0</td>\n      <td>1434159.0</td>\n      <td>843473.0</td>\n      <td>193985.0</td>\n      <td>2973.0</td>\n      <td>4850771.0</td>\n      <td>2350806.0</td>\n      <td>2499965.0</td>\n      <td>221.0</td>\n      <td>4366.3</td>\n      <td>1921.1</td>\n      <td>40.7</td>\n      <td>47.7</td>\n      <td>1.2</td>\n      <td>3651914.0</td>\n    </tr>\n    <tr>\n      <th>AR</th>\n      <td>1209372.0</td>\n      <td>757052.0</td>\n      <td>418051.0</td>\n      <td>113057.0</td>\n      <td>1958.0</td>\n      <td>2977944.0</td>\n      <td>1461651.0</td>\n      <td>1516293.0</td>\n      <td>381.8</td>\n      <td>5672.6</td>\n      <td>1209.9</td>\n      <td>40.5</td>\n      <td>51.9</td>\n      <td>5.8</td>\n      <td>2183895.0</td>\n    </tr>\n    <tr>\n      <th>AZ</th>\n      <td>3366867.0</td>\n      <td>1651812.0</td>\n      <td>1663447.0</td>\n      <td>247473.0</td>\n      <td>5979.0</td>\n      <td>6809946.0</td>\n      <td>3385055.0</td>\n      <td>3424891.0</td>\n      <td>463.3</td>\n      <td>762.4</td>\n      <td>27.2</td>\n      <td>198.5</td>\n      <td>19.4</td>\n      <td>1.9</td>\n      <td>4690177.0</td>\n    </tr>\n    <tr>\n      <th>CA</th>\n      <td>16092730.0</td>\n      <td>5416035.0</td>\n      <td>10339137.0</td>\n      <td>935878.0</td>\n      <td>17671.0</td>\n      <td>38982847.0</td>\n      <td>19366579.0</td>\n      <td>19616268.0</td>\n      <td>1744.1</td>\n      <td>3176.2</td>\n      <td>170.8</td>\n      <td>95.7</td>\n      <td>410.1</td>\n      <td>16.9</td>\n      <td>24970109.0</td>\n    </tr>\n  </tbody>\n</table>\n</div>"
     },
     "metadata": {},
     "execution_count": 24
    }
   ],
   "source": [
    "cleaner_df = state_df.drop(['percentage16_Donald_Trump', 'percentage16_Hillary_Clinton', 'total_votes16', 'votes16_Donald_Trump', 'votes16_Hillary_Clinton', 'percentage20_Donald_Trump', 'percentage20_Joe_Biden', 'Unemployment', 'FamilyWork', 'SelfEmployed', 'PublicWork', 'PrivateWork', 'Employed', 'MeanCommute', 'WorkAtHome', 'OtherTransp', 'Walk', 'Poverty', 'ChildPoverty', 'Professional', 'Service', 'Office', 'Construction', 'Production', 'Drive', 'Carpool', 'Transit', 'lat', 'long', 'IncomePerCapErr', 'IncomePerCap', 'Income', 'IncomeErr', 'Unnamed: 0'], axis=1)\n",
    "cleaner_df.head()\n"
   ]
  },
  {
   "cell_type": "code",
   "execution_count": 25,
   "metadata": {},
   "outputs": [
    {
     "output_type": "execute_result",
     "data": {
      "text/plain": [
       "       total_votes20  votes20_Donald_Trump  votes20_Joe_Biden     cases  \\\n",
       "state                                                                     \n",
       "AK          260983.0              148624.0           102080.0   16705.0   \n",
       "AL         2309900.0             1434159.0           843473.0  193985.0   \n",
       "AR         1209372.0              757052.0           418051.0  113057.0   \n",
       "AZ         3366867.0             1651812.0          1663447.0  247473.0   \n",
       "CA        16092730.0             5416035.0         10339137.0  935878.0   \n",
       "\n",
       "        deaths    TotalPop         Men       Women  Hispanic   White  ...  \\\n",
       "state                                                                 ...   \n",
       "AK        83.0    738565.0    386319.0    352246.0     147.7  1404.2  ...   \n",
       "AL      2973.0   4850771.0   2350806.0   2499965.0     221.0  4366.3  ...   \n",
       "AR      1958.0   2977944.0   1461651.0   1516293.0     381.8  5672.6  ...   \n",
       "AZ      5979.0   6809946.0   3385055.0   3424891.0     463.3   762.4  ...   \n",
       "CA     17671.0  38982847.0  19366579.0  19616268.0    1744.1  3176.2  ...   \n",
       "\n",
       "       VotingAgeCitizen     Men %   Women %  All Races  Hispanic %   White %  \\\n",
       "state                                                                          \n",
       "AK             530553.0  0.523067  0.476933     2692.6    0.054854  0.521503   \n",
       "AL            3651914.0  0.484625  0.515375     6598.0    0.033495  0.661761   \n",
       "AR            2183895.0  0.490826  0.509174     7362.5    0.051857  0.770472   \n",
       "AZ            4690177.0  0.497075  0.502925     1472.7    0.314592  0.517689   \n",
       "CA           24970109.0  0.496797  0.503203     5613.8    0.310681  0.565784   \n",
       "\n",
       "        Black %  Native %   Asian %  Pacific %  \n",
       "state                                           \n",
       "AK     0.012701  0.340637  0.064436   0.005868  \n",
       "AL     0.291164  0.006169  0.007229   0.000182  \n",
       "AR     0.164333  0.005501  0.007049   0.000788  \n",
       "AZ     0.018469  0.134786  0.013173   0.001290  \n",
       "CA     0.030425  0.017047  0.073052   0.003010  \n",
       "\n",
       "[5 rows x 24 columns]"
      ],
      "text/html": "<div>\n<style scoped>\n    .dataframe tbody tr th:only-of-type {\n        vertical-align: middle;\n    }\n\n    .dataframe tbody tr th {\n        vertical-align: top;\n    }\n\n    .dataframe thead th {\n        text-align: right;\n    }\n</style>\n<table border=\"1\" class=\"dataframe\">\n  <thead>\n    <tr style=\"text-align: right;\">\n      <th></th>\n      <th>total_votes20</th>\n      <th>votes20_Donald_Trump</th>\n      <th>votes20_Joe_Biden</th>\n      <th>cases</th>\n      <th>deaths</th>\n      <th>TotalPop</th>\n      <th>Men</th>\n      <th>Women</th>\n      <th>Hispanic</th>\n      <th>White</th>\n      <th>...</th>\n      <th>VotingAgeCitizen</th>\n      <th>Men %</th>\n      <th>Women %</th>\n      <th>All Races</th>\n      <th>Hispanic %</th>\n      <th>White %</th>\n      <th>Black %</th>\n      <th>Native %</th>\n      <th>Asian %</th>\n      <th>Pacific %</th>\n    </tr>\n    <tr>\n      <th>state</th>\n      <th></th>\n      <th></th>\n      <th></th>\n      <th></th>\n      <th></th>\n      <th></th>\n      <th></th>\n      <th></th>\n      <th></th>\n      <th></th>\n      <th></th>\n      <th></th>\n      <th></th>\n      <th></th>\n      <th></th>\n      <th></th>\n      <th></th>\n      <th></th>\n      <th></th>\n      <th></th>\n      <th></th>\n    </tr>\n  </thead>\n  <tbody>\n    <tr>\n      <th>AK</th>\n      <td>260983.0</td>\n      <td>148624.0</td>\n      <td>102080.0</td>\n      <td>16705.0</td>\n      <td>83.0</td>\n      <td>738565.0</td>\n      <td>386319.0</td>\n      <td>352246.0</td>\n      <td>147.7</td>\n      <td>1404.2</td>\n      <td>...</td>\n      <td>530553.0</td>\n      <td>0.523067</td>\n      <td>0.476933</td>\n      <td>2692.6</td>\n      <td>0.054854</td>\n      <td>0.521503</td>\n      <td>0.012701</td>\n      <td>0.340637</td>\n      <td>0.064436</td>\n      <td>0.005868</td>\n    </tr>\n    <tr>\n      <th>AL</th>\n      <td>2309900.0</td>\n      <td>1434159.0</td>\n      <td>843473.0</td>\n      <td>193985.0</td>\n      <td>2973.0</td>\n      <td>4850771.0</td>\n      <td>2350806.0</td>\n      <td>2499965.0</td>\n      <td>221.0</td>\n      <td>4366.3</td>\n      <td>...</td>\n      <td>3651914.0</td>\n      <td>0.484625</td>\n      <td>0.515375</td>\n      <td>6598.0</td>\n      <td>0.033495</td>\n      <td>0.661761</td>\n      <td>0.291164</td>\n      <td>0.006169</td>\n      <td>0.007229</td>\n      <td>0.000182</td>\n    </tr>\n    <tr>\n      <th>AR</th>\n      <td>1209372.0</td>\n      <td>757052.0</td>\n      <td>418051.0</td>\n      <td>113057.0</td>\n      <td>1958.0</td>\n      <td>2977944.0</td>\n      <td>1461651.0</td>\n      <td>1516293.0</td>\n      <td>381.8</td>\n      <td>5672.6</td>\n      <td>...</td>\n      <td>2183895.0</td>\n      <td>0.490826</td>\n      <td>0.509174</td>\n      <td>7362.5</td>\n      <td>0.051857</td>\n      <td>0.770472</td>\n      <td>0.164333</td>\n      <td>0.005501</td>\n      <td>0.007049</td>\n      <td>0.000788</td>\n    </tr>\n    <tr>\n      <th>AZ</th>\n      <td>3366867.0</td>\n      <td>1651812.0</td>\n      <td>1663447.0</td>\n      <td>247473.0</td>\n      <td>5979.0</td>\n      <td>6809946.0</td>\n      <td>3385055.0</td>\n      <td>3424891.0</td>\n      <td>463.3</td>\n      <td>762.4</td>\n      <td>...</td>\n      <td>4690177.0</td>\n      <td>0.497075</td>\n      <td>0.502925</td>\n      <td>1472.7</td>\n      <td>0.314592</td>\n      <td>0.517689</td>\n      <td>0.018469</td>\n      <td>0.134786</td>\n      <td>0.013173</td>\n      <td>0.001290</td>\n    </tr>\n    <tr>\n      <th>CA</th>\n      <td>16092730.0</td>\n      <td>5416035.0</td>\n      <td>10339137.0</td>\n      <td>935878.0</td>\n      <td>17671.0</td>\n      <td>38982847.0</td>\n      <td>19366579.0</td>\n      <td>19616268.0</td>\n      <td>1744.1</td>\n      <td>3176.2</td>\n      <td>...</td>\n      <td>24970109.0</td>\n      <td>0.496797</td>\n      <td>0.503203</td>\n      <td>5613.8</td>\n      <td>0.310681</td>\n      <td>0.565784</td>\n      <td>0.030425</td>\n      <td>0.017047</td>\n      <td>0.073052</td>\n      <td>0.003010</td>\n    </tr>\n  </tbody>\n</table>\n<p>5 rows × 24 columns</p>\n</div>"
     },
     "metadata": {},
     "execution_count": 25
    }
   ],
   "source": [
    "cleaner_df['Men %'] = cleaner_df['Men']/cleaner_df['TotalPop']\n",
    "cleaner_df['Women %'] = cleaner_df['Women']/cleaner_df['TotalPop']\n",
    "\n",
    "cleaner_df['All Races'] = cleaner_df['Hispanic'] + cleaner_df['White'] + cleaner_df['Black'] + cleaner_df['Native'] + cleaner_df['Asian'] + cleaner_df['Pacific']\n",
    "\n",
    "cleaner_df['Hispanic %'] = cleaner_df['Hispanic']/cleaner_df['All Races']\n",
    "\n",
    "cleaner_df['White %'] = cleaner_df['White']/cleaner_df['All Races']\n",
    "\n",
    "cleaner_df['Black %'] = cleaner_df['Black']/cleaner_df['All Races']\n",
    "\n",
    "cleaner_df['Native %'] = cleaner_df['Native']/cleaner_df['All Races']\n",
    "\n",
    "cleaner_df['Asian %'] = cleaner_df['Asian']/cleaner_df['All Races']\n",
    "\n",
    "cleaner_df['Pacific %'] = cleaner_df['Pacific']/cleaner_df['All Races']\n",
    "\n",
    "cleaner_df.head()"
   ]
  },
  {
   "cell_type": "code",
   "execution_count": 26,
   "metadata": {},
   "outputs": [
    {
     "output_type": "execute_result",
     "data": {
      "text/plain": [
       "       total_votes20  votes20_Donald_Trump  votes20_Joe_Biden     cases  \\\n",
       "state                                                                     \n",
       "AK          260983.0              148624.0           102080.0   16705.0   \n",
       "AL         2309900.0             1434159.0           843473.0  193985.0   \n",
       "AR         1209372.0              757052.0           418051.0  113057.0   \n",
       "AZ         3366867.0             1651812.0          1663447.0  247473.0   \n",
       "CA        16092730.0             5416035.0         10339137.0  935878.0   \n",
       "\n",
       "        deaths    TotalPop  VotingAgeCitizen     Men %   Women %  Hispanic %  \\\n",
       "state                                                                          \n",
       "AK        83.0    738565.0          530553.0  0.523067  0.476933    0.054854   \n",
       "AL      2973.0   4850771.0         3651914.0  0.484625  0.515375    0.033495   \n",
       "AR      1958.0   2977944.0         2183895.0  0.490826  0.509174    0.051857   \n",
       "AZ      5979.0   6809946.0         4690177.0  0.497075  0.502925    0.314592   \n",
       "CA     17671.0  38982847.0        24970109.0  0.496797  0.503203    0.310681   \n",
       "\n",
       "        White %   Black %  Native %   Asian %  Pacific %  \n",
       "state                                                     \n",
       "AK     0.521503  0.012701  0.340637  0.064436   0.005868  \n",
       "AL     0.661761  0.291164  0.006169  0.007229   0.000182  \n",
       "AR     0.770472  0.164333  0.005501  0.007049   0.000788  \n",
       "AZ     0.517689  0.018469  0.134786  0.013173   0.001290  \n",
       "CA     0.565784  0.030425  0.017047  0.073052   0.003010  "
      ],
      "text/html": "<div>\n<style scoped>\n    .dataframe tbody tr th:only-of-type {\n        vertical-align: middle;\n    }\n\n    .dataframe tbody tr th {\n        vertical-align: top;\n    }\n\n    .dataframe thead th {\n        text-align: right;\n    }\n</style>\n<table border=\"1\" class=\"dataframe\">\n  <thead>\n    <tr style=\"text-align: right;\">\n      <th></th>\n      <th>total_votes20</th>\n      <th>votes20_Donald_Trump</th>\n      <th>votes20_Joe_Biden</th>\n      <th>cases</th>\n      <th>deaths</th>\n      <th>TotalPop</th>\n      <th>VotingAgeCitizen</th>\n      <th>Men %</th>\n      <th>Women %</th>\n      <th>Hispanic %</th>\n      <th>White %</th>\n      <th>Black %</th>\n      <th>Native %</th>\n      <th>Asian %</th>\n      <th>Pacific %</th>\n    </tr>\n    <tr>\n      <th>state</th>\n      <th></th>\n      <th></th>\n      <th></th>\n      <th></th>\n      <th></th>\n      <th></th>\n      <th></th>\n      <th></th>\n      <th></th>\n      <th></th>\n      <th></th>\n      <th></th>\n      <th></th>\n      <th></th>\n      <th></th>\n    </tr>\n  </thead>\n  <tbody>\n    <tr>\n      <th>AK</th>\n      <td>260983.0</td>\n      <td>148624.0</td>\n      <td>102080.0</td>\n      <td>16705.0</td>\n      <td>83.0</td>\n      <td>738565.0</td>\n      <td>530553.0</td>\n      <td>0.523067</td>\n      <td>0.476933</td>\n      <td>0.054854</td>\n      <td>0.521503</td>\n      <td>0.012701</td>\n      <td>0.340637</td>\n      <td>0.064436</td>\n      <td>0.005868</td>\n    </tr>\n    <tr>\n      <th>AL</th>\n      <td>2309900.0</td>\n      <td>1434159.0</td>\n      <td>843473.0</td>\n      <td>193985.0</td>\n      <td>2973.0</td>\n      <td>4850771.0</td>\n      <td>3651914.0</td>\n      <td>0.484625</td>\n      <td>0.515375</td>\n      <td>0.033495</td>\n      <td>0.661761</td>\n      <td>0.291164</td>\n      <td>0.006169</td>\n      <td>0.007229</td>\n      <td>0.000182</td>\n    </tr>\n    <tr>\n      <th>AR</th>\n      <td>1209372.0</td>\n      <td>757052.0</td>\n      <td>418051.0</td>\n      <td>113057.0</td>\n      <td>1958.0</td>\n      <td>2977944.0</td>\n      <td>2183895.0</td>\n      <td>0.490826</td>\n      <td>0.509174</td>\n      <td>0.051857</td>\n      <td>0.770472</td>\n      <td>0.164333</td>\n      <td>0.005501</td>\n      <td>0.007049</td>\n      <td>0.000788</td>\n    </tr>\n    <tr>\n      <th>AZ</th>\n      <td>3366867.0</td>\n      <td>1651812.0</td>\n      <td>1663447.0</td>\n      <td>247473.0</td>\n      <td>5979.0</td>\n      <td>6809946.0</td>\n      <td>4690177.0</td>\n      <td>0.497075</td>\n      <td>0.502925</td>\n      <td>0.314592</td>\n      <td>0.517689</td>\n      <td>0.018469</td>\n      <td>0.134786</td>\n      <td>0.013173</td>\n      <td>0.001290</td>\n    </tr>\n    <tr>\n      <th>CA</th>\n      <td>16092730.0</td>\n      <td>5416035.0</td>\n      <td>10339137.0</td>\n      <td>935878.0</td>\n      <td>17671.0</td>\n      <td>38982847.0</td>\n      <td>24970109.0</td>\n      <td>0.496797</td>\n      <td>0.503203</td>\n      <td>0.310681</td>\n      <td>0.565784</td>\n      <td>0.030425</td>\n      <td>0.017047</td>\n      <td>0.073052</td>\n      <td>0.003010</td>\n    </tr>\n  </tbody>\n</table>\n</div>"
     },
     "metadata": {},
     "execution_count": 26
    }
   ],
   "source": [
    "reallyclean_df = cleaner_df.drop(['Hispanic','White','Black','Native','Asian','Pacific', 'Men', 'Women', 'All Races'], axis=1)\n",
    "reallyclean_df.head()"
   ]
  },
  {
   "cell_type": "code",
   "execution_count": 27,
   "metadata": {},
   "outputs": [],
   "source": [
    "reallyclean_df['Biden %'] = reallyclean_df['votes20_Joe_Biden']/reallyclean_df['total_votes20']\n",
    "reallyclean_df['Trump %'] = reallyclean_df['votes20_Donald_Trump']/reallyclean_df['total_votes20']\n"
   ]
  },
  {
   "cell_type": "code",
   "execution_count": 28,
   "metadata": {},
   "outputs": [
    {
     "output_type": "execute_result",
     "data": {
      "text/plain": [
       "       total_votes20  votes20_Donald_Trump  votes20_Joe_Biden     cases  \\\n",
       "state                                                                     \n",
       "AK          260983.0              148624.0           102080.0   16705.0   \n",
       "AL         2309900.0             1434159.0           843473.0  193985.0   \n",
       "AR         1209372.0              757052.0           418051.0  113057.0   \n",
       "AZ         3366867.0             1651812.0          1663447.0  247473.0   \n",
       "CA        16092730.0             5416035.0         10339137.0  935878.0   \n",
       "\n",
       "        deaths    TotalPop  VotingAgeCitizen     Men %   Women %  Hispanic %  \\\n",
       "state                                                                          \n",
       "AK        83.0    738565.0          530553.0  0.523067  0.476933    0.054854   \n",
       "AL      2973.0   4850771.0         3651914.0  0.484625  0.515375    0.033495   \n",
       "AR      1958.0   2977944.0         2183895.0  0.490826  0.509174    0.051857   \n",
       "AZ      5979.0   6809946.0         4690177.0  0.497075  0.502925    0.314592   \n",
       "CA     17671.0  38982847.0        24970109.0  0.496797  0.503203    0.310681   \n",
       "\n",
       "        White %   Black %  Native %   Asian %  Pacific %   Biden %   Trump %  \\\n",
       "state                                                                          \n",
       "AK     0.521503  0.012701  0.340637  0.064436   0.005868  0.391137  0.569478   \n",
       "AL     0.661761  0.291164  0.006169  0.007229   0.000182  0.365156  0.620875   \n",
       "AR     0.770472  0.164333  0.005501  0.007049   0.000788  0.345676  0.625988   \n",
       "AZ     0.517689  0.018469  0.134786  0.013173   0.001290  0.494064  0.490608   \n",
       "CA     0.565784  0.030425  0.017047  0.073052   0.003010  0.642473  0.336552   \n",
       "\n",
       "       Republican  Democrat  \n",
       "state                        \n",
       "AK           True     False  \n",
       "AL           True     False  \n",
       "AR           True     False  \n",
       "AZ          False      True  \n",
       "CA          False      True  "
      ],
      "text/html": "<div>\n<style scoped>\n    .dataframe tbody tr th:only-of-type {\n        vertical-align: middle;\n    }\n\n    .dataframe tbody tr th {\n        vertical-align: top;\n    }\n\n    .dataframe thead th {\n        text-align: right;\n    }\n</style>\n<table border=\"1\" class=\"dataframe\">\n  <thead>\n    <tr style=\"text-align: right;\">\n      <th></th>\n      <th>total_votes20</th>\n      <th>votes20_Donald_Trump</th>\n      <th>votes20_Joe_Biden</th>\n      <th>cases</th>\n      <th>deaths</th>\n      <th>TotalPop</th>\n      <th>VotingAgeCitizen</th>\n      <th>Men %</th>\n      <th>Women %</th>\n      <th>Hispanic %</th>\n      <th>White %</th>\n      <th>Black %</th>\n      <th>Native %</th>\n      <th>Asian %</th>\n      <th>Pacific %</th>\n      <th>Biden %</th>\n      <th>Trump %</th>\n      <th>Republican</th>\n      <th>Democrat</th>\n    </tr>\n    <tr>\n      <th>state</th>\n      <th></th>\n      <th></th>\n      <th></th>\n      <th></th>\n      <th></th>\n      <th></th>\n      <th></th>\n      <th></th>\n      <th></th>\n      <th></th>\n      <th></th>\n      <th></th>\n      <th></th>\n      <th></th>\n      <th></th>\n      <th></th>\n      <th></th>\n      <th></th>\n      <th></th>\n    </tr>\n  </thead>\n  <tbody>\n    <tr>\n      <th>AK</th>\n      <td>260983.0</td>\n      <td>148624.0</td>\n      <td>102080.0</td>\n      <td>16705.0</td>\n      <td>83.0</td>\n      <td>738565.0</td>\n      <td>530553.0</td>\n      <td>0.523067</td>\n      <td>0.476933</td>\n      <td>0.054854</td>\n      <td>0.521503</td>\n      <td>0.012701</td>\n      <td>0.340637</td>\n      <td>0.064436</td>\n      <td>0.005868</td>\n      <td>0.391137</td>\n      <td>0.569478</td>\n      <td>True</td>\n      <td>False</td>\n    </tr>\n    <tr>\n      <th>AL</th>\n      <td>2309900.0</td>\n      <td>1434159.0</td>\n      <td>843473.0</td>\n      <td>193985.0</td>\n      <td>2973.0</td>\n      <td>4850771.0</td>\n      <td>3651914.0</td>\n      <td>0.484625</td>\n      <td>0.515375</td>\n      <td>0.033495</td>\n      <td>0.661761</td>\n      <td>0.291164</td>\n      <td>0.006169</td>\n      <td>0.007229</td>\n      <td>0.000182</td>\n      <td>0.365156</td>\n      <td>0.620875</td>\n      <td>True</td>\n      <td>False</td>\n    </tr>\n    <tr>\n      <th>AR</th>\n      <td>1209372.0</td>\n      <td>757052.0</td>\n      <td>418051.0</td>\n      <td>113057.0</td>\n      <td>1958.0</td>\n      <td>2977944.0</td>\n      <td>2183895.0</td>\n      <td>0.490826</td>\n      <td>0.509174</td>\n      <td>0.051857</td>\n      <td>0.770472</td>\n      <td>0.164333</td>\n      <td>0.005501</td>\n      <td>0.007049</td>\n      <td>0.000788</td>\n      <td>0.345676</td>\n      <td>0.625988</td>\n      <td>True</td>\n      <td>False</td>\n    </tr>\n    <tr>\n      <th>AZ</th>\n      <td>3366867.0</td>\n      <td>1651812.0</td>\n      <td>1663447.0</td>\n      <td>247473.0</td>\n      <td>5979.0</td>\n      <td>6809946.0</td>\n      <td>4690177.0</td>\n      <td>0.497075</td>\n      <td>0.502925</td>\n      <td>0.314592</td>\n      <td>0.517689</td>\n      <td>0.018469</td>\n      <td>0.134786</td>\n      <td>0.013173</td>\n      <td>0.001290</td>\n      <td>0.494064</td>\n      <td>0.490608</td>\n      <td>False</td>\n      <td>True</td>\n    </tr>\n    <tr>\n      <th>CA</th>\n      <td>16092730.0</td>\n      <td>5416035.0</td>\n      <td>10339137.0</td>\n      <td>935878.0</td>\n      <td>17671.0</td>\n      <td>38982847.0</td>\n      <td>24970109.0</td>\n      <td>0.496797</td>\n      <td>0.503203</td>\n      <td>0.310681</td>\n      <td>0.565784</td>\n      <td>0.030425</td>\n      <td>0.017047</td>\n      <td>0.073052</td>\n      <td>0.003010</td>\n      <td>0.642473</td>\n      <td>0.336552</td>\n      <td>False</td>\n      <td>True</td>\n    </tr>\n  </tbody>\n</table>\n</div>"
     },
     "metadata": {},
     "execution_count": 28
    }
   ],
   "source": [
    "reallyclean_df['Republican'] = reallyclean_df['votes20_Donald_Trump'].gt(reallyclean_df['votes20_Joe_Biden'])\n",
    "reallyclean_df['Democrat'] = reallyclean_df['votes20_Donald_Trump'].lt(reallyclean_df['votes20_Joe_Biden'])\n",
    "reallyclean_df.head()"
   ]
  },
  {
   "cell_type": "code",
   "execution_count": 29,
   "metadata": {},
   "outputs": [],
   "source": [
    "reallyclean_df.to_csv('state_data.csv')"
   ]
  }
 ]
}
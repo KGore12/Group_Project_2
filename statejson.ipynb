{
 "metadata": {
  "language_info": {
   "codemirror_mode": {
    "name": "ipython",
    "version": 3
   },
   "file_extension": ".py",
   "mimetype": "text/x-python",
   "name": "python",
   "nbconvert_exporter": "python",
   "pygments_lexer": "ipython3",
   "version": "3.6.10-final"
  },
  "orig_nbformat": 2,
  "kernelspec": {
   "name": "python3",
   "display_name": "Python 3.6.10 64-bit",
   "metadata": {
    "interpreter": {
     "hash": "618fe78b8d561c647932c992064697570060e2cddac3d1a3a68750b5e23d474c"
    }
   }
  }
 },
 "nbformat": 4,
 "nbformat_minor": 2,
 "cells": [
  {
   "cell_type": "code",
   "execution_count": 19,
   "metadata": {},
   "outputs": [],
   "source": [
    "import pandas as pd\n",
    "import csv\n",
    "import geopandas as gpd"
   ]
  },
  {
   "cell_type": "code",
   "execution_count": 20,
   "metadata": {},
   "outputs": [
    {
     "output_type": "execute_result",
     "data": {
      "text/plain": [
       "        GEO_ID STATE           NAME LSAD  CENSUSAREA  \\\n",
       "0  0400000US23    23          Maine        30842.923   \n",
       "1  0400000US25    25  Massachusetts         7800.058   \n",
       "2  0400000US26    26       Michigan        56538.901   \n",
       "3  0400000US30    30        Montana       145545.801   \n",
       "4  0400000US32    32         Nevada       109781.180   \n",
       "\n",
       "                                            geometry  \n",
       "0  MULTIPOLYGON (((-67.61976 44.51975, -67.61541 ...  \n",
       "1  MULTIPOLYGON (((-70.83204 41.60650, -70.82373 ...  \n",
       "2  MULTIPOLYGON (((-88.68443 48.11579, -88.67563 ...  \n",
       "3  POLYGON ((-104.05770 44.99743, -104.25015 44.9...  \n",
       "4  POLYGON ((-114.05060 37.00040, -114.04999 36.9...  "
      ],
      "text/html": "<div>\n<style scoped>\n    .dataframe tbody tr th:only-of-type {\n        vertical-align: middle;\n    }\n\n    .dataframe tbody tr th {\n        vertical-align: top;\n    }\n\n    .dataframe thead th {\n        text-align: right;\n    }\n</style>\n<table border=\"1\" class=\"dataframe\">\n  <thead>\n    <tr style=\"text-align: right;\">\n      <th></th>\n      <th>GEO_ID</th>\n      <th>STATE</th>\n      <th>NAME</th>\n      <th>LSAD</th>\n      <th>CENSUSAREA</th>\n      <th>geometry</th>\n    </tr>\n  </thead>\n  <tbody>\n    <tr>\n      <th>0</th>\n      <td>0400000US23</td>\n      <td>23</td>\n      <td>Maine</td>\n      <td></td>\n      <td>30842.923</td>\n      <td>MULTIPOLYGON (((-67.61976 44.51975, -67.61541 ...</td>\n    </tr>\n    <tr>\n      <th>1</th>\n      <td>0400000US25</td>\n      <td>25</td>\n      <td>Massachusetts</td>\n      <td></td>\n      <td>7800.058</td>\n      <td>MULTIPOLYGON (((-70.83204 41.60650, -70.82373 ...</td>\n    </tr>\n    <tr>\n      <th>2</th>\n      <td>0400000US26</td>\n      <td>26</td>\n      <td>Michigan</td>\n      <td></td>\n      <td>56538.901</td>\n      <td>MULTIPOLYGON (((-88.68443 48.11579, -88.67563 ...</td>\n    </tr>\n    <tr>\n      <th>3</th>\n      <td>0400000US30</td>\n      <td>30</td>\n      <td>Montana</td>\n      <td></td>\n      <td>145545.801</td>\n      <td>POLYGON ((-104.05770 44.99743, -104.25015 44.9...</td>\n    </tr>\n    <tr>\n      <th>4</th>\n      <td>0400000US32</td>\n      <td>32</td>\n      <td>Nevada</td>\n      <td></td>\n      <td>109781.180</td>\n      <td>POLYGON ((-114.05060 37.00040, -114.04999 36.9...</td>\n    </tr>\n  </tbody>\n</table>\n</div>"
     },
     "metadata": {},
     "execution_count": 20
    }
   ],
   "source": [
    "stategeo_df = gpd.read_file(\"Raw Data/US-States1.json\")\n",
    "stategeo_df.head()"
   ]
  },
  {
   "cell_type": "code",
   "execution_count": 21,
   "metadata": {},
   "outputs": [
    {
     "output_type": "execute_result",
     "data": {
      "text/plain": [
       "  state        NAME  total_votes20  votes20_Donald_Trump  votes20_Joe_Biden  \\\n",
       "0    AK      Alaska         260983                148624             102080   \n",
       "1    AL     Alabama        2309900               1434159             843473   \n",
       "2    AR    Arkansas        1209372                757052             418051   \n",
       "3    AZ     Arizona        3366867               1651812            1663447   \n",
       "4    CA  California       16092730               5416035           10339137   \n",
       "\n",
       "    cases  deaths  TotalPop  VotingAgeCitizen     Men %  ...  Hispanic %  \\\n",
       "0   16705      83    738565            530553  0.523067  ...    0.054854   \n",
       "1  193985    2973   4850771           3651914  0.484625  ...    0.033495   \n",
       "2  113057    1958   2977944           2183895  0.490826  ...    0.051857   \n",
       "3  247473    5979   6809946           4690177  0.497075  ...    0.314592   \n",
       "4  935878   17671  38982847          24970109  0.496797  ...    0.310681   \n",
       "\n",
       "    White %   Black %  Native %   Asian %  Pacific %   Biden %   Trump %  \\\n",
       "0  0.521503  0.012701  0.340637  0.064436   0.005868  0.391137  0.569478   \n",
       "1  0.661761  0.291164  0.006169  0.007229   0.000182  0.365156  0.620875   \n",
       "2  0.770472  0.164333  0.005501  0.007049   0.000788  0.345676  0.625988   \n",
       "3  0.517689  0.018469  0.134786  0.013173   0.001290  0.494064  0.490608   \n",
       "4  0.565784  0.030425  0.017047  0.073052   0.003010  0.642473  0.336552   \n",
       "\n",
       "   Republican  Democrat  \n",
       "0        True     False  \n",
       "1        True     False  \n",
       "2        True     False  \n",
       "3       False      True  \n",
       "4       False      True  \n",
       "\n",
       "[5 rows x 21 columns]"
      ],
      "text/html": "<div>\n<style scoped>\n    .dataframe tbody tr th:only-of-type {\n        vertical-align: middle;\n    }\n\n    .dataframe tbody tr th {\n        vertical-align: top;\n    }\n\n    .dataframe thead th {\n        text-align: right;\n    }\n</style>\n<table border=\"1\" class=\"dataframe\">\n  <thead>\n    <tr style=\"text-align: right;\">\n      <th></th>\n      <th>state</th>\n      <th>NAME</th>\n      <th>total_votes20</th>\n      <th>votes20_Donald_Trump</th>\n      <th>votes20_Joe_Biden</th>\n      <th>cases</th>\n      <th>deaths</th>\n      <th>TotalPop</th>\n      <th>VotingAgeCitizen</th>\n      <th>Men %</th>\n      <th>...</th>\n      <th>Hispanic %</th>\n      <th>White %</th>\n      <th>Black %</th>\n      <th>Native %</th>\n      <th>Asian %</th>\n      <th>Pacific %</th>\n      <th>Biden %</th>\n      <th>Trump %</th>\n      <th>Republican</th>\n      <th>Democrat</th>\n    </tr>\n  </thead>\n  <tbody>\n    <tr>\n      <th>0</th>\n      <td>AK</td>\n      <td>Alaska</td>\n      <td>260983</td>\n      <td>148624</td>\n      <td>102080</td>\n      <td>16705</td>\n      <td>83</td>\n      <td>738565</td>\n      <td>530553</td>\n      <td>0.523067</td>\n      <td>...</td>\n      <td>0.054854</td>\n      <td>0.521503</td>\n      <td>0.012701</td>\n      <td>0.340637</td>\n      <td>0.064436</td>\n      <td>0.005868</td>\n      <td>0.391137</td>\n      <td>0.569478</td>\n      <td>True</td>\n      <td>False</td>\n    </tr>\n    <tr>\n      <th>1</th>\n      <td>AL</td>\n      <td>Alabama</td>\n      <td>2309900</td>\n      <td>1434159</td>\n      <td>843473</td>\n      <td>193985</td>\n      <td>2973</td>\n      <td>4850771</td>\n      <td>3651914</td>\n      <td>0.484625</td>\n      <td>...</td>\n      <td>0.033495</td>\n      <td>0.661761</td>\n      <td>0.291164</td>\n      <td>0.006169</td>\n      <td>0.007229</td>\n      <td>0.000182</td>\n      <td>0.365156</td>\n      <td>0.620875</td>\n      <td>True</td>\n      <td>False</td>\n    </tr>\n    <tr>\n      <th>2</th>\n      <td>AR</td>\n      <td>Arkansas</td>\n      <td>1209372</td>\n      <td>757052</td>\n      <td>418051</td>\n      <td>113057</td>\n      <td>1958</td>\n      <td>2977944</td>\n      <td>2183895</td>\n      <td>0.490826</td>\n      <td>...</td>\n      <td>0.051857</td>\n      <td>0.770472</td>\n      <td>0.164333</td>\n      <td>0.005501</td>\n      <td>0.007049</td>\n      <td>0.000788</td>\n      <td>0.345676</td>\n      <td>0.625988</td>\n      <td>True</td>\n      <td>False</td>\n    </tr>\n    <tr>\n      <th>3</th>\n      <td>AZ</td>\n      <td>Arizona</td>\n      <td>3366867</td>\n      <td>1651812</td>\n      <td>1663447</td>\n      <td>247473</td>\n      <td>5979</td>\n      <td>6809946</td>\n      <td>4690177</td>\n      <td>0.497075</td>\n      <td>...</td>\n      <td>0.314592</td>\n      <td>0.517689</td>\n      <td>0.018469</td>\n      <td>0.134786</td>\n      <td>0.013173</td>\n      <td>0.001290</td>\n      <td>0.494064</td>\n      <td>0.490608</td>\n      <td>False</td>\n      <td>True</td>\n    </tr>\n    <tr>\n      <th>4</th>\n      <td>CA</td>\n      <td>California</td>\n      <td>16092730</td>\n      <td>5416035</td>\n      <td>10339137</td>\n      <td>935878</td>\n      <td>17671</td>\n      <td>38982847</td>\n      <td>24970109</td>\n      <td>0.496797</td>\n      <td>...</td>\n      <td>0.310681</td>\n      <td>0.565784</td>\n      <td>0.030425</td>\n      <td>0.017047</td>\n      <td>0.073052</td>\n      <td>0.003010</td>\n      <td>0.642473</td>\n      <td>0.336552</td>\n      <td>False</td>\n      <td>True</td>\n    </tr>\n  </tbody>\n</table>\n<p>5 rows × 21 columns</p>\n</div>"
     },
     "metadata": {},
     "execution_count": 21
    }
   ],
   "source": [
    "state_df = pd.read_csv(\"Raw Data/state_data.csv\", encoding=\"utf-8\")\n",
    "state_df.head()"
   ]
  },
  {
   "cell_type": "code",
   "execution_count": 22,
   "metadata": {},
   "outputs": [],
   "source": [
    "state_df['hispanic_pop'] = round(state_df['TotalPop']*state_df['Hispanic %'])\n",
    "\n",
    "state_df['white_pop'] = round(state_df['TotalPop']*state_df['White %'])\n",
    "\n",
    "state_df['black_pop'] = round(state_df['TotalPop']*state_df['Black %'])\n",
    "\n",
    "state_df['native_pop'] = round(state_df['TotalPop']*state_df['Native %'])\n",
    "\n",
    "state_df['asian_pop'] = round(state_df['TotalPop']*state_df['Asian %'])\n",
    "\n",
    "state_df['pacific_pop'] = round(state_df['TotalPop']*state_df['Pacific %'])"
   ]
  },
  {
   "cell_type": "code",
   "execution_count": 23,
   "metadata": {},
   "outputs": [
    {
     "output_type": "execute_result",
     "data": {
      "text/plain": [
       "        GEO_ID           NAME  \\\n",
       "0  0400000US23          Maine   \n",
       "1  0400000US25  Massachusetts   \n",
       "2  0400000US26       Michigan   \n",
       "3  0400000US30        Montana   \n",
       "4  0400000US32         Nevada   \n",
       "\n",
       "                                            geometry state  total_votes20  \\\n",
       "0  MULTIPOLYGON (((-67.61976 44.51975, -67.61541 ...    ME         786337   \n",
       "1  MULTIPOLYGON (((-70.83204 41.60650, -70.82373 ...    MA        3482216   \n",
       "2  MULTIPOLYGON (((-88.68443 48.11579, -88.67563 ...    MI        5531329   \n",
       "3  POLYGON ((-104.05770 44.99743, -104.25015 44.9...    MT         602781   \n",
       "4  POLYGON ((-114.05060 37.00040, -114.04999 36.9...    NV        1337217   \n",
       "\n",
       "   votes20_Donald_Trump  votes20_Joe_Biden   cases  deaths  TotalPop  ...  \\\n",
       "0                341949             420357    6711     147   1330158  ...   \n",
       "1               1131042            2271763  159707   10013   6789319  ...   \n",
       "2               2647004            2795649  197406    7699   9925568  ...   \n",
       "3                341765             243716   33495     376   1029862  ...   \n",
       "4                635017             671887  101477    1781   2887725  ...   \n",
       "\n",
       "   Republican  Democrat  hispanic_pop  white_pop  black_pop  native_pop  \\\n",
       "0       False      True       19145.0  1279415.0    10504.0     10420.0   \n",
       "1       False      True      630365.0  5455488.0   399548.0     20027.0   \n",
       "2       False      True      351495.0  8949166.0   393596.0    128261.0   \n",
       "3        True     False       30486.0   910095.0     2328.0     81715.0   \n",
       "4       False      True      510752.0  2132180.0    64538.0    113809.0   \n",
       "\n",
       "   asian_pop  pacific_pop  cases_per_100k  deaths_per_100k  \n",
       "0    10504.0        169.0      504.526530        11.051319  \n",
       "1   282388.0       1502.0     2352.327236       147.481655  \n",
       "2   101336.0       1713.0     1988.863509        77.567349  \n",
       "3     4918.0        319.0     3252.377503        36.509746  \n",
       "4    59854.0       6593.0     3514.081154        61.674848  \n",
       "\n",
       "[5 rows x 31 columns]"
      ],
      "text/html": "<div>\n<style scoped>\n    .dataframe tbody tr th:only-of-type {\n        vertical-align: middle;\n    }\n\n    .dataframe tbody tr th {\n        vertical-align: top;\n    }\n\n    .dataframe thead th {\n        text-align: right;\n    }\n</style>\n<table border=\"1\" class=\"dataframe\">\n  <thead>\n    <tr style=\"text-align: right;\">\n      <th></th>\n      <th>GEO_ID</th>\n      <th>NAME</th>\n      <th>geometry</th>\n      <th>state</th>\n      <th>total_votes20</th>\n      <th>votes20_Donald_Trump</th>\n      <th>votes20_Joe_Biden</th>\n      <th>cases</th>\n      <th>deaths</th>\n      <th>TotalPop</th>\n      <th>...</th>\n      <th>Republican</th>\n      <th>Democrat</th>\n      <th>hispanic_pop</th>\n      <th>white_pop</th>\n      <th>black_pop</th>\n      <th>native_pop</th>\n      <th>asian_pop</th>\n      <th>pacific_pop</th>\n      <th>cases_per_100k</th>\n      <th>deaths_per_100k</th>\n    </tr>\n  </thead>\n  <tbody>\n    <tr>\n      <th>0</th>\n      <td>0400000US23</td>\n      <td>Maine</td>\n      <td>MULTIPOLYGON (((-67.61976 44.51975, -67.61541 ...</td>\n      <td>ME</td>\n      <td>786337</td>\n      <td>341949</td>\n      <td>420357</td>\n      <td>6711</td>\n      <td>147</td>\n      <td>1330158</td>\n      <td>...</td>\n      <td>False</td>\n      <td>True</td>\n      <td>19145.0</td>\n      <td>1279415.0</td>\n      <td>10504.0</td>\n      <td>10420.0</td>\n      <td>10504.0</td>\n      <td>169.0</td>\n      <td>504.526530</td>\n      <td>11.051319</td>\n    </tr>\n    <tr>\n      <th>1</th>\n      <td>0400000US25</td>\n      <td>Massachusetts</td>\n      <td>MULTIPOLYGON (((-70.83204 41.60650, -70.82373 ...</td>\n      <td>MA</td>\n      <td>3482216</td>\n      <td>1131042</td>\n      <td>2271763</td>\n      <td>159707</td>\n      <td>10013</td>\n      <td>6789319</td>\n      <td>...</td>\n      <td>False</td>\n      <td>True</td>\n      <td>630365.0</td>\n      <td>5455488.0</td>\n      <td>399548.0</td>\n      <td>20027.0</td>\n      <td>282388.0</td>\n      <td>1502.0</td>\n      <td>2352.327236</td>\n      <td>147.481655</td>\n    </tr>\n    <tr>\n      <th>2</th>\n      <td>0400000US26</td>\n      <td>Michigan</td>\n      <td>MULTIPOLYGON (((-88.68443 48.11579, -88.67563 ...</td>\n      <td>MI</td>\n      <td>5531329</td>\n      <td>2647004</td>\n      <td>2795649</td>\n      <td>197406</td>\n      <td>7699</td>\n      <td>9925568</td>\n      <td>...</td>\n      <td>False</td>\n      <td>True</td>\n      <td>351495.0</td>\n      <td>8949166.0</td>\n      <td>393596.0</td>\n      <td>128261.0</td>\n      <td>101336.0</td>\n      <td>1713.0</td>\n      <td>1988.863509</td>\n      <td>77.567349</td>\n    </tr>\n    <tr>\n      <th>3</th>\n      <td>0400000US30</td>\n      <td>Montana</td>\n      <td>POLYGON ((-104.05770 44.99743, -104.25015 44.9...</td>\n      <td>MT</td>\n      <td>602781</td>\n      <td>341765</td>\n      <td>243716</td>\n      <td>33495</td>\n      <td>376</td>\n      <td>1029862</td>\n      <td>...</td>\n      <td>True</td>\n      <td>False</td>\n      <td>30486.0</td>\n      <td>910095.0</td>\n      <td>2328.0</td>\n      <td>81715.0</td>\n      <td>4918.0</td>\n      <td>319.0</td>\n      <td>3252.377503</td>\n      <td>36.509746</td>\n    </tr>\n    <tr>\n      <th>4</th>\n      <td>0400000US32</td>\n      <td>Nevada</td>\n      <td>POLYGON ((-114.05060 37.00040, -114.04999 36.9...</td>\n      <td>NV</td>\n      <td>1337217</td>\n      <td>635017</td>\n      <td>671887</td>\n      <td>101477</td>\n      <td>1781</td>\n      <td>2887725</td>\n      <td>...</td>\n      <td>False</td>\n      <td>True</td>\n      <td>510752.0</td>\n      <td>2132180.0</td>\n      <td>64538.0</td>\n      <td>113809.0</td>\n      <td>59854.0</td>\n      <td>6593.0</td>\n      <td>3514.081154</td>\n      <td>61.674848</td>\n    </tr>\n  </tbody>\n</table>\n<p>5 rows × 31 columns</p>\n</div>"
     },
     "metadata": {},
     "execution_count": 23
    }
   ],
   "source": [
    "merged_df = pd.merge(stategeo_df, state_df, on=\"NAME\")\n",
    "clean_state_df = merged_df.drop(['CENSUSAREA', 'LSAD', 'STATE'],axis=1)\n",
    "\n",
    "clean_state_df[\"cases_per_100k\"]= (clean_state_df[\"cases\"]/clean_state_df[\"TotalPop\"])*100000\n",
    "clean_state_df[\"deaths_per_100k\"]= (clean_state_df[\"deaths\"]/clean_state_df[\"TotalPop\"])*100000\n",
    "\n",
    "clean_state_df.head()"
   ]
  },
  {
   "cell_type": "code",
   "execution_count": 24,
   "metadata": {},
   "outputs": [],
   "source": [
    "clean_state_df.columns = map(str.lower, clean_state_df.columns)\n",
    "clean_state_df.to_csv('CleanData/state_data.csv')"
   ]
  },
  {
   "cell_type": "code",
   "execution_count": null,
   "metadata": {},
   "outputs": [],
   "source": []
  }
 ]
}
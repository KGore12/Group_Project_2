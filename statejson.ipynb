{
 "metadata": {
  "language_info": {
   "codemirror_mode": {
    "name": "ipython",
    "version": 3
   },
   "file_extension": ".py",
   "mimetype": "text/x-python",
   "name": "python",
   "nbconvert_exporter": "python",
   "pygments_lexer": "ipython3",
   "version": "3.6.10-final"
  },
  "orig_nbformat": 2,
  "kernelspec": {
   "name": "python3",
   "display_name": "Python 3"
  }
 },
 "nbformat": 4,
 "nbformat_minor": 2,
 "cells": [
  {
   "cell_type": "code",
   "execution_count": 1,
   "metadata": {},
   "outputs": [],
   "source": [
    "import pandas as pd\n",
    "import csv"
   ]
  },
  {
   "cell_type": "code",
   "execution_count": 3,
   "metadata": {},
   "outputs": [
    {
     "output_type": "execute_result",
     "data": {
      "text/plain": [
       "      type                                         properties  \\\n",
       "0  Feature  {'GEO_ID': '0400000US23', 'STATE': '23', 'NAME...   \n",
       "1  Feature  {'GEO_ID': '0400000US25', 'STATE': '25', 'NAME...   \n",
       "2  Feature  {'GEO_ID': '0400000US26', 'STATE': '26', 'NAME...   \n",
       "3  Feature  {'GEO_ID': '0400000US30', 'STATE': '30', 'NAME...   \n",
       "4  Feature  {'GEO_ID': '0400000US32', 'STATE': '32', 'NAME...   \n",
       "\n",
       "                                            geometry  \n",
       "0  {'type': 'MultiPolygon', 'coordinates': [[[[-6...  \n",
       "1  {'type': 'MultiPolygon', 'coordinates': [[[[-7...  \n",
       "2  {'type': 'MultiPolygon', 'coordinates': [[[[-8...  \n",
       "3  {'type': 'Polygon', 'coordinates': [[[-104.057...  \n",
       "4  {'type': 'Polygon', 'coordinates': [[[-114.050...  "
      ],
      "text/html": "<div>\n<style scoped>\n    .dataframe tbody tr th:only-of-type {\n        vertical-align: middle;\n    }\n\n    .dataframe tbody tr th {\n        vertical-align: top;\n    }\n\n    .dataframe thead th {\n        text-align: right;\n    }\n</style>\n<table border=\"1\" class=\"dataframe\">\n  <thead>\n    <tr style=\"text-align: right;\">\n      <th></th>\n      <th>type</th>\n      <th>properties</th>\n      <th>geometry</th>\n    </tr>\n  </thead>\n  <tbody>\n    <tr>\n      <th>0</th>\n      <td>Feature</td>\n      <td>{'GEO_ID': '0400000US23', 'STATE': '23', 'NAME...</td>\n      <td>{'type': 'MultiPolygon', 'coordinates': [[[[-6...</td>\n    </tr>\n    <tr>\n      <th>1</th>\n      <td>Feature</td>\n      <td>{'GEO_ID': '0400000US25', 'STATE': '25', 'NAME...</td>\n      <td>{'type': 'MultiPolygon', 'coordinates': [[[[-7...</td>\n    </tr>\n    <tr>\n      <th>2</th>\n      <td>Feature</td>\n      <td>{'GEO_ID': '0400000US26', 'STATE': '26', 'NAME...</td>\n      <td>{'type': 'MultiPolygon', 'coordinates': [[[[-8...</td>\n    </tr>\n    <tr>\n      <th>3</th>\n      <td>Feature</td>\n      <td>{'GEO_ID': '0400000US30', 'STATE': '30', 'NAME...</td>\n      <td>{'type': 'Polygon', 'coordinates': [[[-104.057...</td>\n    </tr>\n    <tr>\n      <th>4</th>\n      <td>Feature</td>\n      <td>{'GEO_ID': '0400000US32', 'STATE': '32', 'NAME...</td>\n      <td>{'type': 'Polygon', 'coordinates': [[[-114.050...</td>\n    </tr>\n  </tbody>\n</table>\n</div>"
     },
     "metadata": {},
     "execution_count": 3
    }
   ],
   "source": [
    "state_df = pd.read_csv(\"Raw Data/state_geojson.csv\", encoding=\"utf-8\")\n",
    "state_df.head()"
   ]
  },
  {
   "cell_type": "code",
   "execution_count": null,
   "metadata": {},
   "outputs": [],
   "source": []
  }
 ]
}
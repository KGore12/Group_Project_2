{
 "metadata": {
  "language_info": {
   "codemirror_mode": {
    "name": "ipython",
    "version": 3
   },
   "file_extension": ".py",
   "mimetype": "text/x-python",
   "name": "python",
   "nbconvert_exporter": "python",
   "pygments_lexer": "ipython3",
   "version": "3.6.10-final"
  },
  "orig_nbformat": 2,
  "kernelspec": {
   "name": "python3",
   "display_name": "Python 3"
  }
 },
 "nbformat": 4,
 "nbformat_minor": 2,
 "cells": [
  {
   "cell_type": "code",
   "execution_count": 1,
   "metadata": {},
   "outputs": [],
   "source": [
    "import pandas as pd\n",
    "import csv\n",
    "import geopandas as gpd"
   ]
  },
  {
   "cell_type": "code",
   "execution_count": 3,
   "metadata": {},
   "outputs": [
    {
     "output_type": "execute_result",
     "data": {
      "text/plain": [
       "       county state_code                                        json_object\n",
       "0  Lauderdale         AL  {\"type\": \"Polygon\", \"coordinates\": [[[-87.2541...\n",
       "1   Limestone         AL  {\"type\": \"Polygon\", \"coordinates\": [[[-87.2541...\n",
       "2     Madison         AL  {\"type\": \"Polygon\", \"coordinates\": [[[-86.7882...\n",
       "3     Jackson         AL  {\"type\": \"Polygon\", \"coordinates\": [[[-86.3035...\n",
       "4     Colbert         AL  {\"type\": \"Polygon\", \"coordinates\": [[[-87.4250..."
      ],
      "text/html": "<div>\n<style scoped>\n    .dataframe tbody tr th:only-of-type {\n        vertical-align: middle;\n    }\n\n    .dataframe tbody tr th {\n        vertical-align: top;\n    }\n\n    .dataframe thead th {\n        text-align: right;\n    }\n</style>\n<table border=\"1\" class=\"dataframe\">\n  <thead>\n    <tr style=\"text-align: right;\">\n      <th></th>\n      <th>county</th>\n      <th>state_code</th>\n      <th>json_object</th>\n    </tr>\n  </thead>\n  <tbody>\n    <tr>\n      <th>0</th>\n      <td>Lauderdale</td>\n      <td>AL</td>\n      <td>{\"type\": \"Polygon\", \"coordinates\": [[[-87.2541...</td>\n    </tr>\n    <tr>\n      <th>1</th>\n      <td>Limestone</td>\n      <td>AL</td>\n      <td>{\"type\": \"Polygon\", \"coordinates\": [[[-87.2541...</td>\n    </tr>\n    <tr>\n      <th>2</th>\n      <td>Madison</td>\n      <td>AL</td>\n      <td>{\"type\": \"Polygon\", \"coordinates\": [[[-86.7882...</td>\n    </tr>\n    <tr>\n      <th>3</th>\n      <td>Jackson</td>\n      <td>AL</td>\n      <td>{\"type\": \"Polygon\", \"coordinates\": [[[-86.3035...</td>\n    </tr>\n    <tr>\n      <th>4</th>\n      <td>Colbert</td>\n      <td>AL</td>\n      <td>{\"type\": \"Polygon\", \"coordinates\": [[[-87.4250...</td>\n    </tr>\n  </tbody>\n</table>\n</div>"
     },
     "metadata": {},
     "execution_count": 3
    }
   ],
   "source": [
    "countygeo_df = pd.read_csv(\"Raw Data/us_county_geojson.csv\")\n",
    "countygeo_df.head()"
   ]
  },
  {
   "cell_type": "code",
   "execution_count": null,
   "metadata": {},
   "outputs": [],
   "source": []
  }
 ]
}
{
 "metadata": {
  "language_info": {
   "codemirror_mode": {
    "name": "ipython",
    "version": 3
   },
   "file_extension": ".py",
   "mimetype": "text/x-python",
   "name": "python",
   "nbconvert_exporter": "python",
   "pygments_lexer": "ipython3",
   "version": "3.6.10-final"
  },
  "orig_nbformat": 2,
  "kernelspec": {
   "name": "python3",
   "display_name": "Python 3.6.10 64-bit ('PythonData': conda)",
   "metadata": {
    "interpreter": {
     "hash": "618fe78b8d561c647932c992064697570060e2cddac3d1a3a68750b5e23d474c"
    }
   }
  }
 },
 "nbformat": 4,
 "nbformat_minor": 2,
 "cells": [
  {
   "cell_type": "code",
   "execution_count": 60,
   "metadata": {},
   "outputs": [],
   "source": [
    "import pandas as pd\n",
    "import csv\n",
    "import json\n",
    "from shapely.geometry import shape\n",
    "import pprint\n",
    "from flask import Flask\n",
    "from sqlalchemy import create_engine\n",
    "from geojson import Feature, FeatureCollection, Polygon, MultiPolygon\n",
    "from collections import OrderedDict\n",
    "from matplotlib import pyplot as plt\n",
    "from scipy import stats\n",
    "import numpy as np"
   ]
  },
  {
   "cell_type": "code",
   "execution_count": 61,
   "metadata": {},
   "outputs": [
    {
     "output_type": "execute_result",
     "data": {
      "text/plain": [
       "      type                                         properties  \\\n",
       "0  Feature  {'GEO_ID': '0400000US23', 'STATE': '23', 'NAME...   \n",
       "1  Feature  {'GEO_ID': '0400000US25', 'STATE': '25', 'NAME...   \n",
       "2  Feature  {'GEO_ID': '0400000US26', 'STATE': '26', 'NAME...   \n",
       "3  Feature  {'GEO_ID': '0400000US30', 'STATE': '30', 'NAME...   \n",
       "4  Feature  {'GEO_ID': '0400000US32', 'STATE': '32', 'NAME...   \n",
       "\n",
       "                                            geometry  \n",
       "0  {'type': 'MultiPolygon', 'coordinates': [[[[-6...  \n",
       "1  {'type': 'MultiPolygon', 'coordinates': [[[[-7...  \n",
       "2  {'type': 'MultiPolygon', 'coordinates': [[[[-8...  \n",
       "3  {'type': 'Polygon', 'coordinates': [[[-104.057...  \n",
       "4  {'type': 'Polygon', 'coordinates': [[[-114.050...  "
      ],
      "text/html": "<div>\n<style scoped>\n    .dataframe tbody tr th:only-of-type {\n        vertical-align: middle;\n    }\n\n    .dataframe tbody tr th {\n        vertical-align: top;\n    }\n\n    .dataframe thead th {\n        text-align: right;\n    }\n</style>\n<table border=\"1\" class=\"dataframe\">\n  <thead>\n    <tr style=\"text-align: right;\">\n      <th></th>\n      <th>type</th>\n      <th>properties</th>\n      <th>geometry</th>\n    </tr>\n  </thead>\n  <tbody>\n    <tr>\n      <th>0</th>\n      <td>Feature</td>\n      <td>{'GEO_ID': '0400000US23', 'STATE': '23', 'NAME...</td>\n      <td>{'type': 'MultiPolygon', 'coordinates': [[[[-6...</td>\n    </tr>\n    <tr>\n      <th>1</th>\n      <td>Feature</td>\n      <td>{'GEO_ID': '0400000US25', 'STATE': '25', 'NAME...</td>\n      <td>{'type': 'MultiPolygon', 'coordinates': [[[[-7...</td>\n    </tr>\n    <tr>\n      <th>2</th>\n      <td>Feature</td>\n      <td>{'GEO_ID': '0400000US26', 'STATE': '26', 'NAME...</td>\n      <td>{'type': 'MultiPolygon', 'coordinates': [[[[-8...</td>\n    </tr>\n    <tr>\n      <th>3</th>\n      <td>Feature</td>\n      <td>{'GEO_ID': '0400000US30', 'STATE': '30', 'NAME...</td>\n      <td>{'type': 'Polygon', 'coordinates': [[[-104.057...</td>\n    </tr>\n    <tr>\n      <th>4</th>\n      <td>Feature</td>\n      <td>{'GEO_ID': '0400000US32', 'STATE': '32', 'NAME...</td>\n      <td>{'type': 'Polygon', 'coordinates': [[[-114.050...</td>\n    </tr>\n  </tbody>\n</table>\n</div>"
     },
     "metadata": {},
     "execution_count": 61
    }
   ],
   "source": [
    "stategeo_df = pd.read_csv(\"Raw Data/state_geojson.csv\")\n",
    "stategeo_df.head()"
   ]
  },
  {
   "cell_type": "code",
   "execution_count": 62,
   "metadata": {},
   "outputs": [],
   "source": [
    "state = ['Maine', 'Massachusetts', 'Michigan', 'Montana', 'Nevada', 'New Jersey', 'New York', 'North Carolina', 'Ohio', 'Pennsylvania', 'Rhode Island', 'Tennessee', 'Texas', 'Utah', \n",
    "'Washington', 'Wisconsin', 'Puerto Rico', 'Maryland', 'Alabama', 'Alaska', 'Arizona', 'Arkansas', 'California', 'Colorado', 'Connecticut', 'Delaware', 'District of Columbia', 'Florida',\n",
    "'Georgia', 'Hawaii', 'Idaho', 'Illinois', 'Indiana', 'Iowa', 'Kansas', 'Kentucky', 'Lousiana', 'Minnesota', 'Mississippi', 'Missouri', 'Nebraska', 'New Hampshire', \n",
    "'New Mexico', 'North Dakota', 'Oklahoma', 'Oregon', 'South Carolina', 'South Dakota', 'Vermont', 'Virginia', 'West Virginia', 'Wyoming']"
   ]
  },
  {
   "cell_type": "code",
   "execution_count": 63,
   "metadata": {},
   "outputs": [
    {
     "output_type": "execute_result",
     "data": {
      "text/plain": [
       "      type                                         properties  \\\n",
       "0  Feature  {'GEO_ID': '0400000US23', 'STATE': '23', 'NAME...   \n",
       "1  Feature  {'GEO_ID': '0400000US25', 'STATE': '25', 'NAME...   \n",
       "2  Feature  {'GEO_ID': '0400000US26', 'STATE': '26', 'NAME...   \n",
       "3  Feature  {'GEO_ID': '0400000US30', 'STATE': '30', 'NAME...   \n",
       "4  Feature  {'GEO_ID': '0400000US32', 'STATE': '32', 'NAME...   \n",
       "\n",
       "                                            geometry           NAME  \n",
       "0  {'type': 'MultiPolygon', 'coordinates': [[[[-6...          Maine  \n",
       "1  {'type': 'MultiPolygon', 'coordinates': [[[[-7...  Massachusetts  \n",
       "2  {'type': 'MultiPolygon', 'coordinates': [[[[-8...       Michigan  \n",
       "3  {'type': 'Polygon', 'coordinates': [[[-104.057...        Montana  \n",
       "4  {'type': 'Polygon', 'coordinates': [[[-114.050...         Nevada  "
      ],
      "text/html": "<div>\n<style scoped>\n    .dataframe tbody tr th:only-of-type {\n        vertical-align: middle;\n    }\n\n    .dataframe tbody tr th {\n        vertical-align: top;\n    }\n\n    .dataframe thead th {\n        text-align: right;\n    }\n</style>\n<table border=\"1\" class=\"dataframe\">\n  <thead>\n    <tr style=\"text-align: right;\">\n      <th></th>\n      <th>type</th>\n      <th>properties</th>\n      <th>geometry</th>\n      <th>NAME</th>\n    </tr>\n  </thead>\n  <tbody>\n    <tr>\n      <th>0</th>\n      <td>Feature</td>\n      <td>{'GEO_ID': '0400000US23', 'STATE': '23', 'NAME...</td>\n      <td>{'type': 'MultiPolygon', 'coordinates': [[[[-6...</td>\n      <td>Maine</td>\n    </tr>\n    <tr>\n      <th>1</th>\n      <td>Feature</td>\n      <td>{'GEO_ID': '0400000US25', 'STATE': '25', 'NAME...</td>\n      <td>{'type': 'MultiPolygon', 'coordinates': [[[[-7...</td>\n      <td>Massachusetts</td>\n    </tr>\n    <tr>\n      <th>2</th>\n      <td>Feature</td>\n      <td>{'GEO_ID': '0400000US26', 'STATE': '26', 'NAME...</td>\n      <td>{'type': 'MultiPolygon', 'coordinates': [[[[-8...</td>\n      <td>Michigan</td>\n    </tr>\n    <tr>\n      <th>3</th>\n      <td>Feature</td>\n      <td>{'GEO_ID': '0400000US30', 'STATE': '30', 'NAME...</td>\n      <td>{'type': 'Polygon', 'coordinates': [[[-104.057...</td>\n      <td>Montana</td>\n    </tr>\n    <tr>\n      <th>4</th>\n      <td>Feature</td>\n      <td>{'GEO_ID': '0400000US32', 'STATE': '32', 'NAME...</td>\n      <td>{'type': 'Polygon', 'coordinates': [[[-114.050...</td>\n      <td>Nevada</td>\n    </tr>\n  </tbody>\n</table>\n</div>"
     },
     "metadata": {},
     "execution_count": 63
    }
   ],
   "source": [
    "stategeo_df['NAME'] = state\n",
    "stategeo_df.head()"
   ]
  },
  {
   "cell_type": "code",
   "execution_count": 64,
   "metadata": {},
   "outputs": [
    {
     "output_type": "execute_result",
     "data": {
      "text/plain": [
       "  state        NAME  total_votes20  votes20_Donald_Trump  votes20_Joe_Biden  \\\n",
       "0    AK      Alaska         260983                148624             102080   \n",
       "1    AL     Alabama        2309900               1434159             843473   \n",
       "2    AR    Arkansas        1209372                757052             418051   \n",
       "3    AZ     Arizona        3366867               1651812            1663447   \n",
       "4    CA  California       16092730               5416035           10339137   \n",
       "\n",
       "    cases  deaths  TotalPop  VotingAgeCitizen     Men %  ...  Hispanic %  \\\n",
       "0   16705      83    738565            530553  0.523067  ...    0.054854   \n",
       "1  193985    2973   4850771           3651914  0.484625  ...    0.033495   \n",
       "2  113057    1958   2977944           2183895  0.490826  ...    0.051857   \n",
       "3  247473    5979   6809946           4690177  0.497075  ...    0.314592   \n",
       "4  935878   17671  38982847          24970109  0.496797  ...    0.310681   \n",
       "\n",
       "    White %   Black %  Native %   Asian %  Pacific %   Biden %   Trump %  \\\n",
       "0  0.521503  0.012701  0.340637  0.064436   0.005868  0.391137  0.569478   \n",
       "1  0.661761  0.291164  0.006169  0.007229   0.000182  0.365156  0.620875   \n",
       "2  0.770472  0.164333  0.005501  0.007049   0.000788  0.345676  0.625988   \n",
       "3  0.517689  0.018469  0.134786  0.013173   0.001290  0.494064  0.490608   \n",
       "4  0.565784  0.030425  0.017047  0.073052   0.003010  0.642473  0.336552   \n",
       "\n",
       "   Republican  Democrat  \n",
       "0        True     False  \n",
       "1        True     False  \n",
       "2        True     False  \n",
       "3       False      True  \n",
       "4       False      True  \n",
       "\n",
       "[5 rows x 21 columns]"
      ],
      "text/html": "<div>\n<style scoped>\n    .dataframe tbody tr th:only-of-type {\n        vertical-align: middle;\n    }\n\n    .dataframe tbody tr th {\n        vertical-align: top;\n    }\n\n    .dataframe thead th {\n        text-align: right;\n    }\n</style>\n<table border=\"1\" class=\"dataframe\">\n  <thead>\n    <tr style=\"text-align: right;\">\n      <th></th>\n      <th>state</th>\n      <th>NAME</th>\n      <th>total_votes20</th>\n      <th>votes20_Donald_Trump</th>\n      <th>votes20_Joe_Biden</th>\n      <th>cases</th>\n      <th>deaths</th>\n      <th>TotalPop</th>\n      <th>VotingAgeCitizen</th>\n      <th>Men %</th>\n      <th>...</th>\n      <th>Hispanic %</th>\n      <th>White %</th>\n      <th>Black %</th>\n      <th>Native %</th>\n      <th>Asian %</th>\n      <th>Pacific %</th>\n      <th>Biden %</th>\n      <th>Trump %</th>\n      <th>Republican</th>\n      <th>Democrat</th>\n    </tr>\n  </thead>\n  <tbody>\n    <tr>\n      <th>0</th>\n      <td>AK</td>\n      <td>Alaska</td>\n      <td>260983</td>\n      <td>148624</td>\n      <td>102080</td>\n      <td>16705</td>\n      <td>83</td>\n      <td>738565</td>\n      <td>530553</td>\n      <td>0.523067</td>\n      <td>...</td>\n      <td>0.054854</td>\n      <td>0.521503</td>\n      <td>0.012701</td>\n      <td>0.340637</td>\n      <td>0.064436</td>\n      <td>0.005868</td>\n      <td>0.391137</td>\n      <td>0.569478</td>\n      <td>True</td>\n      <td>False</td>\n    </tr>\n    <tr>\n      <th>1</th>\n      <td>AL</td>\n      <td>Alabama</td>\n      <td>2309900</td>\n      <td>1434159</td>\n      <td>843473</td>\n      <td>193985</td>\n      <td>2973</td>\n      <td>4850771</td>\n      <td>3651914</td>\n      <td>0.484625</td>\n      <td>...</td>\n      <td>0.033495</td>\n      <td>0.661761</td>\n      <td>0.291164</td>\n      <td>0.006169</td>\n      <td>0.007229</td>\n      <td>0.000182</td>\n      <td>0.365156</td>\n      <td>0.620875</td>\n      <td>True</td>\n      <td>False</td>\n    </tr>\n    <tr>\n      <th>2</th>\n      <td>AR</td>\n      <td>Arkansas</td>\n      <td>1209372</td>\n      <td>757052</td>\n      <td>418051</td>\n      <td>113057</td>\n      <td>1958</td>\n      <td>2977944</td>\n      <td>2183895</td>\n      <td>0.490826</td>\n      <td>...</td>\n      <td>0.051857</td>\n      <td>0.770472</td>\n      <td>0.164333</td>\n      <td>0.005501</td>\n      <td>0.007049</td>\n      <td>0.000788</td>\n      <td>0.345676</td>\n      <td>0.625988</td>\n      <td>True</td>\n      <td>False</td>\n    </tr>\n    <tr>\n      <th>3</th>\n      <td>AZ</td>\n      <td>Arizona</td>\n      <td>3366867</td>\n      <td>1651812</td>\n      <td>1663447</td>\n      <td>247473</td>\n      <td>5979</td>\n      <td>6809946</td>\n      <td>4690177</td>\n      <td>0.497075</td>\n      <td>...</td>\n      <td>0.314592</td>\n      <td>0.517689</td>\n      <td>0.018469</td>\n      <td>0.134786</td>\n      <td>0.013173</td>\n      <td>0.001290</td>\n      <td>0.494064</td>\n      <td>0.490608</td>\n      <td>False</td>\n      <td>True</td>\n    </tr>\n    <tr>\n      <th>4</th>\n      <td>CA</td>\n      <td>California</td>\n      <td>16092730</td>\n      <td>5416035</td>\n      <td>10339137</td>\n      <td>935878</td>\n      <td>17671</td>\n      <td>38982847</td>\n      <td>24970109</td>\n      <td>0.496797</td>\n      <td>...</td>\n      <td>0.310681</td>\n      <td>0.565784</td>\n      <td>0.030425</td>\n      <td>0.017047</td>\n      <td>0.073052</td>\n      <td>0.003010</td>\n      <td>0.642473</td>\n      <td>0.336552</td>\n      <td>False</td>\n      <td>True</td>\n    </tr>\n  </tbody>\n</table>\n<p>5 rows × 21 columns</p>\n</div>"
     },
     "metadata": {},
     "execution_count": 64
    }
   ],
   "source": [
    "state_df = pd.read_csv(\"Raw Data/state_data.csv\", encoding=\"utf-8\")\n",
    "state_df.head()"
   ]
  },
  {
   "cell_type": "code",
   "execution_count": 65,
   "metadata": {},
   "outputs": [],
   "source": [
    "state_df['hispanic_pop'] = round(state_df['TotalPop']*state_df['Hispanic %'])\n",
    "\n",
    "state_df['white_pop'] = round(state_df['TotalPop']*state_df['White %'])\n",
    "\n",
    "state_df['black_pop'] = round(state_df['TotalPop']*state_df['Black %'])\n",
    "\n",
    "state_df['native_pop'] = round(state_df['TotalPop']*state_df['Native %'])\n",
    "\n",
    "state_df['asian_pop'] = round(state_df['TotalPop']*state_df['Asian %'])\n",
    "\n",
    "state_df['pacific_pop'] = round(state_df['TotalPop']*state_df['Pacific %'])"
   ]
  },
  {
   "cell_type": "code",
   "execution_count": 66,
   "metadata": {},
   "outputs": [
    {
     "output_type": "execute_result",
     "data": {
      "text/plain": [
       "      type                                         properties  \\\n",
       "0  Feature  {'GEO_ID': '0400000US23', 'STATE': '23', 'NAME...   \n",
       "1  Feature  {'GEO_ID': '0400000US25', 'STATE': '25', 'NAME...   \n",
       "2  Feature  {'GEO_ID': '0400000US26', 'STATE': '26', 'NAME...   \n",
       "3  Feature  {'GEO_ID': '0400000US30', 'STATE': '30', 'NAME...   \n",
       "4  Feature  {'GEO_ID': '0400000US32', 'STATE': '32', 'NAME...   \n",
       "\n",
       "                                            geometry           NAME  \\\n",
       "0  {'type': 'MultiPolygon', 'coordinates': [[[[-6...          Maine   \n",
       "1  {'type': 'MultiPolygon', 'coordinates': [[[[-7...  Massachusetts   \n",
       "2  {'type': 'MultiPolygon', 'coordinates': [[[[-8...       Michigan   \n",
       "3  {'type': 'Polygon', 'coordinates': [[[-104.057...        Montana   \n",
       "4  {'type': 'Polygon', 'coordinates': [[[-114.050...         Nevada   \n",
       "\n",
       "   total_votes20  votes20_Donald_Trump  votes20_Joe_Biden   cases  deaths  \\\n",
       "0         786337                341949             420357    6711     147   \n",
       "1        3482216               1131042            2271763  159707   10013   \n",
       "2        5531329               2647004            2795649  197406    7699   \n",
       "3         602781                341765             243716   33495     376   \n",
       "4        1337217                635017             671887  101477    1781   \n",
       "\n",
       "   TotalPop  ...  Republican  Democrat  hispanic_pop  white_pop  black_pop  \\\n",
       "0   1330158  ...       False      True       19145.0  1279415.0    10504.0   \n",
       "1   6789319  ...       False      True      630365.0  5455488.0   399548.0   \n",
       "2   9925568  ...       False      True      351495.0  8949166.0   393596.0   \n",
       "3   1029862  ...        True     False       30486.0   910095.0     2328.0   \n",
       "4   2887725  ...       False      True      510752.0  2132180.0    64538.0   \n",
       "\n",
       "   native_pop  asian_pop  pacific_pop  cases_per_100k  deaths_per_100k  \n",
       "0     10420.0    10504.0        169.0      504.526530        11.051319  \n",
       "1     20027.0   282388.0       1502.0     2352.327236       147.481655  \n",
       "2    128261.0   101336.0       1713.0     1988.863509        77.567349  \n",
       "3     81715.0     4918.0        319.0     3252.377503        36.509746  \n",
       "4    113809.0    59854.0       6593.0     3514.081154        61.674848  \n",
       "\n",
       "[5 rows x 31 columns]"
      ],
      "text/html": "<div>\n<style scoped>\n    .dataframe tbody tr th:only-of-type {\n        vertical-align: middle;\n    }\n\n    .dataframe tbody tr th {\n        vertical-align: top;\n    }\n\n    .dataframe thead th {\n        text-align: right;\n    }\n</style>\n<table border=\"1\" class=\"dataframe\">\n  <thead>\n    <tr style=\"text-align: right;\">\n      <th></th>\n      <th>type</th>\n      <th>properties</th>\n      <th>geometry</th>\n      <th>NAME</th>\n      <th>total_votes20</th>\n      <th>votes20_Donald_Trump</th>\n      <th>votes20_Joe_Biden</th>\n      <th>cases</th>\n      <th>deaths</th>\n      <th>TotalPop</th>\n      <th>...</th>\n      <th>Republican</th>\n      <th>Democrat</th>\n      <th>hispanic_pop</th>\n      <th>white_pop</th>\n      <th>black_pop</th>\n      <th>native_pop</th>\n      <th>asian_pop</th>\n      <th>pacific_pop</th>\n      <th>cases_per_100k</th>\n      <th>deaths_per_100k</th>\n    </tr>\n  </thead>\n  <tbody>\n    <tr>\n      <th>0</th>\n      <td>Feature</td>\n      <td>{'GEO_ID': '0400000US23', 'STATE': '23', 'NAME...</td>\n      <td>{'type': 'MultiPolygon', 'coordinates': [[[[-6...</td>\n      <td>Maine</td>\n      <td>786337</td>\n      <td>341949</td>\n      <td>420357</td>\n      <td>6711</td>\n      <td>147</td>\n      <td>1330158</td>\n      <td>...</td>\n      <td>False</td>\n      <td>True</td>\n      <td>19145.0</td>\n      <td>1279415.0</td>\n      <td>10504.0</td>\n      <td>10420.0</td>\n      <td>10504.0</td>\n      <td>169.0</td>\n      <td>504.526530</td>\n      <td>11.051319</td>\n    </tr>\n    <tr>\n      <th>1</th>\n      <td>Feature</td>\n      <td>{'GEO_ID': '0400000US25', 'STATE': '25', 'NAME...</td>\n      <td>{'type': 'MultiPolygon', 'coordinates': [[[[-7...</td>\n      <td>Massachusetts</td>\n      <td>3482216</td>\n      <td>1131042</td>\n      <td>2271763</td>\n      <td>159707</td>\n      <td>10013</td>\n      <td>6789319</td>\n      <td>...</td>\n      <td>False</td>\n      <td>True</td>\n      <td>630365.0</td>\n      <td>5455488.0</td>\n      <td>399548.0</td>\n      <td>20027.0</td>\n      <td>282388.0</td>\n      <td>1502.0</td>\n      <td>2352.327236</td>\n      <td>147.481655</td>\n    </tr>\n    <tr>\n      <th>2</th>\n      <td>Feature</td>\n      <td>{'GEO_ID': '0400000US26', 'STATE': '26', 'NAME...</td>\n      <td>{'type': 'MultiPolygon', 'coordinates': [[[[-8...</td>\n      <td>Michigan</td>\n      <td>5531329</td>\n      <td>2647004</td>\n      <td>2795649</td>\n      <td>197406</td>\n      <td>7699</td>\n      <td>9925568</td>\n      <td>...</td>\n      <td>False</td>\n      <td>True</td>\n      <td>351495.0</td>\n      <td>8949166.0</td>\n      <td>393596.0</td>\n      <td>128261.0</td>\n      <td>101336.0</td>\n      <td>1713.0</td>\n      <td>1988.863509</td>\n      <td>77.567349</td>\n    </tr>\n    <tr>\n      <th>3</th>\n      <td>Feature</td>\n      <td>{'GEO_ID': '0400000US30', 'STATE': '30', 'NAME...</td>\n      <td>{'type': 'Polygon', 'coordinates': [[[-104.057...</td>\n      <td>Montana</td>\n      <td>602781</td>\n      <td>341765</td>\n      <td>243716</td>\n      <td>33495</td>\n      <td>376</td>\n      <td>1029862</td>\n      <td>...</td>\n      <td>True</td>\n      <td>False</td>\n      <td>30486.0</td>\n      <td>910095.0</td>\n      <td>2328.0</td>\n      <td>81715.0</td>\n      <td>4918.0</td>\n      <td>319.0</td>\n      <td>3252.377503</td>\n      <td>36.509746</td>\n    </tr>\n    <tr>\n      <th>4</th>\n      <td>Feature</td>\n      <td>{'GEO_ID': '0400000US32', 'STATE': '32', 'NAME...</td>\n      <td>{'type': 'Polygon', 'coordinates': [[[-114.050...</td>\n      <td>Nevada</td>\n      <td>1337217</td>\n      <td>635017</td>\n      <td>671887</td>\n      <td>101477</td>\n      <td>1781</td>\n      <td>2887725</td>\n      <td>...</td>\n      <td>False</td>\n      <td>True</td>\n      <td>510752.0</td>\n      <td>2132180.0</td>\n      <td>64538.0</td>\n      <td>113809.0</td>\n      <td>59854.0</td>\n      <td>6593.0</td>\n      <td>3514.081154</td>\n      <td>61.674848</td>\n    </tr>\n  </tbody>\n</table>\n<p>5 rows × 31 columns</p>\n</div>"
     },
     "metadata": {},
     "execution_count": 66
    }
   ],
   "source": [
    "merged_df = pd.merge(stategeo_df, state_df, on=\"NAME\")\n",
    "merged_df.head()\n",
    "clean_state_df = merged_df.drop(['state'],axis=1)\n",
    "\n",
    "clean_state_df[\"cases_per_100k\"]= (clean_state_df[\"cases\"]/clean_state_df[\"TotalPop\"])*100000\n",
    "clean_state_df[\"deaths_per_100k\"]= (clean_state_df[\"deaths\"]/clean_state_df[\"TotalPop\"])*100000\n",
    "\n",
    "\n",
    "clean_state_df.head()"
   ]
  },
  {
   "cell_type": "code",
   "execution_count": 67,
   "metadata": {},
   "outputs": [
    {
     "output_type": "execute_result",
     "data": {
      "text/plain": [
       "      type                                         properties  \\\n",
       "0  Feature  {'GEO_ID': '0400000US23', 'STATE': '23', 'NAME...   \n",
       "1  Feature  {'GEO_ID': '0400000US25', 'STATE': '25', 'NAME...   \n",
       "2  Feature  {'GEO_ID': '0400000US26', 'STATE': '26', 'NAME...   \n",
       "3  Feature  {'GEO_ID': '0400000US30', 'STATE': '30', 'NAME...   \n",
       "4  Feature  {'GEO_ID': '0400000US32', 'STATE': '32', 'NAME...   \n",
       "\n",
       "                                            geometry           NAME  \\\n",
       "0  {\"type\": \"MultiPolygon\", \"coordinates\": [[[[-6...          Maine   \n",
       "1  {\"type\": \"MultiPolygon\", \"coordinates\": [[[[-7...  Massachusetts   \n",
       "2  {\"type\": \"MultiPolygon\", \"coordinates\": [[[[-8...       Michigan   \n",
       "3  {\"type\": \"Polygon\", \"coordinates\": [[[-104.057...        Montana   \n",
       "4  {\"type\": \"Polygon\", \"coordinates\": [[[-114.050...         Nevada   \n",
       "\n",
       "   total_votes20  votes20_Donald_Trump  votes20_Joe_Biden   cases  deaths  \\\n",
       "0         786337                341949             420357    6711     147   \n",
       "1        3482216               1131042            2271763  159707   10013   \n",
       "2        5531329               2647004            2795649  197406    7699   \n",
       "3         602781                341765             243716   33495     376   \n",
       "4        1337217                635017             671887  101477    1781   \n",
       "\n",
       "   TotalPop  ...  Republican  Democrat  hispanic_pop  white_pop  black_pop  \\\n",
       "0   1330158  ...       False      True       19145.0  1279415.0    10504.0   \n",
       "1   6789319  ...       False      True      630365.0  5455488.0   399548.0   \n",
       "2   9925568  ...       False      True      351495.0  8949166.0   393596.0   \n",
       "3   1029862  ...        True     False       30486.0   910095.0     2328.0   \n",
       "4   2887725  ...       False      True      510752.0  2132180.0    64538.0   \n",
       "\n",
       "   native_pop  asian_pop  pacific_pop  cases_per_100k  deaths_per_100k  \n",
       "0     10420.0    10504.0        169.0      504.526530        11.051319  \n",
       "1     20027.0   282388.0       1502.0     2352.327236       147.481655  \n",
       "2    128261.0   101336.0       1713.0     1988.863509        77.567349  \n",
       "3     81715.0     4918.0        319.0     3252.377503        36.509746  \n",
       "4    113809.0    59854.0       6593.0     3514.081154        61.674848  \n",
       "\n",
       "[5 rows x 31 columns]"
      ],
      "text/html": "<div>\n<style scoped>\n    .dataframe tbody tr th:only-of-type {\n        vertical-align: middle;\n    }\n\n    .dataframe tbody tr th {\n        vertical-align: top;\n    }\n\n    .dataframe thead th {\n        text-align: right;\n    }\n</style>\n<table border=\"1\" class=\"dataframe\">\n  <thead>\n    <tr style=\"text-align: right;\">\n      <th></th>\n      <th>type</th>\n      <th>properties</th>\n      <th>geometry</th>\n      <th>NAME</th>\n      <th>total_votes20</th>\n      <th>votes20_Donald_Trump</th>\n      <th>votes20_Joe_Biden</th>\n      <th>cases</th>\n      <th>deaths</th>\n      <th>TotalPop</th>\n      <th>...</th>\n      <th>Republican</th>\n      <th>Democrat</th>\n      <th>hispanic_pop</th>\n      <th>white_pop</th>\n      <th>black_pop</th>\n      <th>native_pop</th>\n      <th>asian_pop</th>\n      <th>pacific_pop</th>\n      <th>cases_per_100k</th>\n      <th>deaths_per_100k</th>\n    </tr>\n  </thead>\n  <tbody>\n    <tr>\n      <th>0</th>\n      <td>Feature</td>\n      <td>{'GEO_ID': '0400000US23', 'STATE': '23', 'NAME...</td>\n      <td>{\"type\": \"MultiPolygon\", \"coordinates\": [[[[-6...</td>\n      <td>Maine</td>\n      <td>786337</td>\n      <td>341949</td>\n      <td>420357</td>\n      <td>6711</td>\n      <td>147</td>\n      <td>1330158</td>\n      <td>...</td>\n      <td>False</td>\n      <td>True</td>\n      <td>19145.0</td>\n      <td>1279415.0</td>\n      <td>10504.0</td>\n      <td>10420.0</td>\n      <td>10504.0</td>\n      <td>169.0</td>\n      <td>504.526530</td>\n      <td>11.051319</td>\n    </tr>\n    <tr>\n      <th>1</th>\n      <td>Feature</td>\n      <td>{'GEO_ID': '0400000US25', 'STATE': '25', 'NAME...</td>\n      <td>{\"type\": \"MultiPolygon\", \"coordinates\": [[[[-7...</td>\n      <td>Massachusetts</td>\n      <td>3482216</td>\n      <td>1131042</td>\n      <td>2271763</td>\n      <td>159707</td>\n      <td>10013</td>\n      <td>6789319</td>\n      <td>...</td>\n      <td>False</td>\n      <td>True</td>\n      <td>630365.0</td>\n      <td>5455488.0</td>\n      <td>399548.0</td>\n      <td>20027.0</td>\n      <td>282388.0</td>\n      <td>1502.0</td>\n      <td>2352.327236</td>\n      <td>147.481655</td>\n    </tr>\n    <tr>\n      <th>2</th>\n      <td>Feature</td>\n      <td>{'GEO_ID': '0400000US26', 'STATE': '26', 'NAME...</td>\n      <td>{\"type\": \"MultiPolygon\", \"coordinates\": [[[[-8...</td>\n      <td>Michigan</td>\n      <td>5531329</td>\n      <td>2647004</td>\n      <td>2795649</td>\n      <td>197406</td>\n      <td>7699</td>\n      <td>9925568</td>\n      <td>...</td>\n      <td>False</td>\n      <td>True</td>\n      <td>351495.0</td>\n      <td>8949166.0</td>\n      <td>393596.0</td>\n      <td>128261.0</td>\n      <td>101336.0</td>\n      <td>1713.0</td>\n      <td>1988.863509</td>\n      <td>77.567349</td>\n    </tr>\n    <tr>\n      <th>3</th>\n      <td>Feature</td>\n      <td>{'GEO_ID': '0400000US30', 'STATE': '30', 'NAME...</td>\n      <td>{\"type\": \"Polygon\", \"coordinates\": [[[-104.057...</td>\n      <td>Montana</td>\n      <td>602781</td>\n      <td>341765</td>\n      <td>243716</td>\n      <td>33495</td>\n      <td>376</td>\n      <td>1029862</td>\n      <td>...</td>\n      <td>True</td>\n      <td>False</td>\n      <td>30486.0</td>\n      <td>910095.0</td>\n      <td>2328.0</td>\n      <td>81715.0</td>\n      <td>4918.0</td>\n      <td>319.0</td>\n      <td>3252.377503</td>\n      <td>36.509746</td>\n    </tr>\n    <tr>\n      <th>4</th>\n      <td>Feature</td>\n      <td>{'GEO_ID': '0400000US32', 'STATE': '32', 'NAME...</td>\n      <td>{\"type\": \"Polygon\", \"coordinates\": [[[-114.050...</td>\n      <td>Nevada</td>\n      <td>1337217</td>\n      <td>635017</td>\n      <td>671887</td>\n      <td>101477</td>\n      <td>1781</td>\n      <td>2887725</td>\n      <td>...</td>\n      <td>False</td>\n      <td>True</td>\n      <td>510752.0</td>\n      <td>2132180.0</td>\n      <td>64538.0</td>\n      <td>113809.0</td>\n      <td>59854.0</td>\n      <td>6593.0</td>\n      <td>3514.081154</td>\n      <td>61.674848</td>\n    </tr>\n  </tbody>\n</table>\n<p>5 rows × 31 columns</p>\n</div>"
     },
     "metadata": {},
     "execution_count": 67
    }
   ],
   "source": [
    "# #new_df = pd.DataFrame(clean_state_df.geometry.str.split(',',1).tolist(), \n",
    "#                          #columns = ['type','coordinates'])\n",
    "\n",
    "clean_state_df['geometry'] = clean_state_df['geometry'].str.replace(\"'\",'\"') \n",
    "# new_df['type'] = new_df['type'].str.split(':').str[1]\n",
    "# new_df['type'] = new_df['type'].str.replace(\"'\",'') \n",
    "\n",
    "#clean_state_df['geometry'] = clean_state_df['geometry'].str.replace('}','') \n",
    "# new_df['coordinates'] = new_df['coordinates'].str.split(':').str[1]\n",
    "\n",
    "\n",
    "clean_state_df.head()"
   ]
  },
  {
   "cell_type": "code",
   "execution_count": 68,
   "metadata": {},
   "outputs": [
    {
     "output_type": "stream",
     "name": "stdout",
     "text": [
      "<class 'pandas.core.frame.DataFrame'>\nInt64Index: 49 entries, 0 to 48\nData columns (total 31 columns):\n #   Column                Non-Null Count  Dtype  \n---  ------                --------------  -----  \n 0   type                  49 non-null     object \n 1   properties            49 non-null     object \n 2   geometry              49 non-null     object \n 3   NAME                  49 non-null     object \n 4   total_votes20         49 non-null     int64  \n 5   votes20_Donald_Trump  49 non-null     int64  \n 6   votes20_Joe_Biden     49 non-null     int64  \n 7   cases                 49 non-null     int64  \n 8   deaths                49 non-null     int64  \n 9   TotalPop              49 non-null     int64  \n 10  VotingAgeCitizen      49 non-null     int64  \n 11  Men %                 49 non-null     float64\n 12  Women %               49 non-null     float64\n 13  Hispanic %            49 non-null     float64\n 14  White %               49 non-null     float64\n 15  Black %               49 non-null     float64\n 16  Native %              49 non-null     float64\n 17  Asian %               49 non-null     float64\n 18  Pacific %             49 non-null     float64\n 19  Biden %               49 non-null     float64\n 20  Trump %               49 non-null     float64\n 21  Republican            49 non-null     bool   \n 22  Democrat              49 non-null     bool   \n 23  hispanic_pop          49 non-null     float64\n 24  white_pop             49 non-null     float64\n 25  black_pop             49 non-null     float64\n 26  native_pop            49 non-null     float64\n 27  asian_pop             49 non-null     float64\n 28  pacific_pop           49 non-null     float64\n 29  cases_per_100k        49 non-null     float64\n 30  deaths_per_100k       49 non-null     float64\ndtypes: bool(2), float64(18), int64(7), object(4)\nmemory usage: 11.6+ KB\n"
     ]
    }
   ],
   "source": [
    "clean_state_df.info()"
   ]
  },
  {
   "cell_type": "code",
   "execution_count": 79,
   "metadata": {},
   "outputs": [
    {
     "output_type": "display_data",
     "data": {
      "text/plain": "<Figure size 432x288 with 1 Axes>",
      "image/svg+xml": "<?xml version=\"1.0\" encoding=\"utf-8\" standalone=\"no\"?>\r\n<!DOCTYPE svg PUBLIC \"-//W3C//DTD SVG 1.1//EN\"\r\n  \"http://www.w3.org/Graphics/SVG/1.1/DTD/svg11.dtd\">\r\n<!-- Created with matplotlib (https://matplotlib.org/) -->\r\n<svg height=\"248.518125pt\" version=\"1.1\" viewBox=\"0 0 372.103125 248.518125\" width=\"372.103125pt\" xmlns=\"http://www.w3.org/2000/svg\" xmlns:xlink=\"http://www.w3.org/1999/xlink\">\r\n <defs>\r\n  <style type=\"text/css\">\r\n*{stroke-linecap:butt;stroke-linejoin:round;}\r\n  </style>\r\n </defs>\r\n <g id=\"figure_1\">\r\n  <g id=\"patch_1\">\r\n   <path d=\"M 0 248.518125 \r\nL 372.103125 248.518125 \r\nL 372.103125 0 \r\nL 0 0 \r\nz\r\n\" style=\"fill:none;\"/>\r\n  </g>\r\n  <g id=\"axes_1\">\r\n   <g id=\"patch_2\">\r\n    <path d=\"M 30.103125 224.64 \r\nL 364.903125 224.64 \r\nL 364.903125 7.2 \r\nL 30.103125 7.2 \r\nz\r\n\" style=\"fill:#ffffff;\"/>\r\n   </g>\r\n   <g id=\"PathCollection_1\">\r\n    <defs>\r\n     <path d=\"M 0 5 \r\nC 1.326016 5 2.597899 4.473168 3.535534 3.535534 \r\nC 4.473168 2.597899 5 1.326016 5 0 \r\nC 5 -1.326016 4.473168 -2.597899 3.535534 -3.535534 \r\nC 2.597899 -4.473168 1.326016 -5 0 -5 \r\nC -1.326016 -5 -2.597899 -4.473168 -3.535534 -3.535534 \r\nC -4.473168 -2.597899 -5 -1.326016 -5 0 \r\nC -5 1.326016 -4.473168 2.597899 -3.535534 3.535534 \r\nC -2.597899 4.473168 -1.326016 5 0 5 \r\nz\r\n\" id=\"me08e14a68f\" style=\"stroke:#0000ff;\"/>\r\n    </defs>\r\n    <g clip-path=\"url(#paec5ff6581)\">\r\n     <use style=\"fill:#0000ff;stroke:#0000ff;\" x=\"46.791639\" xlink:href=\"#me08e14a68f\" y=\"214.756364\"/>\r\n     <use style=\"fill:#0000ff;stroke:#0000ff;\" x=\"96.615545\" xlink:href=\"#me08e14a68f\" y=\"214.756364\"/>\r\n     <use style=\"fill:#0000ff;stroke:#0000ff;\" x=\"108.892411\" xlink:href=\"#me08e14a68f\" y=\"214.756364\"/>\r\n     <use style=\"fill:#0000ff;stroke:#0000ff;\" x=\"77.652657\" xlink:href=\"#me08e14a68f\" y=\"214.756364\"/>\r\n     <use style=\"fill:#0000ff;stroke:#0000ff;\" x=\"122.64254\" xlink:href=\"#me08e14a68f\" y=\"214.756364\"/>\r\n     <use style=\"fill:#0000ff;stroke:#0000ff;\" x=\"210.603898\" xlink:href=\"#me08e14a68f\" y=\"214.756364\"/>\r\n     <use style=\"fill:#0000ff;stroke:#0000ff;\" x=\"114.431802\" xlink:href=\"#me08e14a68f\" y=\"214.756364\"/>\r\n     <use style=\"fill:#0000ff;stroke:#0000ff;\" x=\"55.31175\" xlink:href=\"#me08e14a68f\" y=\"214.756364\"/>\r\n     <use style=\"fill:#0000ff;stroke:#0000ff;\" x=\"79.879485\" xlink:href=\"#me08e14a68f\" y=\"214.756364\"/>\r\n     <use style=\"fill:#0000ff;stroke:#0000ff;\" x=\"119.136213\" xlink:href=\"#me08e14a68f\" y=\"214.756364\"/>\r\n     <use style=\"fill:#0000ff;stroke:#0000ff;\" x=\"92.199012\" xlink:href=\"#me08e14a68f\" y=\"214.756364\"/>\r\n     <use style=\"fill:#0000ff;stroke:#0000ff;\" x=\"125.196978\" xlink:href=\"#me08e14a68f\" y=\"214.756364\"/>\r\n     <use style=\"fill:#0000ff;stroke:#0000ff;\" x=\"349.379479\" xlink:href=\"#me08e14a68f\" y=\"214.756364\"/>\r\n     <use style=\"fill:#0000ff;stroke:#0000ff;\" x=\"80.398905\" xlink:href=\"#me08e14a68f\" y=\"214.756364\"/>\r\n     <use style=\"fill:#0000ff;stroke:#0000ff;\" x=\"67.795081\" xlink:href=\"#me08e14a68f\" y=\"214.756364\"/>\r\n     <use style=\"fill:#0000ff;stroke:#0000ff;\" x=\"52.788575\" xlink:href=\"#me08e14a68f\" y=\"214.756364\"/>\r\n     <use style=\"fill:#0000ff;stroke:#0000ff;\" x=\"162.487401\" xlink:href=\"#me08e14a68f\" y=\"214.756364\"/>\r\n     <use style=\"fill:#0000ff;stroke:#0000ff;\" x=\"49.541144\" xlink:href=\"#me08e14a68f\" y=\"214.756364\"/>\r\n     <use style=\"fill:#0000ff;stroke:#0000ff;\" x=\"182.529836\" xlink:href=\"#me08e14a68f\" y=\"214.756364\"/>\r\n     <use style=\"fill:#0000ff;stroke:#0000ff;\" x=\"93.673252\" xlink:href=\"#me08e14a68f\" y=\"214.756364\"/>\r\n     <use style=\"fill:#0000ff;stroke:#0000ff;\" x=\"48.258063\" xlink:href=\"#me08e14a68f\" y=\"214.756364\"/>\r\n     <use style=\"fill:#0000ff;stroke:#0000ff;\" x=\"59.987503\" xlink:href=\"#me08e14a68f\" y=\"214.756364\"/>\r\n     <use style=\"fill:#0000ff;stroke:#0000ff;\" x=\"59.400348\" xlink:href=\"#me08e14a68f\" y=\"214.756364\"/>\r\n     <use style=\"fill:#0000ff;stroke:#0000ff;\" x=\"45.321307\" xlink:href=\"#me08e14a68f\" y=\"214.756364\"/>\r\n     <use style=\"fill:#0000ff;stroke:#0000ff;\" x=\"104.003028\" xlink:href=\"#me08e14a68f\" y=\"214.756364\"/>\r\n    </g>\r\n   </g>\r\n   <g id=\"PathCollection_2\">\r\n    <defs>\r\n     <path d=\"M 0 5 \r\nC 1.326016 5 2.597899 4.473168 3.535534 3.535534 \r\nC 4.473168 2.597899 5 1.326016 5 0 \r\nC 5 -1.326016 4.473168 -2.597899 3.535534 -3.535534 \r\nC 2.597899 -4.473168 1.326016 -5 0 -5 \r\nC -1.326016 -5 -2.597899 -4.473168 -3.535534 -3.535534 \r\nC -4.473168 -2.597899 -5 -1.326016 -5 0 \r\nC -5 1.326016 -4.473168 2.597899 -3.535534 3.535534 \r\nC -2.597899 4.473168 -1.326016 5 0 5 \r\nz\r\n\" id=\"md4bbbf58c5\" style=\"stroke:#ff0000;\"/>\r\n    </defs>\r\n    <g clip-path=\"url(#paec5ff6581)\">\r\n     <use style=\"fill:#ff0000;stroke:#ff0000;\" x=\"55.513981\" xlink:href=\"#md4bbbf58c5\" y=\"17.083636\"/>\r\n     <use style=\"fill:#ff0000;stroke:#ff0000;\" x=\"134.71229\" xlink:href=\"#md4bbbf58c5\" y=\"17.083636\"/>\r\n     <use style=\"fill:#ff0000;stroke:#ff0000;\" x=\"115.924604\" xlink:href=\"#md4bbbf58c5\" y=\"17.083636\"/>\r\n     <use style=\"fill:#ff0000;stroke:#ff0000;\" x=\"129.740841\" xlink:href=\"#md4bbbf58c5\" y=\"17.083636\"/>\r\n     <use style=\"fill:#ff0000;stroke:#ff0000;\" x=\"349.684943\" xlink:href=\"#md4bbbf58c5\" y=\"17.083636\"/>\r\n     <use style=\"fill:#ff0000;stroke:#ff0000;\" x=\"82.548228\" xlink:href=\"#md4bbbf58c5\" y=\"17.083636\"/>\r\n     <use style=\"fill:#ff0000;stroke:#ff0000;\" x=\"107.778345\" xlink:href=\"#md4bbbf58c5\" y=\"17.083636\"/>\r\n     <use style=\"fill:#ff0000;stroke:#ff0000;\" x=\"50.046235\" xlink:href=\"#md4bbbf58c5\" y=\"17.083636\"/>\r\n     <use style=\"fill:#ff0000;stroke:#ff0000;\" x=\"81.423741\" xlink:href=\"#md4bbbf58c5\" y=\"17.083636\"/>\r\n     <use style=\"fill:#ff0000;stroke:#ff0000;\" x=\"307.543889\" xlink:href=\"#md4bbbf58c5\" y=\"17.083636\"/>\r\n     <use style=\"fill:#ff0000;stroke:#ff0000;\" x=\"65.802398\" xlink:href=\"#md4bbbf58c5\" y=\"17.083636\"/>\r\n     <use style=\"fill:#ff0000;stroke:#ff0000;\" x=\"103.910542\" xlink:href=\"#md4bbbf58c5\" y=\"17.083636\"/>\r\n     <use style=\"fill:#ff0000;stroke:#ff0000;\" x=\"87.258501\" xlink:href=\"#md4bbbf58c5\" y=\"17.083636\"/>\r\n     <use style=\"fill:#ff0000;stroke:#ff0000;\" x=\"71.70001\" xlink:href=\"#md4bbbf58c5\" y=\"17.083636\"/>\r\n     <use style=\"fill:#ff0000;stroke:#ff0000;\" x=\"79.985974\" xlink:href=\"#md4bbbf58c5\" y=\"17.083636\"/>\r\n     <use style=\"fill:#ff0000;stroke:#ff0000;\" x=\"83.847591\" xlink:href=\"#md4bbbf58c5\" y=\"17.083636\"/>\r\n     <use style=\"fill:#ff0000;stroke:#ff0000;\" x=\"105.935138\" xlink:href=\"#md4bbbf58c5\" y=\"17.083636\"/>\r\n     <use style=\"fill:#ff0000;stroke:#ff0000;\" x=\"67.944557\" xlink:href=\"#md4bbbf58c5\" y=\"17.083636\"/>\r\n     <use style=\"fill:#ff0000;stroke:#ff0000;\" x=\"59.274645\" xlink:href=\"#md4bbbf58c5\" y=\"17.083636\"/>\r\n     <use style=\"fill:#ff0000;stroke:#ff0000;\" x=\"85.023531\" xlink:href=\"#md4bbbf58c5\" y=\"17.083636\"/>\r\n     <use style=\"fill:#ff0000;stroke:#ff0000;\" x=\"102.580241\" xlink:href=\"#md4bbbf58c5\" y=\"17.083636\"/>\r\n     <use style=\"fill:#ff0000;stroke:#ff0000;\" x=\"60.017464\" xlink:href=\"#md4bbbf58c5\" y=\"17.083636\"/>\r\n     <use style=\"fill:#ff0000;stroke:#ff0000;\" x=\"52.709441\" xlink:href=\"#md4bbbf58c5\" y=\"17.083636\"/>\r\n     <use style=\"fill:#ff0000;stroke:#ff0000;\" x=\"49.075132\" xlink:href=\"#md4bbbf58c5\" y=\"17.083636\"/>\r\n    </g>\r\n   </g>\r\n   <g id=\"matplotlib.axis_1\">\r\n    <g id=\"xtick_1\">\r\n     <g id=\"line2d_1\">\r\n      <defs>\r\n       <path d=\"M 0 0 \r\nL 0 3.5 \r\n\" id=\"mb6d49ce251\" style=\"stroke:#000000;stroke-width:0.8;\"/>\r\n      </defs>\r\n      <g>\r\n       <use style=\"stroke:#000000;stroke-width:0.8;\" x=\"44.606169\" xlink:href=\"#mb6d49ce251\" y=\"224.64\"/>\r\n      </g>\r\n     </g>\r\n     <g id=\"text_1\">\r\n      <!-- 0 -->\r\n      <defs>\r\n       <path d=\"M 31.78125 66.40625 \r\nQ 24.171875 66.40625 20.328125 58.90625 \r\nQ 16.5 51.421875 16.5 36.375 \r\nQ 16.5 21.390625 20.328125 13.890625 \r\nQ 24.171875 6.390625 31.78125 6.390625 \r\nQ 39.453125 6.390625 43.28125 13.890625 \r\nQ 47.125 21.390625 47.125 36.375 \r\nQ 47.125 51.421875 43.28125 58.90625 \r\nQ 39.453125 66.40625 31.78125 66.40625 \r\nz\r\nM 31.78125 74.21875 \r\nQ 44.046875 74.21875 50.515625 64.515625 \r\nQ 56.984375 54.828125 56.984375 36.375 \r\nQ 56.984375 17.96875 50.515625 8.265625 \r\nQ 44.046875 -1.421875 31.78125 -1.421875 \r\nQ 19.53125 -1.421875 13.0625 8.265625 \r\nQ 6.59375 17.96875 6.59375 36.375 \r\nQ 6.59375 54.828125 13.0625 64.515625 \r\nQ 19.53125 74.21875 31.78125 74.21875 \r\nz\r\n\" id=\"DejaVuSans-48\"/>\r\n      </defs>\r\n      <g transform=\"translate(41.424919 239.238437)scale(0.1 -0.1)\">\r\n       <use xlink:href=\"#DejaVuSans-48\"/>\r\n      </g>\r\n     </g>\r\n    </g>\r\n    <g id=\"xtick_2\">\r\n     <g id=\"line2d_2\">\r\n      <g>\r\n       <use style=\"stroke:#000000;stroke-width:0.8;\" x=\"109.73716\" xlink:href=\"#mb6d49ce251\" y=\"224.64\"/>\r\n      </g>\r\n     </g>\r\n     <g id=\"text_2\">\r\n      <!-- 200000 -->\r\n      <defs>\r\n       <path d=\"M 19.1875 8.296875 \r\nL 53.609375 8.296875 \r\nL 53.609375 0 \r\nL 7.328125 0 \r\nL 7.328125 8.296875 \r\nQ 12.9375 14.109375 22.625 23.890625 \r\nQ 32.328125 33.6875 34.8125 36.53125 \r\nQ 39.546875 41.84375 41.421875 45.53125 \r\nQ 43.3125 49.21875 43.3125 52.78125 \r\nQ 43.3125 58.59375 39.234375 62.25 \r\nQ 35.15625 65.921875 28.609375 65.921875 \r\nQ 23.96875 65.921875 18.8125 64.3125 \r\nQ 13.671875 62.703125 7.8125 59.421875 \r\nL 7.8125 69.390625 \r\nQ 13.765625 71.78125 18.9375 73 \r\nQ 24.125 74.21875 28.421875 74.21875 \r\nQ 39.75 74.21875 46.484375 68.546875 \r\nQ 53.21875 62.890625 53.21875 53.421875 \r\nQ 53.21875 48.921875 51.53125 44.890625 \r\nQ 49.859375 40.875 45.40625 35.40625 \r\nQ 44.1875 33.984375 37.640625 27.21875 \r\nQ 31.109375 20.453125 19.1875 8.296875 \r\nz\r\n\" id=\"DejaVuSans-50\"/>\r\n      </defs>\r\n      <g transform=\"translate(90.64966 239.238437)scale(0.1 -0.1)\">\r\n       <use xlink:href=\"#DejaVuSans-50\"/>\r\n       <use x=\"63.623047\" xlink:href=\"#DejaVuSans-48\"/>\r\n       <use x=\"127.246094\" xlink:href=\"#DejaVuSans-48\"/>\r\n       <use x=\"190.869141\" xlink:href=\"#DejaVuSans-48\"/>\r\n       <use x=\"254.492188\" xlink:href=\"#DejaVuSans-48\"/>\r\n       <use x=\"318.115234\" xlink:href=\"#DejaVuSans-48\"/>\r\n      </g>\r\n     </g>\r\n    </g>\r\n    <g id=\"xtick_3\">\r\n     <g id=\"line2d_3\">\r\n      <g>\r\n       <use style=\"stroke:#000000;stroke-width:0.8;\" x=\"174.868152\" xlink:href=\"#mb6d49ce251\" y=\"224.64\"/>\r\n      </g>\r\n     </g>\r\n     <g id=\"text_3\">\r\n      <!-- 400000 -->\r\n      <defs>\r\n       <path d=\"M 37.796875 64.3125 \r\nL 12.890625 25.390625 \r\nL 37.796875 25.390625 \r\nz\r\nM 35.203125 72.90625 \r\nL 47.609375 72.90625 \r\nL 47.609375 25.390625 \r\nL 58.015625 25.390625 \r\nL 58.015625 17.1875 \r\nL 47.609375 17.1875 \r\nL 47.609375 0 \r\nL 37.796875 0 \r\nL 37.796875 17.1875 \r\nL 4.890625 17.1875 \r\nL 4.890625 26.703125 \r\nz\r\n\" id=\"DejaVuSans-52\"/>\r\n      </defs>\r\n      <g transform=\"translate(155.780652 239.238437)scale(0.1 -0.1)\">\r\n       <use xlink:href=\"#DejaVuSans-52\"/>\r\n       <use x=\"63.623047\" xlink:href=\"#DejaVuSans-48\"/>\r\n       <use x=\"127.246094\" xlink:href=\"#DejaVuSans-48\"/>\r\n       <use x=\"190.869141\" xlink:href=\"#DejaVuSans-48\"/>\r\n       <use x=\"254.492188\" xlink:href=\"#DejaVuSans-48\"/>\r\n       <use x=\"318.115234\" xlink:href=\"#DejaVuSans-48\"/>\r\n      </g>\r\n     </g>\r\n    </g>\r\n    <g id=\"xtick_4\">\r\n     <g id=\"line2d_4\">\r\n      <g>\r\n       <use style=\"stroke:#000000;stroke-width:0.8;\" x=\"239.999143\" xlink:href=\"#mb6d49ce251\" y=\"224.64\"/>\r\n      </g>\r\n     </g>\r\n     <g id=\"text_4\">\r\n      <!-- 600000 -->\r\n      <defs>\r\n       <path d=\"M 33.015625 40.375 \r\nQ 26.375 40.375 22.484375 35.828125 \r\nQ 18.609375 31.296875 18.609375 23.390625 \r\nQ 18.609375 15.53125 22.484375 10.953125 \r\nQ 26.375 6.390625 33.015625 6.390625 \r\nQ 39.65625 6.390625 43.53125 10.953125 \r\nQ 47.40625 15.53125 47.40625 23.390625 \r\nQ 47.40625 31.296875 43.53125 35.828125 \r\nQ 39.65625 40.375 33.015625 40.375 \r\nz\r\nM 52.59375 71.296875 \r\nL 52.59375 62.3125 \r\nQ 48.875 64.0625 45.09375 64.984375 \r\nQ 41.3125 65.921875 37.59375 65.921875 \r\nQ 27.828125 65.921875 22.671875 59.328125 \r\nQ 17.53125 52.734375 16.796875 39.40625 \r\nQ 19.671875 43.65625 24.015625 45.921875 \r\nQ 28.375 48.1875 33.59375 48.1875 \r\nQ 44.578125 48.1875 50.953125 41.515625 \r\nQ 57.328125 34.859375 57.328125 23.390625 \r\nQ 57.328125 12.15625 50.6875 5.359375 \r\nQ 44.046875 -1.421875 33.015625 -1.421875 \r\nQ 20.359375 -1.421875 13.671875 8.265625 \r\nQ 6.984375 17.96875 6.984375 36.375 \r\nQ 6.984375 53.65625 15.1875 63.9375 \r\nQ 23.390625 74.21875 37.203125 74.21875 \r\nQ 40.921875 74.21875 44.703125 73.484375 \r\nQ 48.484375 72.75 52.59375 71.296875 \r\nz\r\n\" id=\"DejaVuSans-54\"/>\r\n      </defs>\r\n      <g transform=\"translate(220.911643 239.238437)scale(0.1 -0.1)\">\r\n       <use xlink:href=\"#DejaVuSans-54\"/>\r\n       <use x=\"63.623047\" xlink:href=\"#DejaVuSans-48\"/>\r\n       <use x=\"127.246094\" xlink:href=\"#DejaVuSans-48\"/>\r\n       <use x=\"190.869141\" xlink:href=\"#DejaVuSans-48\"/>\r\n       <use x=\"254.492188\" xlink:href=\"#DejaVuSans-48\"/>\r\n       <use x=\"318.115234\" xlink:href=\"#DejaVuSans-48\"/>\r\n      </g>\r\n     </g>\r\n    </g>\r\n    <g id=\"xtick_5\">\r\n     <g id=\"line2d_5\">\r\n      <g>\r\n       <use style=\"stroke:#000000;stroke-width:0.8;\" x=\"305.130135\" xlink:href=\"#mb6d49ce251\" y=\"224.64\"/>\r\n      </g>\r\n     </g>\r\n     <g id=\"text_5\">\r\n      <!-- 800000 -->\r\n      <defs>\r\n       <path d=\"M 31.78125 34.625 \r\nQ 24.75 34.625 20.71875 30.859375 \r\nQ 16.703125 27.09375 16.703125 20.515625 \r\nQ 16.703125 13.921875 20.71875 10.15625 \r\nQ 24.75 6.390625 31.78125 6.390625 \r\nQ 38.8125 6.390625 42.859375 10.171875 \r\nQ 46.921875 13.96875 46.921875 20.515625 \r\nQ 46.921875 27.09375 42.890625 30.859375 \r\nQ 38.875 34.625 31.78125 34.625 \r\nz\r\nM 21.921875 38.8125 \r\nQ 15.578125 40.375 12.03125 44.71875 \r\nQ 8.5 49.078125 8.5 55.328125 \r\nQ 8.5 64.0625 14.71875 69.140625 \r\nQ 20.953125 74.21875 31.78125 74.21875 \r\nQ 42.671875 74.21875 48.875 69.140625 \r\nQ 55.078125 64.0625 55.078125 55.328125 \r\nQ 55.078125 49.078125 51.53125 44.71875 \r\nQ 48 40.375 41.703125 38.8125 \r\nQ 48.828125 37.15625 52.796875 32.3125 \r\nQ 56.78125 27.484375 56.78125 20.515625 \r\nQ 56.78125 9.90625 50.3125 4.234375 \r\nQ 43.84375 -1.421875 31.78125 -1.421875 \r\nQ 19.734375 -1.421875 13.25 4.234375 \r\nQ 6.78125 9.90625 6.78125 20.515625 \r\nQ 6.78125 27.484375 10.78125 32.3125 \r\nQ 14.796875 37.15625 21.921875 38.8125 \r\nz\r\nM 18.3125 54.390625 \r\nQ 18.3125 48.734375 21.84375 45.5625 \r\nQ 25.390625 42.390625 31.78125 42.390625 \r\nQ 38.140625 42.390625 41.71875 45.5625 \r\nQ 45.3125 48.734375 45.3125 54.390625 \r\nQ 45.3125 60.0625 41.71875 63.234375 \r\nQ 38.140625 66.40625 31.78125 66.40625 \r\nQ 25.390625 66.40625 21.84375 63.234375 \r\nQ 18.3125 60.0625 18.3125 54.390625 \r\nz\r\n\" id=\"DejaVuSans-56\"/>\r\n      </defs>\r\n      <g transform=\"translate(286.042635 239.238437)scale(0.1 -0.1)\">\r\n       <use xlink:href=\"#DejaVuSans-56\"/>\r\n       <use x=\"63.623047\" xlink:href=\"#DejaVuSans-48\"/>\r\n       <use x=\"127.246094\" xlink:href=\"#DejaVuSans-48\"/>\r\n       <use x=\"190.869141\" xlink:href=\"#DejaVuSans-48\"/>\r\n       <use x=\"254.492188\" xlink:href=\"#DejaVuSans-48\"/>\r\n       <use x=\"318.115234\" xlink:href=\"#DejaVuSans-48\"/>\r\n      </g>\r\n     </g>\r\n    </g>\r\n   </g>\r\n   <g id=\"matplotlib.axis_2\">\r\n    <g id=\"ytick_1\">\r\n     <g id=\"line2d_6\">\r\n      <defs>\r\n       <path d=\"M 0 0 \r\nL -3.5 0 \r\n\" id=\"mbb0a713762\" style=\"stroke:#000000;stroke-width:0.8;\"/>\r\n      </defs>\r\n      <g>\r\n       <use style=\"stroke:#000000;stroke-width:0.8;\" x=\"30.103125\" xlink:href=\"#mbb0a713762\" y=\"214.756364\"/>\r\n      </g>\r\n     </g>\r\n     <g id=\"text_6\">\r\n      <!-- 0.0 -->\r\n      <defs>\r\n       <path d=\"M 10.6875 12.40625 \r\nL 21 12.40625 \r\nL 21 0 \r\nL 10.6875 0 \r\nz\r\n\" id=\"DejaVuSans-46\"/>\r\n      </defs>\r\n      <g transform=\"translate(7.2 218.555582)scale(0.1 -0.1)\">\r\n       <use xlink:href=\"#DejaVuSans-48\"/>\r\n       <use x=\"63.623047\" xlink:href=\"#DejaVuSans-46\"/>\r\n       <use x=\"95.410156\" xlink:href=\"#DejaVuSans-48\"/>\r\n      </g>\r\n     </g>\r\n    </g>\r\n    <g id=\"ytick_2\">\r\n     <g id=\"line2d_7\">\r\n      <g>\r\n       <use style=\"stroke:#000000;stroke-width:0.8;\" x=\"30.103125\" xlink:href=\"#mbb0a713762\" y=\"175.221818\"/>\r\n      </g>\r\n     </g>\r\n     <g id=\"text_7\">\r\n      <!-- 0.2 -->\r\n      <g transform=\"translate(7.2 179.021037)scale(0.1 -0.1)\">\r\n       <use xlink:href=\"#DejaVuSans-48\"/>\r\n       <use x=\"63.623047\" xlink:href=\"#DejaVuSans-46\"/>\r\n       <use x=\"95.410156\" xlink:href=\"#DejaVuSans-50\"/>\r\n      </g>\r\n     </g>\r\n    </g>\r\n    <g id=\"ytick_3\">\r\n     <g id=\"line2d_8\">\r\n      <g>\r\n       <use style=\"stroke:#000000;stroke-width:0.8;\" x=\"30.103125\" xlink:href=\"#mbb0a713762\" y=\"135.687273\"/>\r\n      </g>\r\n     </g>\r\n     <g id=\"text_8\">\r\n      <!-- 0.4 -->\r\n      <g transform=\"translate(7.2 139.486491)scale(0.1 -0.1)\">\r\n       <use xlink:href=\"#DejaVuSans-48\"/>\r\n       <use x=\"63.623047\" xlink:href=\"#DejaVuSans-46\"/>\r\n       <use x=\"95.410156\" xlink:href=\"#DejaVuSans-52\"/>\r\n      </g>\r\n     </g>\r\n    </g>\r\n    <g id=\"ytick_4\">\r\n     <g id=\"line2d_9\">\r\n      <g>\r\n       <use style=\"stroke:#000000;stroke-width:0.8;\" x=\"30.103125\" xlink:href=\"#mbb0a713762\" y=\"96.152727\"/>\r\n      </g>\r\n     </g>\r\n     <g id=\"text_9\">\r\n      <!-- 0.6 -->\r\n      <g transform=\"translate(7.2 99.951946)scale(0.1 -0.1)\">\r\n       <use xlink:href=\"#DejaVuSans-48\"/>\r\n       <use x=\"63.623047\" xlink:href=\"#DejaVuSans-46\"/>\r\n       <use x=\"95.410156\" xlink:href=\"#DejaVuSans-54\"/>\r\n      </g>\r\n     </g>\r\n    </g>\r\n    <g id=\"ytick_5\">\r\n     <g id=\"line2d_10\">\r\n      <g>\r\n       <use style=\"stroke:#000000;stroke-width:0.8;\" x=\"30.103125\" xlink:href=\"#mbb0a713762\" y=\"56.618182\"/>\r\n      </g>\r\n     </g>\r\n     <g id=\"text_10\">\r\n      <!-- 0.8 -->\r\n      <g transform=\"translate(7.2 60.417401)scale(0.1 -0.1)\">\r\n       <use xlink:href=\"#DejaVuSans-48\"/>\r\n       <use x=\"63.623047\" xlink:href=\"#DejaVuSans-46\"/>\r\n       <use x=\"95.410156\" xlink:href=\"#DejaVuSans-56\"/>\r\n      </g>\r\n     </g>\r\n    </g>\r\n    <g id=\"ytick_6\">\r\n     <g id=\"line2d_11\">\r\n      <g>\r\n       <use style=\"stroke:#000000;stroke-width:0.8;\" x=\"30.103125\" xlink:href=\"#mbb0a713762\" y=\"17.083636\"/>\r\n      </g>\r\n     </g>\r\n     <g id=\"text_11\">\r\n      <!-- 1.0 -->\r\n      <defs>\r\n       <path d=\"M 12.40625 8.296875 \r\nL 28.515625 8.296875 \r\nL 28.515625 63.921875 \r\nL 10.984375 60.40625 \r\nL 10.984375 69.390625 \r\nL 28.421875 72.90625 \r\nL 38.28125 72.90625 \r\nL 38.28125 8.296875 \r\nL 54.390625 8.296875 \r\nL 54.390625 0 \r\nL 12.40625 0 \r\nz\r\n\" id=\"DejaVuSans-49\"/>\r\n      </defs>\r\n      <g transform=\"translate(7.2 20.882855)scale(0.1 -0.1)\">\r\n       <use xlink:href=\"#DejaVuSans-49\"/>\r\n       <use x=\"63.623047\" xlink:href=\"#DejaVuSans-46\"/>\r\n       <use x=\"95.410156\" xlink:href=\"#DejaVuSans-48\"/>\r\n      </g>\r\n     </g>\r\n    </g>\r\n   </g>\r\n   <g id=\"patch_3\">\r\n    <path d=\"M 30.103125 224.64 \r\nL 30.103125 7.2 \r\n\" style=\"fill:none;stroke:#000000;stroke-linecap:square;stroke-linejoin:miter;stroke-width:0.8;\"/>\r\n   </g>\r\n   <g id=\"patch_4\">\r\n    <path d=\"M 364.903125 224.64 \r\nL 364.903125 7.2 \r\n\" style=\"fill:none;stroke:#000000;stroke-linecap:square;stroke-linejoin:miter;stroke-width:0.8;\"/>\r\n   </g>\r\n   <g id=\"patch_5\">\r\n    <path d=\"M 30.103125 224.64 \r\nL 364.903125 224.64 \r\n\" style=\"fill:none;stroke:#000000;stroke-linecap:square;stroke-linejoin:miter;stroke-width:0.8;\"/>\r\n   </g>\r\n   <g id=\"patch_6\">\r\n    <path d=\"M 30.103125 7.2 \r\nL 364.903125 7.2 \r\n\" style=\"fill:none;stroke:#000000;stroke-linecap:square;stroke-linejoin:miter;stroke-width:0.8;\"/>\r\n   </g>\r\n  </g>\r\n </g>\r\n <defs>\r\n  <clipPath id=\"paec5ff6581\">\r\n   <rect height=\"217.44\" width=\"334.8\" x=\"30.103125\" y=\"7.2\"/>\r\n  </clipPath>\r\n </defs>\r\n</svg>\r\n",
      "image/png": "[encoded data removed]"
     },
     "metadata": {
      "needs_background": "light"
     }
    }
   ],
   "source": [
    "for (v, c) in [(False, 'b'), (True, 'r')]:\n",
    "    plt.scatter(clean_state_df.cases[clean_state_df.Republican == v], clean_state_df.Republican[clean_state_df.Republican == v], s=100, c=c)"
   ]
  },
  {
   "cell_type": "code",
   "execution_count": 47,
   "metadata": {},
   "outputs": [],
   "source": [
    "# merged_df = pd.merge(new_df, clean_state_df, left_index=True, right_index=True)\n",
    "# final_df = merged_df.drop(['type_y', 'properties', 'geometry'], axis=1)\n",
    "# final_df.head()"
   ]
  },
  {
   "cell_type": "code",
   "execution_count": 48,
   "metadata": {},
   "outputs": [],
   "source": [
    "# final_df['type_x'] = final_df['type_x'].str.replace(' ', '')\n",
    "# final_df['coordinates'] = final_df['coordinates'].str.replace(' ', '')\n",
    "# final_df.columns = final_df.columns.str.replace(' ', '')\n",
    "# final_df.columns = final_df.columns.str.replace('%', '')\n",
    "\n",
    "#clean_state_df.to_csv('new_csv.csv')"
   ]
  },
  {
   "cell_type": "code",
   "execution_count": 49,
   "metadata": {},
   "outputs": [],
   "source": [
    "# def split_and_convert(s):\n",
    "#     bits = s[1:-1].split(',')\n",
    "#     return (\n",
    "#         int(bits[0]), bits[1], float(bits[2]),\n",
    "#         float(bits[3]), float(bits[4]), float(bits[5])\n",
    "#     )\n",
    "# data_to_dump = [split_and_convert(s) for s in data]\n",
    "# json.dumps(data_to_dump)"
   ]
  },
  {
   "cell_type": "code",
   "execution_count": 50,
   "metadata": {},
   "outputs": [],
   "source": [
    "# li = []\n",
    "\n",
    "# with open('new_csv.csv', 'r') as csvfile:\n",
    "#     reader = csv.reader(csvfile, delimiter=',')\n",
    "#     for geometry, NAME, total_votes20, votes20_Donald_Trump, votes20_Joe_Biden, cases, deaths, TotalPop, VotingAgeCitizen, Men, Women, Hispanic, White, Black, Native, Asian, Pacific, Biden, Trump, Republican, Democrat, hispanic_pop, white_pop, black_pop, native_pop, asian_pop, pacific_pop, cases_per_100k, deaths_per_100k in reader:\n",
    "#         d = OrderedDict()\n",
    "#         d['type'] = 'Feature'\n",
    "#         d['geometry'] = geometry\n",
    "#         d['properties'] = {\n",
    "#             'state': NAME,\n",
    "#             'total_votes20': total_votes20,\n",
    "#             'votes20_Donald_Trump': votes20_Donald_Trump,\n",
    "#             'votes20_Joe_Biden': votes20_Joe_Biden,\n",
    "#             'cases': cases,\n",
    "#             'deaths': deaths,\n",
    "#             'TotalPop': TotalPop,\n",
    "#             'VotingAgeCitizen': VotingAgeCitizen,\n",
    "#             'Men %': Men,\n",
    "#             'Women %': Women,\n",
    "#             'Hispanic %': Hispanic,\n",
    "#             'White %': White,\n",
    "#             'Black %': Black,\n",
    "#             'Native %': Native,\n",
    "#             'Asian %': Asian,\n",
    "#             'Pacific %': Pacific,\n",
    "#             'Biden %': Biden,\n",
    "#             'Trump %': Trump,\n",
    "#             'Republican': Republican,\n",
    "#             'Democrat': Democrat,\n",
    "#             'hispanic_pop': hispanic_pop,\n",
    "#             'white_pop': white_pop,\n",
    "#             'black_pop': black_pop,\n",
    "#             'native_pop': native_pop,\n",
    "#             'asian_pop': asian_pop,\n",
    "#             'pacific_pop': pacific_pop,\n",
    "#             'cases_per_100k': cases_per_100k,\n",
    "#             'deaths_per_100k': deaths_per_100k\n",
    "#             }\n",
    "#         li.append(d)\n",
    "         \n",
    "# d = OrderedDict()\n",
    "# d['type'] = 'FeatureCollection'\n",
    "# d['features'] = features\n",
    "# with open('GeoObs.json', 'w') as f:\n",
    "#     f.write(json.dumps(d, sort_keys=False, indent=4))"
   ]
  },
  {
   "cell_type": "code",
   "execution_count": 51,
   "metadata": {},
   "outputs": [],
   "source": [
    "# li = []\n",
    "# with open('new_csv.csv', newline='') as csvfile:\n",
    "#     reader = csv.DictReader(csvfile)\n",
    "#     for row in reader:\n",
    "#         li.append({\n",
    "#            \"type\": \"Feature\",\n",
    "#            \"geometry\": float(row[geometry]),\n",
    "#            \"geo\": {\n",
    "#                 \"__type\": \"GeoPoint\",\n",
    "#                 \"latitude\": float(row[\"latitude\"]),\n",
    "#                 \"longitude\": float(row[\"longitude\"]),\n",
    "#             }\n",
    "#         })\n",
    "# json.dump(li,open('file.json','w'),indent=4,sort_keys=False)"
   ]
  },
  {
   "cell_type": "code",
   "execution_count": 52,
   "metadata": {},
   "outputs": [],
   "source": [
    "# #for i in range(0, len(final_df['coordinates'])): \n",
    "#     #final_df['coordinates'][i] = int(float(final_df['coordinates'][i])) \n",
    "\n",
    "# for _, row in clean_state_df.iterrows():\n",
    "\n",
    "#     feature = {\"type\": \"Feature\", \"geometry\": row['geometry'], \"properties\": {\"state\": row['NAME'], \"total_votes20\": row['total_votes20'], \"votes20_Donald_Trump\": row['votes20_Donald_Trump'], \"votes20_Joe_Biden\": row['votes20_Joe_Biden'], \"cases\": row['cases'], \"deaths\": row['deaths'], \"TotalPop\": row['TotalPop'], 'VotingAgeCitizen': row['VotingAgeCitizen'], \"Men\": row['Men %'],\n",
    "#     \"Women\": row['Women %'], 'Hispanic %': row['Hispanic %'], 'White %': row['White %'], 'Black %': row['Black %'], 'Native %': row['Native %'], 'Asian %': row['Asian %'], 'Pacific %': row['Pacific %'], 'Biden %': row['Biden %'], 'Trump %': row['Trump %'], 'Republican': row['Republican'], 'Democrat': row['Democrat'], 'hispanic_pop': row['hispanic_pop'], 'white_pop': row['white_pop'], 'black_pop': row['black_pop'], 'native_pop': row['native_pop'], 'asian_pop': row['asian_pop'], 'pacific_pop': row['pacific_pop'], 'cases_per_100k': row['cases_per_100k'], 'deaths_per_100k': row['deaths_per_100k']}\n",
    "# }\n",
    "\n",
    "#     geojson['features'].append(feature)\n",
    "\n",
    "# with open('new.geojson', 'w') as fp:\n",
    "#     (json.dump(geojson, fp)) \n"
   ]
  },
  {
   "cell_type": "code",
   "execution_count": 53,
   "metadata": {},
   "outputs": [],
   "source": [
    "def df_to_geojson(clean_state_df):\n",
    "    geojson = {'type':'FeatureCollection', 'features':[]}\n",
    "    for _, row in clean_state_df.iterrows():\n",
    "\n",
    "        geometry = json.loads(row['geometry'])\n",
    "\n",
    "        feature = { 'type':'Feature',\n",
    "                    'geometry': geometry,\n",
    "                   'properties': {\"state\": row['NAME'], \"total_votes20\": row['total_votes20'], \"votes20_Donald_Trump\": row['votes20_Donald_Trump'], \"votes20_Joe_Biden\": row['votes20_Joe_Biden'], \"cases\": row['cases'], \"deaths\": row['deaths'], \"TotalPop\": row['TotalPop'], 'VotingAgeCitizen': row['VotingAgeCitizen'], \"Men\": row['Men %'],\n",
    "    \"Women\": row['Women %'], 'Hispanic': row['Hispanic %'], 'White': row['White %'], 'Black': row['Black %'], 'Native': row['Native %'], 'Asian': row['Asian %'], 'Pacific': row['Pacific %'], 'Biden': row['Biden %'], 'Trump': row['Trump %'], 'Republican': row['Republican'], 'Democrat': row['Democrat'], 'hispanic_pop': row['hispanic_pop'], 'white_pop': row['white_pop'], 'black_pop': row['black_pop'], 'native_pop': row['native_pop'], 'asian_pop': row['asian_pop'], 'pacific_pop': row['pacific_pop'], 'cases_per_100k': row['cases_per_100k'], 'deaths_per_100k': row['deaths_per_100k']}\n",
    "        }\n",
    "        #print({ \"geometry\": {row.geometry['coordinates']}} )\n",
    "        #feature['geometry']['coordinates'] = [row[lon],row[lat]]\n",
    "        #for prop in properties:\n",
    "            #feature['properties'][prop] = row[prop]\n",
    "        geojson['features'].append(feature)\n",
    "\n",
    "    return geojson"
   ]
  },
  {
   "cell_type": "code",
   "execution_count": 54,
   "metadata": {},
   "outputs": [],
   "source": [
    "#cols = ['street_address', 'issue_type', 'status']\n",
    "#df_to_geojson(clean_state_df)"
   ]
  },
  {
   "cell_type": "code",
   "execution_count": 55,
   "metadata": {},
   "outputs": [],
   "source": [
    "#output_filename = 'data.geojson'\n",
    "#with open(output_filename, 'w') as output_file:\n",
    "#    json.dump(geojson, output_file, indent=2) \n",
    "\n",
    "#print(geojson)"
   ]
  },
  {
   "cell_type": "code",
   "execution_count": 56,
   "metadata": {},
   "outputs": [],
   "source": [
    "## Create PostgreSQL RDS Database Connection\n",
    "# conn_string = \"postgres:{pwd}@project2.cy7mfzyzcf0j.us-east-2.rds.amazonaws.com:5432/project2db\"\n",
    "# engine = create_engine(f'postgresql://{conn_string}')\n",
    "# Check table names\n",
    "# engine.table_names()\n",
    "# import csv\n",
    "# with open('state_data.csv') as csvfile:\n",
    "#     myCSVReader = csv.DictReader(csvfile)\n",
    "#     change names in placeholder to match names in csv file.\n",
    "#     sql = \"\"\"INSERT INTO State(index,type,coordinates,state,total_votes20,votes20_Donald_Trump,votes20_Joe_Biden,cases,deaths,TotalPop,VotingAgeCitizen,Men,Women,Hispanic,White,Black,Native,Asian,Pacific,Biden,Trump,Republican,Democrat,hispanic_pop,white_pop,black_pop,native_pop,asian_pop,pacific_pop,cases_per_100k,deaths_per_100k\n",
    "# )\n",
    "#           VALUES (%(index)s,%(type)s,%(coordinates)s,%(state)s,%(total_votes20)s,%(votes20_Donald_Trump)s,%(votes20_Joe_Biden)s,%(cases)s,%(deaths)s,%(TotalPop)s, %(VotingAgeCitizen)s,%(Men)s,%(Women)s, %(Hispanic)s,%(White)s,%(Black)s, %(Native)s,%(Asian)s,%(Pacific)s, %(Biden)s,%(Trump)s,%(Republican)s, %(Democrat)s,%(hispanic_pop)s,%(white_pop)s, %(black_pop)s,%(native_pop)s,%(asian_pop)s, %(pacific_pop)s,%(cases_per_100k)s,%(deaths_per_100k)s)\"\"\"\n",
    "#     for row in myCSVReader:\n",
    "#         use row directly\n",
    "#         engine.execute(sql, row)\n",
    "#pd.read_sql_query('select * from state', con=engine).head()"
   ]
  },
  {
   "cell_type": "code",
   "execution_count": 57,
   "metadata": {},
   "outputs": [],
   "source": [
    "#final_df.to_csv('state_data.csv')"
   ]
  }
 ]
}